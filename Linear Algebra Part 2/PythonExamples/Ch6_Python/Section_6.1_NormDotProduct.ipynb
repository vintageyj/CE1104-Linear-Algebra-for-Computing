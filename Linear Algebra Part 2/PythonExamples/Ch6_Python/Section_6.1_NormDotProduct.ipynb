{
 "cells": [
  {
   "cell_type": "code",
   "execution_count": 1,
   "metadata": {},
   "outputs": [],
   "source": [
    "# Dot Product\n",
    "# Author: Zhang Su (Teaching Assistant)\n",
    "# Using python3, numpy, matplotlib\n",
    "# 1 June 2020"
   ]
  },
  {
   "cell_type": "markdown",
   "metadata": {},
   "source": [
    "# Learning Outcome\n",
    "\n",
    "By the end of this material, you should be able to:\n",
    "\n",
    "+ Import and abbreviate libraries,\n",
    "+ Initiate row and column vectors,\n",
    "+ Calculate norm, distance, normalization and dot product using Numpy libraries and your own implementations,\n",
    "+ Verify the equalities or inequalities.\n",
    "\n",
    "Note: \n",
    "1. If you occasionally double clicked a textual cell, the display would change to markdown source code. To reverse, simply click anywhere of that markdown cell,  and then click **Run** in the top manu.\n",
    "2. Sometimes the notebook may not be responding. That is caused by the failure of jupyter kernel. To repair, try clicking **Kernel** in the top manu, then clicking **Reconnect**. \n",
    "3. Section Takeaways summarizes useful tips, e.g., holes of Python to avoid, if any.\n",
    "4. Section Practice reflect the learning outcomes. You are expected to solve them based on your understanding on the lecture notes alone with the coding skills learned from this demo."
   ]
  },
  {
   "cell_type": "markdown",
   "metadata": {},
   "source": [
    "# Table of contents <a name=\"Table_of_Content\"></a>\n",
    "\n",
    "+ 6.1.1. [Review of Vectors](#Review) \n",
    "+ 6.1.2. [Norm](#Norm) \n",
    "+ 6.1.2. [Unit Vector](#Normalization) \n",
    "+ 6.1.3. [Dot product](#Dot_product) \n",
    "+ 6.1.4. [Inequality](#Inequality) \n",
    "+ [Takeaways](#Takeaways) \n",
    "+ [Practice](#Practice)\n",
    "\n",
    "Usually, **Numpy** is the most relevant library to our topic. For convenience, we also specify `numpy.linalg` as `la`. How do I know to use them? Because I googled. Actually, you can simply google \"python norm\" to find plenty of useful [documents](https://numpy.org/doc/stable/reference/generated/numpy.linalg.norm.html) or tutorials to calculate the norm, from which I know that Numpy is the only one to include. In short, a format of \"Language+Operation\" or \"Language+Library+Operation\" is a good starting point of google search for this coding task. \n",
    "\n",
    "Let's import the libraries."
   ]
  },
  {
   "cell_type": "code",
   "execution_count": 1,
   "metadata": {},
   "outputs": [],
   "source": [
    "import numpy as np\n",
    "from numpy import linalg as la\n",
    "import matplotlib.pyplot as plt # For visualization"
   ]
  },
  {
   "cell_type": "markdown",
   "metadata": {},
   "source": [
    "### Review of Vectors<a name=\"Review\"></a> \n",
    "[Return to Table of Content](#Table_of_Content)\n",
    "\n",
    "**This part of code is for Section 6.1.1.**\n",
    "\n",
    "A vector is an object that has both a length and a direction. Suppose that we have three points $O$, $P_1$, and $P_2$, we can obtain three vectors \n",
    "$$\n",
    "\\begin{align}\n",
    "\\overrightarrow{OP_1}&=P_1-O, \\tag{1} \\\\\n",
    "\\overrightarrow{OP_2}&=P_2-O, \\tag{2}\\\\\n",
    "\\overrightarrow{P_1P_2}&=P_2-P_1, \\tag{3}\n",
    "\\end{align}\n",
    "$$\n",
    "\n",
    "where $\\overrightarrow{P_1P_2}=\\overrightarrow{OP_2}-\\overrightarrow{OP_1}$. \n",
    "\n",
    "Let's see what Python can do to achieve this.\n",
    "\n"
   ]
  },
  {
   "cell_type": "code",
   "execution_count": 3,
   "metadata": {},
   "outputs": [
    {
     "name": "stdout",
     "output_type": "stream",
     "text": [
      "P1P2 =  [2 1]\n",
      "OP2-OP1 =  [2 1]\n",
      "Are they equal? True\n"
     ]
    },
    {
     "data": {
      "image/png": "[encoded data removed]",
      "text/plain": [
       "<Figure size 432x288 with 1 Axes>"
      ]
     },
     "metadata": {
      "needs_background": "light"
     },
     "output_type": "display_data"
    }
   ],
   "source": [
    "# Initiate the three points\n",
    "O = np.array([0, 0])\n",
    "P1 = np.array([1, 2])\n",
    "P2 = np.array([3, 3])\n",
    "\n",
    "# Creat the vectors\n",
    "OP1 = P1 - O   # Eq. 1\n",
    "OP2 = P2 - O   # Eq. 2\n",
    "P1P2 = P2 - P1 # Eq. 3\n",
    "\n",
    "# Check if P1P2 = OP2 - OP1\n",
    "print(\"P1P2 = \", P1P2)\n",
    "print(\"OP2-OP1 = \", OP2 - OP1)\n",
    "print(\"Are they equal?\", np.allclose(P1P2, OP2 - OP1)) # Check the element-wise equality.\n",
    "\n",
    "\n",
    "######### Below is for visualization. \n",
    "\n",
    "# Draw the three points. s variable is the size of the marker.\n",
    "plt.scatter(O[0], O[1], s=100)\n",
    "plt.scatter(P1[0], P1[1], s=100)\n",
    "plt.scatter(P2[0], P2[1], s=100)\n",
    "\n",
    "# Draw the three arrow.\n",
    "plt.arrow(O[0], O[1], P1[0], P1[1], head_width=0.1, head_length=0.1, fc='k', ec='k')\n",
    "plt.arrow(O[0], O[1], P2[0], P2[1], head_width=0.1, head_length=0.1, fc='k', ec='k')\n",
    "plt.arrow(P1[0], P1[1], P2[0] - P1[0], P2[1] - P1[1], head_width=0.1, head_length=0.1, fc='k', ec='k')\n",
    "\n",
    "# Place the name of the points\n",
    "plt.text(O[0], O[1]+0.2, 'O', fontsize=12)\n",
    "plt.text(P1[0], P1[1]+0.2, 'P1', fontsize=12)\n",
    "plt.text(P2[0], P2[1]-0.2, 'P2', fontsize=12)\n",
    "\n",
    "plt.show()"
   ]
  },
  {
   "cell_type": "markdown",
   "metadata": {},
   "source": [
    "In above cell we have shown how to creat vectors by the subtraction of point coordinates. Mostly in this course, the vector is already given. What matters is how to initiate the vector using `Numpy`.\n",
    "\n",
    "In the cell below, we initiate a column vector $v$, and a row vector $u$, and two other random vectors $x$ and $y$ in $\\mathbb{R}^3$. Pay attention to the double square brackets `np.array([[]])`, and the transpose `.T`."
   ]
  },
  {
   "cell_type": "code",
   "execution_count": 4,
   "metadata": {},
   "outputs": [
    {
     "name": "stdout",
     "output_type": "stream",
     "text": [
      "The column vector u =\n",
      " [[ 3]\n",
      " [-1]\n",
      " [-5]]\n",
      "It's shape is  (3, 1)\n",
      "\n",
      "The row vector v =\n",
      " [[ 6 -2  3]]\n",
      "It's shape is  (1, 3)\n",
      "\n",
      "The column vector v =\n",
      " [[0.55951777]\n",
      " [0.65943763]\n",
      " [0.70728613]]\n",
      "It's shape is  (3, 1)\n",
      "\n",
      "The row vector u =\n",
      " [[0.47125331 0.41005891 0.4520101 ]]\n",
      "It's shape is  (1, 3)\n"
     ]
    }
   ],
   "source": [
    "u = np.array([[3,-1,-5]]).T  # Make sure that there are double square brackets.\n",
    "v = np.array([[6,-2,3]])\n",
    "x = np.random.rand(3,1) # Or if you wish to randomize. \n",
    "y = np.random.rand(1,3)\n",
    "\n",
    "print('The column vector u =\\n',u)\n",
    "print(\"It's shape is \", u.shape)\n",
    "\n",
    "print('\\nThe row vector v =\\n',v)\n",
    "print(\"It's shape is \", v.shape)\n",
    "\n",
    "print('\\nThe column vector v =\\n',x)\n",
    "print(\"It's shape is \", x.shape)\n",
    "\n",
    "print('\\nThe row vector u =\\n',y)\n",
    "print(\"It's shape is \", y.shape)"
   ]
  },
  {
   "cell_type": "markdown",
   "metadata": {},
   "source": [
    "What if we use single square bracket? The cell below shows that we have lost control on the shape.\n",
    "\n",
    "To conclude, the initialization using double square brackets follows a standard matrix notation. **Please use double square brackets!!**"
   ]
  },
  {
   "cell_type": "code",
   "execution_count": 5,
   "metadata": {},
   "outputs": [
    {
     "name": "stdout",
     "output_type": "stream",
     "text": [
      "The column vector u values =\n",
      " [ 3 -1 -5]\n",
      "It's shape is  (3,)\n",
      "\n",
      "The row vector v values =\n",
      " [ 6 -2  3]\n",
      "It's shape is  (3,)\n"
     ]
    }
   ],
   "source": [
    "u = np.array([3,-1,-5]).T  # Make sure that there are double square brackets.\n",
    "v = np.array([6,-2,3])\n",
    "# x = np.random.rand(3,1) # Or if you wish to randomize. \n",
    "\n",
    "print('The column vector u values =\\n',u)\n",
    "print(\"It's shape is \", u.shape)\n",
    "\n",
    "print('\\nThe row vector v values =\\n',v)\n",
    "print(\"It's shape is \", v.shape)"
   ]
  },
  {
   "cell_type": "markdown",
   "metadata": {},
   "source": [
    "### Norm<a name=\"Norm\"></a> \n",
    "[Return to Table of Content](#Table_of_Content)\n",
    "\n",
    "**This part of code is for Section 6.1.2.**\n",
    "\n",
    "In our lecture, when we say \"norm\", we actually mean the l2-norm. There exists other norms, say, l1-norm, infinity norm, etc, which are out of the scope of this course. We simply stick to l2-norm in the remainder of this script.\n",
    "\n",
    "Norm is a kind of metric. It measures the length of a vector, or the distance of two vectors, thanks to the mighty definition of **vector space**. \n",
    "\n",
    "The length of $u$ is written as:\n",
    "\n",
    "$$\n",
    "||u||=\\sqrt{u_1u_1+u_2u_2+\\ldots+u_nu_n}=\\sqrt{\\sum_{i=1}^nu_iu_i} \\tag{4},\n",
    "$$\n",
    "\n",
    "and the distance of $u$ and $v$ is written as:\n",
    "\n",
    "$$\n",
    "||u-v||=\\sqrt{(u_1-v_1)(u_1-v_1)+(u_2-v_2)(u_2-v_2)+\\ldots+(u_n-v_n)(u_n-v_n)}=\\sqrt{\\sum_{i=1}^n(u_i-v_i)(u_i-v_i)} \\tag{5}.\n",
    "$$\n",
    "\n",
    "Let's implement a function to calculate the norm following Eq. (4). To do so, we may simply google \"numpy iterating over arrays\", and we can find many useful tutorials, like [this one](https://numpy.org/doc/stable/reference/arrays.nditer.html)."
   ]
  },
  {
   "cell_type": "code",
   "execution_count": 6,
   "metadata": {},
   "outputs": [
    {
     "name": "stdout",
     "output_type": "stream",
     "text": [
      "Numpy norm of u  =\n",
      " 5.916079783099616\n",
      "My own norm of u  =\n",
      " 5.916079783099616\n",
      "Numpy norm of v  =\n",
      " 7.0\n",
      "My own norm of v  =\n",
      " 7.0\n"
     ]
    }
   ],
   "source": [
    "def my_norm(u):\n",
    "# The manual implementation of norm\n",
    "# Input: a column or row vector u\n",
    "# Output: the norm of u\n",
    "    \n",
    "    # Sanity check.\n",
    "    # Make sure that u is a column or row vector\n",
    "    assert min(u.shape[0], u.shape[1]) == 1\n",
    "    \n",
    "    # Eq. 4\n",
    "    norm = 0\n",
    "    for ui in np.nditer(u):\n",
    "        norm += ui*ui\n",
    "    \n",
    "    return np.sqrt(norm)\n",
    "\n",
    "\n",
    "u = np.array([[3,-1,-5]]).T  # Make sure that there are double square brackets.\n",
    "v = np.array([[6,-2,3]]).T\n",
    "\n",
    "norm_u = la.norm(u) \n",
    "norm_v = la.norm(v) \n",
    "\n",
    "my_norm_u = my_norm(u) # Eq. 4\n",
    "my_norm_v = my_norm(v) # Eq. 4\n",
    "\n",
    "print('Numpy norm of u  =\\n', norm_u)\n",
    "print('My own norm of u  =\\n', my_norm_u)\n",
    "print('Numpy norm of v  =\\n', norm_v)\n",
    "print('My own norm of v  =\\n', my_norm_v)"
   ]
  },
  {
   "cell_type": "code",
   "execution_count": 7,
   "metadata": {},
   "outputs": [
    {
     "name": "stdout",
     "output_type": "stream",
     "text": [
      "The distance of u and v =\n",
      " 8.602325267042627\n"
     ]
    }
   ],
   "source": [
    "dist_uv = la.norm(u-v) # Eq. 5\n",
    "\n",
    "print('The distance of u and v =\\n',dist_uv)"
   ]
  },
  {
   "cell_type": "markdown",
   "metadata": {},
   "source": [
    "### Unit Vector<a name=\"Normalization\"></a>\n",
    "[Return to Table of Content](#Table_of_Content)\n",
    "\n",
    "**This part of code is for Section 6.1.2.**\n",
    "\n",
    "To obtain a unit vector, the normalization is required. The normalization of $u$ is written as:\n",
    "\n",
    "$$\n",
    "u_{unit}=\\frac{u}{||u||}, \\tag{6}\n",
    "$$\n",
    "\n",
    "where $u_{unit}$ is a unit vector.\n",
    "\n",
    "`numpy` has no method for normalize a vector to unit length. Therefore we have to to manually implement it following the formula."
   ]
  },
  {
   "cell_type": "code",
   "execution_count": 8,
   "metadata": {},
   "outputs": [
    {
     "name": "stdout",
     "output_type": "stream",
     "text": [
      "The normalized u =\n",
      " [[ 0.50709255]\n",
      " [-0.16903085]\n",
      " [-0.84515425]],\n",
      " its length =1.0\n",
      "Unit vector? True\n",
      "\n",
      "\n",
      "The normalized v =\n",
      " [[ 0.85714286]\n",
      " [-0.28571429]\n",
      " [ 0.42857143]],\n",
      " its length =0.9999999999999999\n",
      "Unit vector? True\n"
     ]
    }
   ],
   "source": [
    "# Eq. 6\n",
    "unit_u = u / norm_u\n",
    "unit_v = v / norm_v\n",
    "\n",
    "print('The normalized u =\\n {},\\n its length ={}'.format(unit_u, la.norm(unit_u)))\n",
    "print('Unit vector?', np.allclose(la.norm(unit_u), 1))\n",
    "print('\\n')\n",
    "\n",
    "print('The normalized v =\\n {},\\n its length ={}'.format(unit_v, la.norm(unit_v)))\n",
    "print('Unit vector?', np.allclose(la.norm(unit_v), 1))"
   ]
  },
  {
   "cell_type": "markdown",
   "metadata": {},
   "source": [
    "### Dot product<a name=\"Dot_product\"></a>\n",
    "[Return to Table of Content](#Table_of_Content)\n",
    "\n",
    "**This part of code is for Section 6.1.3.**\n",
    "\n",
    "The dot product of $w$ and $x$ is written as:\n",
    "\n",
    "$$\n",
    "u\\cdot v = u_1v_1+u_2v_2+\\ldots+u_nv_n=\\sum_{i=1}^nu_iv_i. \\tag{7}\n",
    "$$\n",
    "\n",
    "There are several equivalent ways to calculate the dot product in Python.\n",
    "\n",
    "`np.dot` usually works in a matrix operation manner. Therefore we have to carefully shape the vectors to match the dimension requirement. In our example, `u` and `v` are all $3\\times 1$ dimensional. The mutiplication of two $3\\times 1$ matrices doesn't make sense. We have to transpose one of them so that an $1\\times 1$ matrix ($1\\times 3$ by $3\\times 1$) or $3\\times 3$ matrix ($3\\times 1$ by $1\\times 3$) can be obtained. The former is also called **inner product**, which is exactly covered by our course. (The latter is called **outer product** if you would like to know :)\n",
    "\n",
    "`np.multiply` works on any two vectors or matrices with the same dimension. In our example, two $3\\times 1$ vectors will be fine. Compared to `np.dot`, we do not need to transpose, but have to sum the elements after the element-wise multiplication.\n",
    "\n",
    "And, if you are sure that the two variables have the same dimension, you may simply use `*` operator. However, a scalar  can also multiply with a vector obtaining another vector, e.g., `3 * [1,2,3] = [3,6,9]`, which may cause unexpected bug.\n",
    "\n",
    "Run the following cell and see the results. The outputs have the same value but different data shapes. (**We will mostly use the first method in our course.**)"
   ]
  },
  {
   "cell_type": "code",
   "execution_count": 9,
   "metadata": {},
   "outputs": [
    {
     "name": "stdout",
     "output_type": "stream",
     "text": [
      "The dot product of u and v =\n",
      " [[5]]\n",
      "The dot product of u and v =\n",
      " 5\n",
      "The dot product of u and v =\n",
      " 5\n"
     ]
    }
   ],
   "source": [
    "# Three equivalent for Eq. 7\n",
    "dot_uv = u.T.dot(v) # Be careful for the transpose. Here we transpose u so that a scalar can be obtained.\n",
    "dot_uv_2 = np.multiply(u,v).sum()\n",
    "dot_uv_3 = (u * v).sum() # This one is dangerous.\n",
    "\n",
    "print('The dot product of u and v =\\n',dot_uv)\n",
    "print('The dot product of u and v =\\n',dot_uv_2)\n",
    "print('The dot product of u and v =\\n',dot_uv_3)"
   ]
  },
  {
   "cell_type": "markdown",
   "metadata": {},
   "source": [
    "### Inequality<a name=\"Inequality\"></a>\n",
    "[Return to Table of Content](#Table_of_Content)\n",
    "\n",
    "**This part of code is for Section 6.1.4.**\n",
    "\n",
    "There are two inequalities and one equation in this section, the Cauchy-Schwarz, the triangle and the parallelogram equation.\n",
    "\n",
    "We can simply verify them using random vectors in Python."
   ]
  },
  {
   "cell_type": "markdown",
   "metadata": {},
   "source": [
    "#### Cosine and Cauchy-Schwarz Inequality\n",
    "\n",
    "\n",
    "The Cauchy-Schwarz Inequality is strongly relevant to the cosine formula as below.\n",
    "\n",
    "$$\n",
    "-1\\leq\\cos(\\theta)=\\frac{u\\cdot v}{||u||\\cdot||v||}\\leq 1, \\tag{8}\n",
    "$$\n",
    "\n",
    "where $\\theta$ is the angle between vector $u$ and $v$.\n",
    "\n",
    "The cosine, ranged in [-1,+1] can be taken as a continuous measure of **similarity**. The larger the cosine is, the more similar the two vectors are.\n",
    "\n",
    "There are two ways to calculate the cosine, depending on whether the vectors are unit or not."
   ]
  },
  {
   "cell_type": "code",
   "execution_count": 10,
   "metadata": {},
   "outputs": [
    {
     "name": "stdout",
     "output_type": "stream",
     "text": [
      "The cosine of u and v =\n",
      " [[0.91698982]]\n",
      "The cosine of u and v =\n",
      " [[0.91698982]]\n",
      "Are they equal? True\n"
     ]
    }
   ],
   "source": [
    "# Initiate the vectors, calculate the norm and carry out normalization.\n",
    "u = np.random.rand(3,1)\n",
    "v = np.random.rand(3,1)\n",
    "\n",
    "norm_u = la.norm(u)\n",
    "norm_v = la.norm(v)\n",
    "\n",
    "unit_u = u / norm_u\n",
    "unit_v = v / norm_v\n",
    "\n",
    "# Eq. 8\n",
    "# If not unit vector\n",
    "cos_uv = np.dot(u.T, v/(norm_u * norm_v))\n",
    "# If unit vector\n",
    "cos_uv_2 = unit_u.T.dot(unit_v)\n",
    "\n",
    "\n",
    "print('The cosine of u and v =\\n',cos_uv)\n",
    "print('The cosine of u and v =\\n',cos_uv_2)\n",
    "print('Are they equal?', np.allclose(cos_uv, cos_uv_2))"
   ]
  },
  {
   "cell_type": "markdown",
   "metadata": {},
   "source": [
    "Let's check the inequality, i.e.:\n",
    "\n",
    "$$\n",
    "\\begin{equation}\n",
    "\\|u\\cdot v\\|\\leq\\|u\\|\\|v\\|. \\tag{9}\n",
    "\\end{equation}\n",
    "$$"
   ]
  },
  {
   "cell_type": "code",
   "execution_count": 11,
   "metadata": {},
   "outputs": [
    {
     "name": "stdout",
     "output_type": "stream",
     "text": [
      "Less than or equal to? True\n"
     ]
    }
   ],
   "source": [
    "u = np.random.rand(3,1)\n",
    "v = np.random.rand(3,1)\n",
    "\n",
    "# Eq. 9\n",
    "left_hand_side = la.norm(u.dot(v.T))\n",
    "right_hand_side = la.norm(u) * la.norm(v) # We can safely use * operator since the norm is always a scalar.\n",
    "\n",
    "print(\"Less than or equal to?\", left_hand_side <= right_hand_side)"
   ]
  },
  {
   "cell_type": "markdown",
   "metadata": {},
   "source": [
    "#### Triangle Inequality\n",
    "\n",
    "For the triangle inequality, let's check the following inequalities:\n",
    "\n",
    "$$\n",
    "\\begin{equation}\n",
    "\\|u + v\\|\\leq\\|u\\|+\\|v\\|. \\tag{10}\n",
    "\\end{equation}\n",
    "$$\n",
    "\n",
    "$$\n",
    "\\begin{equation}\n",
    "d(u, v)\\leq d(u, w)+d(w, v). \\tag{11}\n",
    "\\end{equation}\n",
    "$$"
   ]
  },
  {
   "cell_type": "code",
   "execution_count": 12,
   "metadata": {},
   "outputs": [
    {
     "name": "stdout",
     "output_type": "stream",
     "text": [
      "Less than or equal to? True\n",
      "Less than or equal to? True\n"
     ]
    }
   ],
   "source": [
    "u = np.random.rand(3,1)\n",
    "v = np.random.rand(3,1)\n",
    "w = np.random.rand(3,1)\n",
    "\n",
    "# Eq. 10\n",
    "left_hand_side = la.norm(u + v)\n",
    "right_hand_side = la.norm(u) + la.norm(v)\n",
    "print(\"Less than or equal to?\", left_hand_side <= right_hand_side)\n",
    "\n",
    "# Eq. 11\n",
    "left_hand_side = la.norm(u - v)\n",
    "right_hand_side = la.norm(u - w) + la.norm(w - v)\n",
    "print(\"Less than or equal to?\", left_hand_side <= right_hand_side)"
   ]
  },
  {
   "cell_type": "markdown",
   "metadata": {},
   "source": [
    "#### Parallelogram Equation\n",
    "\n",
    "For the parallelogram equation, let's check the following equalities:\n",
    "\n",
    "$$\n",
    "\\begin{equation}\n",
    "\\|u + v\\|^2+\\|u - v\\|^2=2(\\|u\\|^2+\\|v\\|^2). \\tag{12}\n",
    "\\end{equation}\n",
    "$$\n",
    "\n",
    "$$\n",
    "\\begin{equation}\n",
    "u\\cdot v = \\frac{1}{4}\\|u + v\\|^2 - \\frac{1}{4}\\|u - v\\|^2. \\tag{13}\n",
    "\\end{equation}\n",
    "$$\n"
   ]
  },
  {
   "cell_type": "code",
   "execution_count": 13,
   "metadata": {},
   "outputs": [
    {
     "name": "stdout",
     "output_type": "stream",
     "text": [
      "Are the both sides of Eq. 12 equal? True\n"
     ]
    }
   ],
   "source": [
    "u = np.random.rand(3,1)\n",
    "v = np.random.rand(3,1)\n",
    "\n",
    "# Eq. 12\n",
    "left_hand_side = la.norm(u + v) ** 2 + la.norm(u - v) ** 2\n",
    "right_hand_side = 2 * (la.norm(u) ** 2 + la.norm(v) ** 2)\n",
    "print(\"Are the both sides of Eq. 12 equal?\", np.isclose(left_hand_side,right_hand_side))\n",
    "\n",
    "# Eq. 13 is left for practice.\n",
    "# :)"
   ]
  },
  {
   "cell_type": "markdown",
   "metadata": {},
   "source": [
    "### Takeaways<a name=\"Takeaways\"></a>\n",
    "[Return to Table of Content](#Table_of_Content)\n",
    "\n",
    "\n",
    "1. Utilize google wisely! Though the TA works hard to make everything clear, the demo may still inevitably overlook something and confuse you. In this case, you are strongly to abstract your problem and google it. \n",
    "2. The dimension, or shape in a friendlier form, is extremely crucial throughout all the Python files. Sometimes the program may produce unexpected results without errors. You may use `.shape` method to verify a numpy ndarray, or use `assert` command as we did in `my_norm()`, to guarantee the correctness.\n",
    "3. Use double square brackets to initiate a vector, so that it follows and preserves a standard matrix notation.\n",
    "4. use `numpy.allclose` or `numpy.isclose` to verify the equality of two vectors/matrices or scalars, respectively."
   ]
  },
  {
   "cell_type": "markdown",
   "metadata": {},
   "source": [
    "### Practice<a name=\"Practice\"></a>\n",
    "[Return to Table of Content](#Table_of_Content)\n",
    "\n",
    "**This part can get you ready for the lab!**\n",
    "\n",
    "1. Initiate three column vectors $u$, $v$ and $w$ in $\\mathbb{R}^5$, one by hand-craft, and the rest by randomization.\n",
    "2. Implement your own routines to calculate distance, dot product, unit vectors, and cosine following Eq. 5, 6, 7, and 8, respectively.\n",
    "2. Compute their norms, dot products, and corresponding unit vectors using your own implementation, and compare your result against Numpy routines.\n",
    "3. What's the advantage of unit vectors compared to their vanilla counterpart before the normalization?\n",
    "4. Of $u$ and $v$, which one is more similar to $w$? Why?\n",
    "5. Verify that $u$ and $v$ obey Eq. 13. "
   ]
  },
  {
   "cell_type": "code",
   "execution_count": null,
   "metadata": {},
   "outputs": [],
   "source": []
  }
 ],
 "metadata": {
  "kernelspec": {
   "display_name": "Python 3",
   "language": "python",
   "name": "python3"
  },
  "language_info": {
   "codemirror_mode": {
    "name": "ipython",
    "version": 3
   },
   "file_extension": ".py",
   "mimetype": "text/x-python",
   "name": "python",
   "nbconvert_exporter": "python",
   "pygments_lexer": "ipython3",
   "version": "3.8.5"
  }
 },
 "nbformat": 4,
 "nbformat_minor": 2
}
