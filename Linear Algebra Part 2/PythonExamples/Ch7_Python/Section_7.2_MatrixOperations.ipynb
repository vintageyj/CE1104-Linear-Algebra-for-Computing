{
 "cells": [
  {
   "cell_type": "code",
   "execution_count": 1,
   "metadata": {},
   "outputs": [],
   "source": [
    "# Basic Matrix Algebra\n",
    "# Author: Zhang Su (Teaching Assistant)\n",
    "# Using python3, numpy\n",
    "# 15 June 2020"
   ]
  },
  {
   "cell_type": "markdown",
   "metadata": {},
   "source": [
    "# Learning Outcome\n",
    "\n",
    "By the end of this material, you should be able to:\n",
    "\n",
    "+ Carry out all the basic matrix operations using Python Numpy,\n",
    "+ Translate long matrix equations to Python Numpy for calculation.\n",
    "\n",
    "Note: \n",
    "1. If you occasionally double clicked a textual cell, the display would change to markdown source code. To reverse, simply click anywhere of that markdown cell,  and then click **Run** in the top manu.\n",
    "2. Sometimes the notebook may not be responding. That is caused by the failure of jupyter kernel. To repair, try clicking **Kernel** in the top manu, then clicking **Reconnect**. \n",
    "3. Section Takeaways summarizes useful tips, e.g., holes of Python to avoid, if any.\n",
    "4. Section Practice reflect the learning outcomes. You are expected to solve them based on your understanding on the lecture notes alone with the coding skills learned from this demo."
   ]
  },
  {
   "cell_type": "markdown",
   "metadata": {},
   "source": [
    "# Table of contents <a name=\"Table_of_Content\"></a>\n",
    "+ 7.2.2. [Inverse](#Inverse)\n",
    "+ 7.2.2. [Transpose](#Transpose)\n",
    "+ 7.2.2. [Transpose and Inverse](#TI)\n",
    "+ 7.2.2. [Trace](#Trace)\n",
    "+ 7.2.2. [Determinant](#Determinant)\n",
    "+ 7.2.3. [Orthogonal Matrix Examples](#OME)\n",
    "+ [Practice](#Practice)\n",
    "\n",
    "The demo today will show how to do basic matrix operation in Python. Let's import the libraries."
   ]
  },
  {
   "cell_type": "code",
   "execution_count": 2,
   "metadata": {},
   "outputs": [],
   "source": [
    "import numpy as np\n",
    "from numpy import linalg as la"
   ]
  },
  {
   "cell_type": "markdown",
   "metadata": {},
   "source": [
    "### Inverse<a name=\"Inverse\"></a>\n",
    "[Return to Table of Content](#Table_of_Content)\n",
    "\n",
    "Given an invertible matrix\n",
    "$A=\\begin{pmatrix}\n",
    "1&2&4\\\\\n",
    "0&0&5\\\\\n",
    "0&3&6\n",
    "\\end{pmatrix}$, we would like to examine $AA^{-1}=A^{-1}A=I$, where $I$ is a $3\\times 3$ identity matrix. You will see that $AA^{-1}$ and $A^{-1}A$ are \"almost\" the same. (You may use `.round(4)` to restrict the decimal.)"
   ]
  },
  {
   "cell_type": "code",
   "execution_count": 3,
   "metadata": {},
   "outputs": [
    {
     "name": "stdout",
     "output_type": "stream",
     "text": [
      "AA^-1 = \n",
      " [[1. 0. 0.]\n",
      " [0. 1. 0.]\n",
      " [0. 0. 1.]]\n",
      "A^-1A = \n",
      " [[ 1.0000000e+00  0.0000000e+00  8.8817842e-16]\n",
      " [ 0.0000000e+00  1.0000000e+00 -4.4408921e-16]\n",
      " [ 0.0000000e+00  0.0000000e+00  1.0000000e+00]]\n"
     ]
    }
   ],
   "source": [
    "A = np.array([[1,2, 4],\n",
    "            [0,0,5],\n",
    "            [0,3,6]], dtype=float)\n",
    "\n",
    "A_inv = la.inv(A)\n",
    "\n",
    "print(\"AA^-1 = \\n\", A.dot(A_inv))\n",
    "print(\"A^-1A = \\n\", A_inv.dot(A))\n",
    "\n",
    "# A_pinv = la.pinv(A) # You may also try the pseudo inverse"
   ]
  },
  {
   "cell_type": "markdown",
   "metadata": {},
   "source": [
    "### Transpose <a name=\"Transpose\"></a>\n",
    "[Return to Table of Content](#Table_of_Content)\n",
    "\n",
    "The transpose operation is shown below."
   ]
  },
  {
   "cell_type": "code",
   "execution_count": 4,
   "metadata": {},
   "outputs": [
    {
     "name": "stdout",
     "output_type": "stream",
     "text": [
      "A = \n",
      " [[25. 20.  3.  2.]\n",
      " [ 5. 10. 15. 25.]\n",
      " [ 6. 16.  7. 27.]]\n",
      "The transpose of A = \n",
      " [[25.  5.  6.]\n",
      " [20. 10. 16.]\n",
      " [ 3. 15.  7.]\n",
      " [ 2. 25. 27.]]\n"
     ]
    }
   ],
   "source": [
    "A = np.array([[25,20,3,2],\n",
    "            [5,10,15,25],\n",
    "            [6,16,7,27]], dtype=float)\n",
    "\n",
    "Transpose_of_A = A.T\n",
    "\n",
    "print(\"A = \\n\", A)\n",
    "print(\"The transpose of A = \\n\", Transpose_of_A)"
   ]
  },
  {
   "cell_type": "markdown",
   "metadata": {},
   "source": [
    "### Transpose and Inverse <a name=\"TI\"></a>\n",
    "[Return to Table of Content](#Table_of_Content)\n",
    "\n",
    "Here we would like to examine $(A^{-1})^T=(A^T)^{-1}$."
   ]
  },
  {
   "cell_type": "code",
   "execution_count": 5,
   "metadata": {},
   "outputs": [
    {
     "name": "stdout",
     "output_type": "stream",
     "text": [
      "Are they eqyal? True\n"
     ]
    }
   ],
   "source": [
    "A = np.array([[0,1,0],\n",
    "            [0,0,3],\n",
    "            [5,0,0]], dtype=float)\n",
    "\n",
    "A_inv_T = la.inv(A).T\n",
    "A_T_inv = la.inv(A.T)\n",
    "\n",
    "print(\"Are they eqyal?\", np.allclose(A_inv_T, A_T_inv))"
   ]
  },
  {
   "cell_type": "markdown",
   "metadata": {},
   "source": [
    "### Trace<a name=\"Trace\"></a>\n",
    "[Return to Table of Content](#Table_of_Content)\n",
    "\n",
    "Given a matrix $A=\\begin{pmatrix}\n",
    "15 & 6 & 7\\\\\n",
    "2 & -4 & 2\\\\\n",
    "3 & 2 & 6\n",
    "\\end{pmatrix}$, the trace is the sum of all the diagonal entries, i.e., $tr(A)=15+(-4)+6=17$.\n",
    "\n",
    "\n",
    "The trace operation is shown below."
   ]
  },
  {
   "cell_type": "code",
   "execution_count": 6,
   "metadata": {},
   "outputs": [
    {
     "name": "stdout",
     "output_type": "stream",
     "text": [
      "A = \n",
      " [[15.  6.  7.]\n",
      " [ 2. -4.  2.]\n",
      " [ 3.  2.  6.]]\n",
      "Its trace = \n",
      " 17.0\n"
     ]
    }
   ],
   "source": [
    "A = np.array([[15,6, 7],\n",
    "            [2,-4,2],\n",
    "            [3,2,6]], dtype=float)\n",
    "\n",
    "trace_of_A = A.trace()\n",
    "\n",
    "print(\"A = \\n\", A)\n",
    "print(\"Its trace = \\n\", trace_of_A)"
   ]
  },
  {
   "cell_type": "markdown",
   "metadata": {},
   "source": [
    "### Determinant<a name=\"Determinant\"></a>\n",
    "[Return to Table of Content](#Table_of_Content)\n",
    "\n",
    "The determinant of a matrix is calculated as below."
   ]
  },
  {
   "cell_type": "code",
   "execution_count": 7,
   "metadata": {},
   "outputs": [
    {
     "name": "stdout",
     "output_type": "stream",
     "text": [
      "A = \n",
      " [[15.  6.  7.]\n",
      " [ 2. -4.  2.]\n",
      " [ 3.  2.  6.]]\n",
      "Its determinant = \n",
      " -343.99999999999994\n"
     ]
    }
   ],
   "source": [
    "A = np.array([[15,6, 7],\n",
    "            [2,-4,2],\n",
    "            [3,2,6]], dtype=float)\n",
    "\n",
    "determinant_of_A = la.det(A)\n",
    "\n",
    "print(\"A = \\n\", A)\n",
    "print(\"Its determinant = \\n\", determinant_of_A)"
   ]
  },
  {
   "cell_type": "markdown",
   "metadata": {},
   "source": [
    "### Orthogonal Matrix Examples<a name=\"OME\"></a>\n",
    "[Return to Table of Content](#Table_of_Content)\n",
    "\n",
    "Let us verify $U^{-1}=U^T$ given an orthogonal matrix $U$."
   ]
  },
  {
   "cell_type": "code",
   "execution_count": 8,
   "metadata": {},
   "outputs": [
    {
     "name": "stdout",
     "output_type": "stream",
     "text": [
      "Are they eqyal? True\n"
     ]
    }
   ],
   "source": [
    "A = np.array([[15,6, 7],\n",
    "            [2,-4,2],\n",
    "            [3,2,6]], dtype=float)\n",
    "\n",
    "U, _ = la.qr(A)\n",
    "\n",
    "print(\"Are they eqyal?\", np.allclose(la.inv(U), U.T))"
   ]
  },
  {
   "cell_type": "markdown",
   "metadata": {},
   "source": [
    "#### Example 1. \n",
    "\n",
    "Solve for $X$ given $AX(D+BX)^{-1}=C$. For this equation to agree, all matrices are square and invertible.\n",
    "\n",
    "The derivation is as follows:\n",
    "\n",
    "$$\n",
    "\\begin{align}\n",
    "AX(D+BX)^{-1}&=C \\tag{1} \\\\\n",
    "AX&=C(D+BX) \\\\\n",
    "AX&=CD+CBX \\\\\n",
    "(A-CB)X &= CD \\\\\n",
    "X &= (A-CB)^{-1}CD \\tag{2}\n",
    "\\end{align}\n",
    "$$\n",
    "\n",
    "In Python, we need just write Eq. 1 and Eq. 2 as follows."
   ]
  },
  {
   "cell_type": "code",
   "execution_count": 9,
   "metadata": {},
   "outputs": [
    {
     "name": "stdout",
     "output_type": "stream",
     "text": [
      "The original X = \n",
      " [[-0.01629988 -0.36807481  0.32919293]\n",
      " [-0.38487237 -0.1196886  -0.13768521]\n",
      " [ 0.15182328 -0.09078862 -0.44874622]]\n",
      "The estimated X = \n",
      " [[-0.01629988 -0.36807481  0.32919293]\n",
      " [-0.38487237 -0.1196886  -0.13768521]\n",
      " [ 0.15182328 -0.09078862 -0.44874622]]\n",
      "Their difference = \n",
      " [[ 0.  0. -0.]\n",
      " [-0. -0.  0.]\n",
      " [-0. -0.  0.]]\n"
     ]
    }
   ],
   "source": [
    "m, n = 3, 3\n",
    "\n",
    "A = np.random.rand(m, n) - 0.5\n",
    "B = np.random.rand(m, n) - 0.5\n",
    "D = np.random.rand(m, n) - 0.5\n",
    "X = np.random.rand(m, n) - 0.5\n",
    "\n",
    "# Eq. 1\n",
    "C = A.dot(X).dot(la.inv(D + B.dot(X)))\n",
    "\n",
    "# Eq. 2\n",
    "X_estimated = la.inv(A - C.dot(B)).dot(C.dot(D))\n",
    "\n",
    "print(\"The original X = \\n\", X)\n",
    "print(\"The estimated X = \\n\", X_estimated)\n",
    "print(\"Their difference = \\n\", (X - X_estimated).round(5))"
   ]
  },
  {
   "cell_type": "markdown",
   "metadata": {},
   "source": [
    "#### Example 2.\n",
    "\n",
    "Solve for $X$ given $(AX)^T((D+BD)^-1)^T=I$. For this equation to agree, all matrices are square and invertible.\n",
    "\n",
    "The derivation is as follows:\n",
    "\n",
    "$$\n",
    "\\begin{align}\n",
    "(AX)^T\\left((D+BX)^{-1}\\right)^T&=I \\tag{3} \\\\\n",
    "(AX)^T&=I\\cdot\\left(\\left((D+BX)^{-1}\\right)^T\\right)^{-1} \\\\\n",
    "X^TA^T&=I\\cdot\\left(\\left((D+BX)^T\\right)^{-1}\\right)^{-1} \\\\\n",
    "X^TA^T&=I\\cdot(D+BX)^T \\\\\n",
    "X^TA^T&=I\\cdot D^T+X^TB^T \\\\\n",
    "X^TA^T-X^TB^T&=I\\cdot D^T \\\\\n",
    "X^T(A^T-B^T)&=I\\cdot D^T \\\\\n",
    "X^T &= I\\cdot D^T\\cdot(A^T-B^T)^{-1} \\\\\n",
    "X &= \\left(I\\cdot D^T\\cdot(A^T-B^T)^{-1}\\right)^T \\tag{4}\n",
    "\\end{align}\n",
    "$$"
   ]
  },
  {
   "cell_type": "code",
   "execution_count": 1,
   "metadata": {},
   "outputs": [],
   "source": [
    "# This one is for your practice :)\n",
    "# m, n = 3, 3\n",
    "\n",
    "# A = np.random.rand(m, n) - 0.5\n",
    "# B = np.random.rand(m, n) - 0.5\n",
    "# D = np.random.rand(m, n) - 0.5\n",
    "\n",
    "# # Eq. 4\n",
    "# X = (D.T.dot(la.inv(A.T-B.T))).T\n",
    "\n",
    "# # Eq. 3\n",
    "# check_I = A.dot(X).T.dot(la.inv(D+B.dot(X)).T)\n",
    "\n",
    "\n",
    "# print(\"The output = \\n\", check_I.round(4))"
   ]
  },
  {
   "cell_type": "markdown",
   "metadata": {},
   "source": [
    "### Practice<a name=\"Practice\"></a>\n",
    "[Return to Table of Content](#Table_of_Content)\n",
    "\n",
    "**This part can get you ready for the lab!**\n",
    "\n",
    "1. In this question, we seek to implement Eq. (4) first, and then substitute $X$ into the left hand side of Eq. (3) to see whether the right hand side is an identity matrix. (All the procedures are already exampled in Example 1.)\n",
    "    + Generate three $4\\times 4$ random matrix using `np.random.rand(m, n)-0.5`.\n",
    "    + Obtain $X$ by Eq. (4).\n",
    "    + Calculate the right hand side of Eq. (3).\n",
    "    + verify that the right hand side of Eq. (3) is close to a $4\\times 4$ identity matrix."
   ]
  },
  {
   "cell_type": "code",
   "execution_count": null,
   "metadata": {},
   "outputs": [],
   "source": []
  }
 ],
 "metadata": {
  "kernelspec": {
   "display_name": "Python 3",
   "language": "python",
   "name": "python3"
  },
  "language_info": {
   "codemirror_mode": {
    "name": "ipython",
    "version": 3
   },
   "file_extension": ".py",
   "mimetype": "text/x-python",
   "name": "python",
   "nbconvert_exporter": "python",
   "pygments_lexer": "ipython3",
   "version": "3.8.5"
  }
 },
 "nbformat": 4,
 "nbformat_minor": 2
}
