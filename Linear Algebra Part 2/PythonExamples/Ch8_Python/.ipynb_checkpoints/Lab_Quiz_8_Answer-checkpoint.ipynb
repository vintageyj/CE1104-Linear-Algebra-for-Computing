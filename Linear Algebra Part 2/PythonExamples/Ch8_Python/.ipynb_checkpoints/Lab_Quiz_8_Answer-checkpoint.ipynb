{
 "cells": [
  {
   "cell_type": "code",
   "execution_count": 39,
   "metadata": {},
   "outputs": [],
   "source": [
    "import numpy as np\n",
    "import numpy.linalg as la\n",
    "import scipy.io as sio"
   ]
  },
  {
   "cell_type": "code",
   "execution_count": 40,
   "metadata": {},
   "outputs": [],
   "source": [
    "def my_eig(A):\n",
    "    D_diag, P= la.eig(A)\n",
    "    D = np.diag(D_diag) \n",
    "    return P, D"
   ]
  },
  {
   "cell_type": "markdown",
   "metadata": {},
   "source": [
    "# Q1\n",
    "\n",
    "### Q1a"
   ]
  },
  {
   "cell_type": "code",
   "execution_count": 41,
   "metadata": {},
   "outputs": [],
   "source": [
    "def my_dym(A, n, v):\n",
    "    \n",
    "    D_diag, P= la.eig(A)\n",
    "    D = np.diag(D_diag) \n",
    "    c = P.dot(la.matrix_power(D, n)).dot(la.inv(P)).dot(v)\n",
    "    \n",
    "    return c"
   ]
  },
  {
   "cell_type": "markdown",
   "metadata": {},
   "source": [
    "### Q1b"
   ]
  },
  {
   "cell_type": "code",
   "execution_count": 42,
   "metadata": {},
   "outputs": [
    {
     "name": "stdout",
     "output_type": "stream",
     "text": [
      "c = \n",
      " [[532.]\n",
      " [316.]\n",
      " [306.]\n",
      " [237.]]\n"
     ]
    }
   ],
   "source": [
    "A = np.array([[1,2,3,2],\n",
    "             [0,1,4,0],\n",
    "             [1,2,1,0],\n",
    "             [0,0,3,1]], dtype=float)\n",
    "\n",
    "v=np.array([[1,0,0,0]], dtype=float).T\n",
    "\n",
    "n = 5\n",
    "\n",
    "c = my_dym(A, n, v)\n",
    "print(\"c = \\n\", c)"
   ]
  },
  {
   "cell_type": "markdown",
   "metadata": {},
   "source": [
    "# Q2"
   ]
  },
  {
   "cell_type": "code",
   "execution_count": 43,
   "metadata": {},
   "outputs": [
    {
     "name": "stdout",
     "output_type": "stream",
     "text": [
      "The matrix C = \n",
      " [[ 0.32 -0.68]\n",
      " [ 0.68  0.32]]\n"
     ]
    }
   ],
   "source": [
    "a = 1\n",
    "phi = 65*np.pi/180\n",
    "b = a * np.tan(phi)\n",
    "r = np.sqrt(a*a + b*b)\n",
    "scale = 0.75\n",
    "\n",
    "C = scale * np.array([[a/r, -b/r],\n",
    "                     [b/r, a/r]])\n",
    "\n",
    "print(\"The matrix C = \\n\", C.round(2))"
   ]
  },
  {
   "cell_type": "markdown",
   "metadata": {},
   "source": [
    "# Q3\n",
    "\n",
    "The following cell is to create the data matrix (For TA)."
   ]
  },
  {
   "cell_type": "code",
   "execution_count": 44,
   "metadata": {},
   "outputs": [],
   "source": [
    "np.random.seed(1)\n",
    "\n",
    "# Set the mean and std carefully\n",
    "male_mean = np.array([[36.9, 175, 75]]).T\n",
    "male_std = np.array([[1,10,5]]).T\n",
    "female_mean = np.array([[37.1, 165, 60]]).T\n",
    "female_std = np.array([[1,15,10]]).T\n",
    "\n",
    "num_of_features = len(male_mean);\n",
    "num_of_subjects = 200;\n",
    "\n",
    "A = np.zeros((num_of_subjects, num_of_features));\n",
    "gender = np.zeros((num_of_subjects, 1))\n",
    "\n",
    "idx_gender = np.random.randint(2, size=num_of_subjects)\n",
    "for i in range(num_of_subjects):\n",
    "    which_gender = idx_gender[i]\n",
    "    \n",
    "    # If male\n",
    "    if which_gender>0:\n",
    "        example = male_mean + male_std*np.random.randn(3,1)  \n",
    "        \n",
    "    # If female    \n",
    "    else:\n",
    "        example = female_mean + female_std*np.random.randn(3,1)\n",
    "         \n",
    "    A[i,:] = example.T\n",
    "    gender[i] = which_gender\n",
    "    \n",
    "A = np.c_[A, gender]\n",
    "\n",
    "# Save and load the data matrix A\n",
    "sio.savemat('data_Ch8_Lab_Quiz.mat', {'A':A})\n",
    "A = sio.loadmat('data_Ch8_Lab_Quiz.mat')['A']"
   ]
  },
  {
   "cell_type": "markdown",
   "metadata": {},
   "source": [
    "### Q3ai"
   ]
  },
  {
   "cell_type": "code",
   "execution_count": 45,
   "metadata": {},
   "outputs": [
    {
     "name": "stdout",
     "output_type": "stream",
     "text": [
      "[ 37.04 170.11  68.22   0.5 ]\n"
     ]
    }
   ],
   "source": [
    "column_wise_mean_A = np.mean(A, axis=0)\n",
    "print(column_wise_mean_A.round(2))"
   ]
  },
  {
   "cell_type": "markdown",
   "metadata": {},
   "source": [
    "### Q3aii"
   ]
  },
  {
   "cell_type": "code",
   "execution_count": 46,
   "metadata": {},
   "outputs": [
    {
     "name": "stdout",
     "output_type": "stream",
     "text": [
      "[ 0.96 12.9  11.17  0.5 ]\n"
     ]
    }
   ],
   "source": [
    "column_wise_std_A = np.std(A, axis=0, ddof=1)\n",
    "print(column_wise_std_A.round(2))"
   ]
  },
  {
   "cell_type": "markdown",
   "metadata": {},
   "source": [
    "### Q3aiii"
   ]
  },
  {
   "cell_type": "code",
   "execution_count": 47,
   "metadata": {},
   "outputs": [],
   "source": [
    "standard_A = (A - column_wise_mean_A) / column_wise_std_A"
   ]
  },
  {
   "cell_type": "markdown",
   "metadata": {},
   "source": [
    "### Q3aiv"
   ]
  },
  {
   "cell_type": "code",
   "execution_count": 48,
   "metadata": {},
   "outputs": [
    {
     "name": "stdout",
     "output_type": "stream",
     "text": [
      "[ 0. -0.  0. -0.]\n",
      "[1. 1. 1. 1.]\n"
     ]
    }
   ],
   "source": [
    "column_wise_mean_A_2 = np.mean(standard_A, axis=0)\n",
    "print(column_wise_mean_A_2.round(2))\n",
    "\n",
    "column_wise_std_A_2 = np.std(standard_A, axis=0, ddof=1)\n",
    "print(column_wise_std_A_2.round(2))"
   ]
  },
  {
   "cell_type": "markdown",
   "metadata": {},
   "source": [
    "### Q3bi"
   ]
  },
  {
   "cell_type": "code",
   "execution_count": 49,
   "metadata": {},
   "outputs": [
    {
     "name": "stdout",
     "output_type": "stream",
     "text": [
      "The singular values are: [18.83 14.36 13.44  7.39]\n",
      "The right singular vectors V are:\n",
      " [[-0.07 -0.84 -0.54  0.04]\n",
      " [-0.36 -0.47  0.76 -0.27]\n",
      " [-0.63  0.25 -0.37 -0.64]\n",
      " [-0.69  0.1  -0.01  0.72]]\n"
     ]
    }
   ],
   "source": [
    "U, sigmas, VT = la.svd(standard_A)\n",
    "V = VT.T\n",
    "print(\"The singular values are:\", sigmas.round(2))\n",
    "print(\"The right singular vectors V are:\\n\", V.round(2))"
   ]
  },
  {
   "cell_type": "markdown",
   "metadata": {},
   "source": [
    "### Q3bii\n",
    "\n",
    "The first column is the most important, since it corresponds to the largest singular value.\n",
    "\n",
    "(To TA: the singular value is surely sorted in an descending order, so the most important column is always the first column.)"
   ]
  },
  {
   "cell_type": "markdown",
   "metadata": {},
   "source": [
    "### Q3ci"
   ]
  },
  {
   "cell_type": "code",
   "execution_count": 50,
   "metadata": {},
   "outputs": [
    {
     "name": "stdout",
     "output_type": "stream",
     "text": [
      "The covarience matrix C = \n",
      " [[1.   0.08 0.03 0.01]\n",
      " [0.08 0.99 0.07 0.33]\n",
      " [0.03 0.07 1.   0.67]\n",
      " [0.01 0.33 0.67 1.  ]]\n"
     ]
    }
   ],
   "source": [
    "C = standard_A.T.dot(standard_A)/200\n",
    "print(\"The covarience matrix C = \\n\", C.round(2))"
   ]
  },
  {
   "cell_type": "markdown",
   "metadata": {},
   "source": [
    "### Q3cii"
   ]
  },
  {
   "cell_type": "code",
   "execution_count": 51,
   "metadata": {},
   "outputs": [
    {
     "name": "stdout",
     "output_type": "stream",
     "text": [
      "The eigenvalues are: [1.77364459 1.03041338 0.90275738 0.27318465]\n",
      "The eigenvectors V are:\n",
      " [[-0.07 -0.84 -0.54  0.04]\n",
      " [-0.36 -0.47  0.76 -0.27]\n",
      " [-0.63  0.25 -0.37 -0.64]\n",
      " [-0.69  0.1  -0.01  0.72]]\n"
     ]
    }
   ],
   "source": [
    "lambdas, P = la.eig(C)\n",
    "print(\"The eigenvalues are:\", lambdas)\n",
    "print(\"The eigenvectors V are:\\n\", V.round(2))"
   ]
  },
  {
   "cell_type": "markdown",
   "metadata": {},
   "source": [
    "### Q3ciii\n",
    "The first column is the most important, since it corresponds to the largest eigenvalue.\n",
    "\n",
    "(To TA: the eigenvalues may not be sorted, the answer may not be the first column for another data matrix.)"
   ]
  },
  {
   "cell_type": "markdown",
   "metadata": {},
   "source": [
    "### Q3d\n",
    "\n",
    "The Gender is the most informative. \n",
    "\n",
    "For the most important column of $V$ or $P$, the fourth entry $-0.67$  corresponds to the importance of the gender to the first principle component. Since it is the largest, we can say that the gender is the most informative.\n",
    "\n",
    "#### If the student answered according to the covarience matrix $C$:\n",
    "\n",
    "The covariance matrix $C$ store the attribute-to-attribute \"correlation\". An entry with large absolute value means that the two attribute corresponding to the row and column number have strong positive or negative correlation. Exclude the diagonal, the column (row) corresponding to the gender has the largest values than other columns (rows), which shows that the gender has the strongest correlation to others. Therefore the gender is the most imformative."
   ]
  }
 ],
 "metadata": {
  "kernelspec": {
   "display_name": "Python 3",
   "language": "python",
   "name": "python3"
  },
  "language_info": {
   "codemirror_mode": {
    "name": "ipython",
    "version": 3
   },
   "file_extension": ".py",
   "mimetype": "text/x-python",
   "name": "python",
   "nbconvert_exporter": "python",
   "pygments_lexer": "ipython3",
   "version": "3.7.1"
  }
 },
 "nbformat": 4,
 "nbformat_minor": 2
}
