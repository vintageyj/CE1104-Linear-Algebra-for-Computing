{
 "cells": [
  {
   "cell_type": "code",
   "execution_count": 1,
   "metadata": {},
   "outputs": [],
   "source": [
    "# Similarity Matrix\n",
    "# Author: Zhang Su (Teaching Assistant)\n",
    "# Using python3, numpy.\n",
    "# 19 June 2020"
   ]
  },
  {
   "cell_type": "markdown",
   "metadata": {},
   "source": [
    "# Learning Outcome\n",
    "\n",
    "By the end of this material, you should be able to:\n",
    "\n",
    "+ Describe the similarity transformation in a 3-step process.\n",
    "+ Determine whether a matrix is diagonalizable.\n",
    "+ Diagonalize a matrix using Numpy routines.\n",
    "+ Verify the correctness of the diagonalization using Python.\n",
    "\n",
    "\n",
    "Note: \n",
    "1. If you occasionally double clicked a textual cell, the display would change to markdown source code. To reverse, simply click anywhere of that markdown cell,  and then click **Run** in the top manu.\n",
    "2. Sometimes the notebook may not be responding. That is caused by the failure of jupyter kernel. To repair, try clicking **Kernel** in the top manu, then clicking **Reconnect**. \n",
    "3. Section Takeaways summarizes useful tips, e.g., holes of Python to avoid, if any.\n",
    "4. Section Practice reflect the learning outcomes. You are expected to solve them based on your understanding on the lecture notes alone with the coding skills learned from this demo."
   ]
  },
  {
   "cell_type": "markdown",
   "metadata": {},
   "source": [
    "# Table of contents <a name=\"Table_of_Content\"></a>\n",
    "+ [Recap of Eigen Decomposition](#RED)\n",
    "+ (8.2.1) [Similarity Transformation](#ST)\n",
    "    + [Visualization of the Similarity Transformation](#V)\n",
    "+ (8.2.2) [Diagonalization](#D)\n",
    "    + [Examples](#Example)\n",
    "+ [Takwaways](#Takeaways)\n",
    "+ [Practice](#Practice)"
   ]
  },
  {
   "cell_type": "code",
   "execution_count": 2,
   "metadata": {},
   "outputs": [],
   "source": [
    "import numpy as np\n",
    "from numpy import linalg as la\n",
    "import matplotlib.pyplot as plt\n",
    "from matplotlib import cm\n",
    "from pylab import *"
   ]
  },
  {
   "cell_type": "markdown",
   "metadata": {},
   "source": [
    "### Recap of Eigen Decomposition<a name=\"RED\"></a>\n",
    "[Return to Table of Content](#Table_of_Content)\n",
    "\n",
    "Given an $n\\times n$ matrix $A$, the eigen decomposition seeks to obtain the eigenvalues $D$ and the corresponding eigenvectors $P$, so that:\n",
    "\n",
    "\n",
    "\\begin{equation}\n",
    "A=PDP^{-1} \\tag{1}\n",
    "\\end{equation}\n",
    "\n",
    "where $D$ is an $n\\times n$ diagonal matrix, and $P$ is an $n\\times n$ matrix. Let's see the example below."
   ]
  },
  {
   "cell_type": "code",
   "execution_count": 3,
   "metadata": {},
   "outputs": [
    {
     "name": "stdout",
     "output_type": "stream",
     "text": [
      "The eigenvalues are:\n",
      " [[-0.37228132  0.        ]\n",
      " [ 0.          5.37228132]]\n",
      "The eigenvectors are:\n",
      " [[-0.82456484 -0.41597356]\n",
      " [ 0.56576746 -0.90937671]]\n",
      "The reconstructed A is:\n",
      " [[1. 2.]\n",
      " [3. 4.]]\n"
     ]
    }
   ],
   "source": [
    "A = np.array([[1,2],\n",
    "             [3,4]], dtype=float)\n",
    "D_diag, P = la.eig(A)\n",
    "D = np.diag(D_diag)\n",
    "\n",
    "A_reconstructed = P.dot(D).dot(la.inv(P))\n",
    "\n",
    "\n",
    "print(\"The eigenvalues are:\\n\", D)\n",
    "print(\"The eigenvectors are:\\n\", P)\n",
    "print(\"The reconstructed A is:\\n\", A_reconstructed)"
   ]
  },
  {
   "cell_type": "markdown",
   "metadata": {},
   "source": [
    "### Similarity Transformation<a name=\"ST\"></a>\n",
    "[Return to Table of Content](#Table_of_Content)\n",
    "\n",
    "**If the mountain will not come to Muhammad, then Muhammad must go to the mountain.** If we take the moutain and Muhammad as axis and point, respectively, then this is exactly the similarity transformation!\n",
    "\n",
    "Imagine that, in a standard 2-D coordinate system, there is a point $x$ located at $(1,1)$, we would like to move $x$ to $b=(2,2)$, as shown in the figure below.\n",
    "\n",
    "![](img/similarity_transform_A.png)\n",
    ">Figure 1. The original transformation $T(x)=Ax$, where $A=\\begin{pmatrix}2&0\\\\0&2\\end{pmatrix}$.\n",
    "\n",
    "The transformation $\\mathcal{T}(x)=Ax$, where $A=\\begin{pmatrix}2&0\\\\0&2\\end{pmatrix}$, can achieve this movement. How come? \n",
    "\n",
    "**The transformation corresponding to the first column of $A$ scale $x$ (by 2 times) along the x-axis, while the transformation corresponding to the second column of $A$ scale $x$ (by 2 times) along the y-axis**. As a result, $x=(1,1)$ is scaled along both axes, reaching (2,2).\n",
    "\n",
    "**There is an latent condition that should not be overlooked, i.e., the transformation $\\mathcal{T}(x)$ is based on the standard 2-D coordinate system.** What is the so-called \"standard 2-D coordinate system mathematically? The x- and y- axes! I.e., the basis $O=\\begin{pmatrix}1&0\\\\0&1\\end{pmatrix}$.\n",
    "\n",
    "**What if we \"alter\" the coordinate, instead of \"moving\" the point?** To example, we create a new 2-D coordinate system by rotating the original one by $45^\\circ$ counterclockwise. Now lets see what we would obtain.\n",
    "\n",
    "![](img/similarity_transform_D.png)\n",
    ">Figure 2. The original and new transformations. They are equivalent, though in different coordinate systems.\n",
    "\n",
    "**In the new transformation, $x'$ is only scaled along the x'-axis, while it remains intact along another axis.**\n",
    "\n",
    "**There exists another latent condition, i.e., the transformation $\\mathcal{T'}(x)$ is now based on a new 2-D coordinate system.** We do not care about the new basis, but we care about how it is related to the old axis, the relationship is represented as $P=\\begin{pmatrix}1&-1\\\\1&1\\end{pmatrix}$. Here, the first column represents that the first axis of the new system is obtained by $1\\begin{pmatrix}1\\\\0\\end{pmatrix}+1\\begin{pmatrix}0\\\\1\\end{pmatrix}$, and the second column represents that the second axis of the new system is obtained by $(-1)\\begin{pmatrix}1\\\\0\\end{pmatrix}+1\\begin{pmatrix}0\\\\1\\end{pmatrix}$. **The new axes are linear combinations of the orginal axes, represented as $P$ !!!**\n",
    "\n",
    "**It seems that the transformation is somehow \"simplified\"! Because we only need to bother with one axis!** Correct!\n",
    "\n",
    "Let's see the whole process , first for the direct transformation, then for the \"simplified\" transformation.\n",
    "\n",
    "![](img/similarity_transform_whole1.png)\n",
    ">Figure 3. The direct transformation $\\mathcal{T}(x)=Ax$.\n",
    "\n",
    "![](img/similarity_transform_whole2.png)\n",
    ">Figure 4. The \"simplified\" transformation $\\mathcal{T'}(x)=PDP^{-1}x$. The calculation can be decomposed as below.\n",
    "\n",
    "$$\n",
    "\\begin{matrix}\n",
    "    PD & \\underbrace{\\begin{matrix}  P^{-1}x\\end{matrix}}& \\\\\n",
    "    & Step 1:&x'=P^{-1}x=\\begin{pmatrix}1/2&1/2\\\\-1/2&1/2\\end{pmatrix}\\begin{pmatrix}1\\\\1\\end{pmatrix}=\\begin{pmatrix}1\\\\0\\end{pmatrix}\\\\\n",
    "    P & \\underbrace{\\begin{matrix}  DP^{-1}x\\end{matrix}}&  \\\\\n",
    "    & Step 2: &b'=Dx'=\\begin{pmatrix}2&0\\\\0&0\\end{pmatrix}\\begin{pmatrix}1\\\\0\\end{pmatrix}=\\begin{pmatrix}2\\\\0\\end{pmatrix} \\\\\n",
    "    & \\underbrace{\\begin{matrix} PDP^{-1}x\\end{matrix}} &  \\\\\n",
    "    & Step 3: &b=Pb'= \\begin{pmatrix}1&-1\\\\1&1\\end{pmatrix}\\begin{pmatrix}2\\\\0\\end{pmatrix}=\\begin{pmatrix}2\\\\2\\end{pmatrix}\n",
    "\\end{matrix}\n",
    "$$\n",
    "\n",
    "The stepwise results above are intuitive, and can be easily verified by our nake eyes from Fig 4.\n",
    "\n",
    "#### To summarize, if we fix our camera to the original coordinate system, then the effect of $P^{-1}$, $D$, and $P$ are as follows.\n",
    "\n",
    "+ $P^{-1}$ changes the system obtaining $x'$ in the new system, during which the point is fixed! \n",
    "+ $D$ scales $x'$ in the new system obtaining $b'$, during which the point is moved! \n",
    "+ $P$ changes the system back obtaining $b$ in the original system, during which the point is fixed!\n",
    "\n",
    "#### Moving the point by transformation $A$ in the original system $O$ is equivalent to moving the point by transformation $D$ in the new system $OP$."
   ]
  },
  {
   "cell_type": "markdown",
   "metadata": {},
   "source": [
    "$D=P^{-1}AP$ preserves many properties of matrix $A$, as shown in Fig. 5.\n",
    "\n",
    "![](img/sim_property.png)\n",
    ">Figure 5. The shared properties of $A$ and $D$.\n",
    "\n",
    "#### Visualization of the Similarity Transformation<a name=\"V\"></a>\n",
    "[Return to Table of Content](#Table_of_Content)\n",
    "\n",
    "Let us visulize the four steps we extensively discussed.  Given a point set $X$, we would like to scale the entries of $X$ by a factor of 2. As we already derived, we have the following stuffs: \n",
    "\n",
    "$$\n",
    "O=\\begin{pmatrix}1&0\\\\0&1\\end{pmatrix}, A=\\begin{pmatrix}2&0\\\\0&2\\end{pmatrix}, P=\\begin{pmatrix}1&-1\\\\1&1\\end{pmatrix}, P^{-1}=\\begin{pmatrix}1/2&1/2\\\\-1/2&1/2\\end{pmatrix}, D=\\begin{pmatrix}2&0\\\\0&0\\end{pmatrix},\n",
    "$$\n",
    "\n",
    "However, according to what we extensively discussed in the demo of Section 8.1, the eigenvalues of $A$ above are 2 and 0, which corresponds to eigenspace $\\begin{pmatrix}1\\\\1\\end{pmatrix}$ and $\\begin{pmatrix}-1\\\\1\\end{pmatrix}$. As a result, all the points along the anti-diagonal will be scaled by a factor of $2$, while all the other points will  collapse. This is how the zero eigenvalue could affect the transformation. ($x=(1,1)$ is luckly on the anti-diagonal, so that it can be successfully scaled.)\n",
    "\n",
    "Therefore, we employ another $A$, with two non-zero eigenvalues, and its associated $P$ and $D$:\n",
    "\n",
    "$$\n",
    "O=\\begin{pmatrix}1&0\\\\0&1\\end{pmatrix}, A=\\begin{pmatrix}1.5&0.5\\\\0.5&1.5\\end{pmatrix}, P=\\begin{pmatrix}1&-1\\\\1&1\\end{pmatrix}, P^{-1}=\\begin{pmatrix}1/2&1/2\\\\-1/2&1/2\\end{pmatrix}, D=\\begin{pmatrix}2&0\\\\0&1\\end{pmatrix},\n",
    "$$\n",
    "\n",
    "so that the transformation occurs on the 2-D plane.\n",
    "\n",
    "Note, $O=\\begin{pmatrix}1&0\\\\0&1\\end{pmatrix}$ is merely used to visualize the axes."
   ]
  },
  {
   "cell_type": "code",
   "execution_count": 4,
   "metadata": {},
   "outputs": [
    {
     "data": {
      "image/png": "[encoded data removed]",
      "text/plain": [
       "<Figure size 576x864 with 6 Axes>"
      ]
     },
     "metadata": {
      "needs_background": "light"
     },
     "output_type": "display_data"
    }
   ],
   "source": [
    "def geometric_interpret(O,A,P,P1,D, X):\n",
    "# This function plot the figures the original x, the rotated x, the rotate-and-streched x, \n",
    "# and the rotate-and-stretch-and-rotated x.\n",
    "    \n",
    "    # Concatenate O to X, so that it will be transformed together with X.\n",
    "    # Keep in mind that the first two points of the new X is the new axis for visualization!\n",
    "    # Multiply by 4 so that it is drawn longer!\n",
    "    X = np.hstack((O*4,X))\n",
    "\n",
    "    # Calculate the transformation step-by-step\n",
    "    # Direct transform\n",
    "#     X=np.array([[1],[1]])\n",
    "    AX = A.dot(X)\n",
    "    \n",
    "    # Step 1\n",
    "    P1X = P1.dot(X)\n",
    "    # Step 2\n",
    "    DP1X = D.dot(P1X)\n",
    "    # Step 3\n",
    "    PDP1X = P.dot(DP1X)\n",
    "    \n",
    "    # Zip the data and labels for iteration\n",
    "    matrices = [X.T, AX.T, X.T, P1X.T, DP1X.T, PDP1X.T]\n",
    "    strings = [\"Original Points\", \"Transform directly by Ax\",\n",
    "              \"Original Points\", \"Step1: Change the system by P^-1x\",\n",
    "              \"Step2: Scale in the new system by DP^-1x\", \"Step3: Change the system back by PDP^-1x\"]    \n",
    "    all_stuffs = zip(matrices, strings)\n",
    "    \n",
    "    # Iteratively plot the four subplots.\n",
    "    fig= plt.figure(figsize=(8,12))\n",
    "    \n",
    "    for i, (matrix, string) in enumerate(all_stuffs):\n",
    "        \n",
    "        ax = fig.add_subplot(3,2,i+1)\n",
    "        ax.scatter(matrix[2:,0],matrix[2:,1])\n",
    "        \n",
    "        # draw the axes\n",
    "        if i != 1 and i != 5:\n",
    "            ax.plot([0,matrix[0,0]], [0,matrix[1,0]], 'r-' )\n",
    "            ax.plot([0,matrix[0,1]], [0,matrix[1,1]], 'r-' )\n",
    "        else:\n",
    "            ax.plot([0,0], [0,5], 'r-' )\n",
    "            ax.plot([0,5], [0,0], 'r-' )\n",
    "        # write the text\n",
    "        ax.text(matrix[0,0]*0.4, matrix[1,0]*0.4, 'new x-axis', horizontalalignment='center')\n",
    "        ax.text(matrix[0,1]*0.6, matrix[1,1]*0.6, 'new y-axis', horizontalalignment='center')\n",
    "        # Set the range of plots\n",
    "        ax.set_xlim([-4.5, 4.5])\n",
    "        ax.set_ylim([-4.5, 4.5])\n",
    "        # Label\n",
    "        ax.set_xlabel(\"old x-axis\", fontsize=20)\n",
    "        ax.set_ylabel(\"old y-axis\", fontsize=20)\n",
    "        plt.title(string)\n",
    "    # Larger space between rows\n",
    "    fig.tight_layout(pad=3.0)\n",
    "#####====================================================================================\n",
    "\n",
    "\n",
    "# Old A with 0 eigenvalue producing collapse    \n",
    "# O, A, P, P1, D = np.array([[1.,0.],[0.,1.]]), np.array([[2.,0.],[0.,2.]]), np.array([[1.,-1.],[1.,1.]]), np.array([[.5,.5],[-.5,.5]]), np.array([[2.,0.],[0.,0.]])\n",
    "\n",
    "# A good A for better visualization\n",
    "O, A, P, P1, D = np.array([[1.,0.],[0.,1.]]), np.array([[1.5,.5],[.5,1.5]]), np.array([[1.,-1.],[1.,1.]]), np.array([[.5,.5],[-.5,.5]]), np.array([[2.,0.],[0.,1.]])\n",
    "\n",
    "# Generate the grid points X. \n",
    "density = 0.5\n",
    "x1, x2 = np.mgrid[slice(-1, 1 + density, density),\n",
    "                 slice(-1, 1 + density, density)]\n",
    "\n",
    "X = np.c_[x1.flatten(), x2.flatten()].T\n",
    "\n",
    "# Visualization\n",
    "geometric_interpret(O,A,P,P1,D, X)"
   ]
  },
  {
   "cell_type": "markdown",
   "metadata": {},
   "source": [
    "### Diagonalization<a name=\"D\"></a>\n",
    "[Return to Table of Content](#Table_of_Content)\n",
    "\n",
    "Please read [this page](https://www.statlect.com/matrix-algebra/algebraic-and-geometric-multiplicity-of-eigenvalues) which intuitively explanes the algebraic and geometric multiplicity of the eigenvalue.\n",
    "\n",
    "In short, given $A$, if the algebraic and geometric multiplicity of its eigenvalues are unequal, it is not diagonalizable.\n",
    "\n",
    "In the example below, $A=\\begin{pmatrix}0&1\\\\\n",
    "0&0\\end{pmatrix}$, after some manual calculation, we can find that it has an eigenvalue $0$, with an algebraic multiplicity of $2$. However, this eigenvalue $0$ only corresponds to the eigenvector $c\\begin{pmatrix}1\\\\0\n",
    "\\end{pmatrix}$, where $c$ is an free parameter. This eigenvector can only span an one-dimensional eigenspace. Therefore the eigenvalue $0$ has a geometric multiplicity of $1$, which are not equal to its algebraic counterpart. So that $A=\\begin{pmatrix}0&1\\\\\n",
    "0&0\\end{pmatrix}$ is not diagonalizable.\n",
    "\n",
    "The reconstruction will fail, as exampled below."
   ]
  },
  {
   "cell_type": "code",
   "execution_count": 5,
   "metadata": {},
   "outputs": [
    {
     "name": "stdout",
     "output_type": "stream",
     "text": [
      "The eigenvalues D are:\n",
      " [[0. 0.]\n",
      " [0. 0.]]\n",
      "The eigenvectors p are:\n",
      " [[ 1. -1.]\n",
      " [ 0.  0.]]\n",
      "The original A is:\n",
      " [[0. 1.]\n",
      " [0. 0.]]\n",
      "The reconstructed A is:\n",
      " [[0. 0.]\n",
      " [0. 0.]]\n"
     ]
    }
   ],
   "source": [
    "A = np.array([[0,1],\n",
    "             [0,0]], dtype=float)\n",
    "\n",
    "D_diag, P = la.eig(A)\n",
    "D = np.diag(D_diag)\n",
    "print(\"The eigenvalues D are:\\n\", D.round(4))\n",
    "print(\"The eigenvectors p are:\\n\", P.round(4))\n",
    "\n",
    "# Examine\n",
    "A_reconstructed = P.dot(D).dot(la.inv(P))\n",
    "\n",
    "print(\"The original A is:\\n\", A)\n",
    "print(\"The reconstructed A is:\\n\", A_reconstructed) # Failed to reconstruct"
   ]
  },
  {
   "cell_type": "markdown",
   "metadata": {},
   "source": [
    "For another $A=\\begin{pmatrix}0&1\\\\\n",
    "-1&0\\end{pmatrix}$, we can find that it has two eigenvalues $\\pm j$, where $j$ is an imaginary number, each of which has an algebraic multiplicity of $1$, so totally $2$.\n",
    "\n",
    "For the geometric multiplicity, we can see that for either $j$ or $-j$, it has a corresponding one-dimensional eigenspace spanned by an one-dimensional eigenvector $c\\begin{pmatrix}j\\\\1\n",
    "\\end{pmatrix}$ or $c\\begin{pmatrix}-j\\\\1\n",
    "\\end{pmatrix}$, respectively, so totally $2$.\n",
    "\n",
    "The algebraic and geometric multiplicity are equal. So that $A=\\begin{pmatrix}0&1\\\\\n",
    "-1&0\\end{pmatrix}$ is diagonalizable.\n",
    "\n",
    "It should be note that the eigenvectors obtained below are different with our manual calculation. This is not a mistake because they spanned the same eigenspaces.\n",
    "\n",
    "The reconstruction will succeed, as exampled below."
   ]
  },
  {
   "cell_type": "code",
   "execution_count": 6,
   "metadata": {},
   "outputs": [
    {
     "name": "stdout",
     "output_type": "stream",
     "text": [
      "The eigenvalues D are:\n",
      " [[0.+1.j 0.+0.j]\n",
      " [0.+0.j 0.-1.j]]\n",
      "The eigenvectors p are:\n",
      " [[0.7071+0.j     0.7071-0.j    ]\n",
      " [0.    +0.7071j 0.    -0.7071j]]\n",
      "The original A is:\n",
      " [[ 0.  1.]\n",
      " [-1.  0.]]\n",
      "The reconstructed A is:\n",
      " [[ 0.+0.j  1.+0.j]\n",
      " [-1.+0.j  0.+0.j]]\n"
     ]
    }
   ],
   "source": [
    "A = np.array([[0,1],\n",
    "             [-1,0]], dtype=float)\n",
    "\n",
    "D_diag, P = la.eig(A)\n",
    "D = np.diag(D_diag)\n",
    "print(\"The eigenvalues D are:\\n\", D.round(4))\n",
    "print(\"The eigenvectors p are:\\n\", P.round(4))\n",
    "\n",
    "# Examine\n",
    "A_reconstructed = P.dot(D).dot(la.inv(P))\n",
    "\n",
    "print(\"The original A is:\\n\", A)\n",
    "print(\"The reconstructed A is:\\n\", A_reconstructed) # Succeed in reconstruction"
   ]
  },
  {
   "cell_type": "markdown",
   "metadata": {},
   "source": [
    "### Examples<a name=\"Example\"></a>\n",
    "[Return to Table of Content](#Table_of_Content)\n",
    "\n",
    "Recall that we have the following equations.\n",
    "\\begin{align}\n",
    "A&=PDP^{-1} \\tag{1} \\\\\n",
    "P^{-1}AP&=D  \\tag{2} \\\\ \n",
    "P^{-1}A&=DP^{-1} \\tag{3}\\\\ \n",
    "AP&=PD \\tag{4}\n",
    "\\end{align}\n",
    "\n",
    "\n",
    "Let us diagonalize a matrix. Since we are coding, it is much simpler compared to the four-step manner from the lecture notes. To examine, we can print the reconstructed $A$ following Eq. (1), and also print $AP$ and $PD$ to see whether Eq. (4) is satisfied, i.e., whether $AP=PD$."
   ]
  },
  {
   "cell_type": "code",
   "execution_count": 7,
   "metadata": {},
   "outputs": [
    {
     "name": "stdout",
     "output_type": "stream",
     "text": [
      "The eigenvalues D are:\n",
      " [[2. 0. 0.]\n",
      " [0. 1. 0.]\n",
      " [0. 0. 2.]]\n",
      "The eigenvectors p are:\n",
      " [[ 0.     -0.8165  0.7071]\n",
      " [ 1.      0.4082  0.    ]\n",
      " [ 0.      0.4082 -0.7071]]\n",
      "The original A is:\n",
      " [[ 0.  0. -2.]\n",
      " [ 1.  2.  1.]\n",
      " [ 1.  0.  3.]]\n",
      "The reconstructed A is:\n",
      " [[ 0.  0. -2.]\n",
      " [ 1.  2.  1.]\n",
      " [ 1.  0.  3.]]\n",
      "AP equals:\n",
      " [[ 0.         -0.81649658  1.41421356]\n",
      " [ 2.          0.40824829  0.        ]\n",
      " [ 0.          0.40824829 -1.41421356]]\n",
      "PD equals:\n",
      " [[ 0.         -0.81649658  1.41421356]\n",
      " [ 2.          0.40824829  0.        ]\n",
      " [ 0.          0.40824829 -1.41421356]]\n",
      "Reconstruction succeed? True\n",
      "AP equals PD? True\n"
     ]
    }
   ],
   "source": [
    "A = np.array([[0,0,-2],\n",
    "             [1,2,1],\n",
    "             [1,0,3]], dtype=float)\n",
    "\n",
    "# Diagonalization using Eq. 1\n",
    "D_diag, P = la.eig(A)\n",
    "D = np.diag(D_diag)\n",
    "print(\"The eigenvalues D are:\\n\", D.round(4))\n",
    "print(\"The eigenvectors p are:\\n\", P.round(4))\n",
    "\n",
    "# Reconstruction again using Eq. 1 \n",
    "A_reconstructed = P.dot(D).dot(la.inv(P))\n",
    "\n",
    "# Check the reconstruction\n",
    "print(\"The original A is:\\n\", A)\n",
    "print(\"The reconstructed A is:\\n\", A_reconstructed)\n",
    "print(\"AP equals:\\n\", A.dot(P))\n",
    "print(\"PD equals:\\n\", P.dot(D))\n",
    "print(\"Reconstruction succeed?\", np.allclose(A, A_reconstructed))\n",
    "\n",
    "\n",
    "# Eq. 4\n",
    "AP = A.dot(P)\n",
    "PD = P.dot(D)\n",
    "\n",
    "# Check equality following Eq. 4\n",
    "print(\"AP equals PD?\", np.allclose(AP, PD))"
   ]
  },
  {
   "cell_type": "markdown",
   "metadata": {},
   "source": [
    "When $A$ is not diagonalizable, we will see that the reconstruction fails, though $AP=PD$."
   ]
  },
  {
   "cell_type": "code",
   "execution_count": 8,
   "metadata": {},
   "outputs": [
    {
     "name": "stdout",
     "output_type": "stream",
     "text": [
      "The eigenvalues D are:\n",
      " [[2. 0. 0.]\n",
      " [0. 2. 0.]\n",
      " [0. 0. 1.]]\n",
      "The eigenvectors p are:\n",
      " [[ 0.      0.      0.1231]\n",
      " [ 0.      0.     -0.1231]\n",
      " [ 1.     -1.      0.9847]]\n",
      "The original A is:\n",
      " [[ 1.  0.  0.]\n",
      " [ 1.  2.  0.]\n",
      " [-3.  5.  2.]]\n",
      "The reconstructed A is:\n",
      " [[ 1.  0.  0.]\n",
      " [ 1.  2.  0.]\n",
      " [-8.  0.  2.]]\n",
      "AP equals:\n",
      " [[ 0.00000000e+00  0.00000000e+00  1.23091491e-01]\n",
      " [ 0.00000000e+00  1.77635684e-16 -1.23091491e-01]\n",
      " [ 2.00000000e+00 -2.00000000e+00  9.84731928e-01]]\n",
      "PD equals:\n",
      " [[ 0.00000000e+00  0.00000000e+00  1.23091491e-01]\n",
      " [ 0.00000000e+00  1.77635684e-16 -1.23091491e-01]\n",
      " [ 2.00000000e+00 -2.00000000e+00  9.84731928e-01]]\n",
      "Reconstruction succeed? False\n",
      "AP equals PD? True\n"
     ]
    }
   ],
   "source": [
    "A = np.array([[1,0,0],\n",
    "             [1,2,0],\n",
    "             [-3,5,2]], dtype=float)\n",
    "\n",
    "# Diagonalization using Eq. 1\n",
    "D_diag, P = la.eig(A)\n",
    "D = np.diag(D_diag)\n",
    "print(\"The eigenvalues D are:\\n\", D.round(4))\n",
    "print(\"The eigenvectors p are:\\n\", P.round(4))\n",
    "\n",
    "# Reconstruction again using Eq. 1 \n",
    "A_reconstructed = P.dot(D).dot(la.inv(P))\n",
    "\n",
    "# Check the reconstruction\n",
    "print(\"The original A is:\\n\", A)\n",
    "print(\"The reconstructed A is:\\n\", A_reconstructed)\n",
    "print(\"AP equals:\\n\", A.dot(P))\n",
    "print(\"PD equals:\\n\", P.dot(D))\n",
    "print(\"Reconstruction succeed?\", np.allclose(A, A_reconstructed))\n",
    "\n",
    "\n",
    "# Eq. 4\n",
    "AP = A.dot(P)\n",
    "PD = P.dot(D)\n",
    "\n",
    "# Check equality following Eq. 4\n",
    "print(\"AP equals PD?\", np.allclose(AP, PD))"
   ]
  },
  {
   "cell_type": "markdown",
   "metadata": {},
   "source": [
    "### Takeaways<a name=\"Takeaways\"></a>\n",
    "[Return to Table of Content](#Table_of_Content)\n",
    "\n",
    "1. Diagonalization is done by eigen decomposition $A=PDP^{-1}$.\n",
    "2. For the similarity transformation $A=PDP^{-1}x$, $P^{-1}$ change the system obtaining $x'=P^{-1}x$ in the new system, during which the point is fixed! $D$ scale $x'$ in the new system obtaining $b'=Dx'=DP^{-1}x$, during which the point is moved! And finally, $P$ change the system back obtaining $b=Pb'=PDP^{-1}x$ in the original system, during which the point is fixed!\n",
    "2. Moving the point by transformation $A$ in the original system $O$ is equivalent to moving the point by transformation $D$ in the new system $OP$."
   ]
  },
  {
   "cell_type": "markdown",
   "metadata": {},
   "source": [
    "### Practice<a name=\"Practice\"></a>\n",
    "[Return to Table of Content](#Table_of_Content)\n",
    "1. For an EVD $A=PDP^{-1}$, intepret $P$ and $D$ by the following considerations:\n",
    "    + Based on the visualization from Fig 4 and the corresponding instruction, what are the roles of $P$ and $D$?\n",
    "    + Can we say $P$ defines the new axes, and $D$ defines the magnitude along the corresponding new axes?\n",
    "    + Can we say $P$ are the \"ingredients\", and $D$ the \"recipe\"?\n",
    "    + To make a nice meal, we need lots of ingredients and the recipe to combine them. Which ingredient is the most important? Is the one weighed the most?\n",
    "    + Which eigenvector in $P$ is the most important? Is the one associated with the largest eigenvalue in $D$?"
   ]
  }
 ],
 "metadata": {
  "kernelspec": {
   "display_name": "Python 3",
   "language": "python",
   "name": "python3"
  },
  "language_info": {
   "codemirror_mode": {
    "name": "ipython",
    "version": 3
   },
   "file_extension": ".py",
   "mimetype": "text/x-python",
   "name": "python",
   "nbconvert_exporter": "python",
   "pygments_lexer": "ipython3",
   "version": "3.7.1"
  }
 },
 "nbformat": 4,
 "nbformat_minor": 2
}
