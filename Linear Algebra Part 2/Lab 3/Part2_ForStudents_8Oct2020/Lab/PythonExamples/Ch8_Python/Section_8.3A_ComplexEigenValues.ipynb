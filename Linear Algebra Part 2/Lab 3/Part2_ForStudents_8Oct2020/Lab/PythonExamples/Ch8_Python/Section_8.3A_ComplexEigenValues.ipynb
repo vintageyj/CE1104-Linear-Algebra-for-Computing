{
 "cells": [
  {
   "cell_type": "code",
   "execution_count": 2,
   "metadata": {},
   "outputs": [],
   "source": [
    "# Complex Eigenvalues\n",
    "# Author: Zhang Su (Teaching Assistant)\n",
    "# Using python3, numpy, matplotlib.\n",
    "# 21 June 2020"
   ]
  },
  {
   "cell_type": "markdown",
   "metadata": {},
   "source": [
    "# Learning Outcome\n",
    "\n",
    "By the end of this material, you should be able to:\n",
    "\n",
    "+ Witness the rotation and scaling effect produced by complex eigenvalues and eigenvectors.\n",
    "+ Design a matrix producing \n",
    "    + couterclockwise 2-Drotation with a specific degree, and \n",
    "    + scaling with a specific factor.\n",
    "\n",
    "\n",
    "Note: \n",
    "1. If you occasionally double clicked a textual cell, the display would change to markdown source code. To reverse, simply click anywhere of that markdown cell,  and then click **Run** in the top manu.\n",
    "2. Sometimes the notebook may not be responding. That is caused by the failure of jupyter kernel. To repair, try clicking **Kernel** in the top manu, then clicking **Reconnect**. \n",
    "3. Section Takeaways summarizes useful tips, e.g., holes of Python to avoid, if any.\n",
    "4. Section Practice reflect the learning outcomes. You are expected to solve them based on your understanding on the lecture notes alone with the coding skills learned from this demo.\n",
    "\n",
    "## If you just opened the demo, please manually run the cell one-by-one to show the animation correctly!"
   ]
  },
  {
   "cell_type": "markdown",
   "metadata": {},
   "source": [
    "# Table of contents <a name=\"Table_of_Content\"></a>\n",
    "+ [Recap of Eigen Decomposition](#RED)\n",
    "    + [Scaling-only Transformation](#ST)\n",
    "+ [Rotation Transformation](#R)\n",
    "    + [How Does Rotation Happen?](#HDRH)\n",
    "    + [Example](#Example)\n",
    "+ [Design a Transformation with Specific Scaling and Rotation](#DRT)\n",
    "+ [Takwaways](#Takeaways)\n",
    "+ [Practice](#Practice)\n",
    "\n",
    "In this demo we will start by recapping the eigen decomposition on $\\mathbb{R}^2$, using the example we used in `Section_8.1_EVD` demo.\n",
    "\n",
    "Recall that we have made a conclusion that **an eigenvalue `d` will scale anything in the eigenspace by a factor of `d`.** Today you will find that **it is not the whole story when `d` is a complex number**.\n",
    "\n",
    "Let's import the libraries."
   ]
  },
  {
   "cell_type": "code",
   "execution_count": 3,
   "metadata": {},
   "outputs": [],
   "source": [
    "import numpy as np\n",
    "from numpy import linalg as la\n",
    "import matplotlib.pyplot as plt\n",
    "import matplotlib.animation as anime\n",
    "from matplotlib import cm\n",
    "from pylab import *\n",
    "%matplotlib notebook\n",
    "\n",
    "# You may ignore the warnings."
   ]
  },
  {
   "cell_type": "markdown",
   "metadata": {},
   "source": [
    "### Recap of Eigen Decomposition<a name=\"RED\"></a>\n",
    "[Return to Table of Content](#Table_of_Content)\n",
    "\n",
    "Given $A=\\begin{pmatrix}2 & 1\\\\\n",
    "1 & 2\n",
    "\\end{pmatrix}$, we carry out the eigen decomposition as below."
   ]
  },
  {
   "cell_type": "code",
   "execution_count": 4,
   "metadata": {},
   "outputs": [
    {
     "name": "stdout",
     "output_type": "stream",
     "text": [
      "The eigenvalues D are \n",
      " [[3. 0.]\n",
      " [0. 1.]]\n",
      "The eigenvectors P are \n",
      " [[ 0.7071 -0.7071]\n",
      " [ 0.7071  0.7071]]\n",
      "The human-friendly version of eigenvectors P are \n",
      " [[ 1. -1.]\n",
      " [ 1.  1.]]\n"
     ]
    }
   ],
   "source": [
    "A = np.array([[2, 1],\n",
    "             [1, 2]], dtype=float)\n",
    "\n",
    "D_diag, P = la.eig(A)\n",
    "D = np.diag(D_diag)\n",
    "print(\"The eigenvalues D are \\n\", D.round(4))\n",
    "print(\"The eigenvectors P are \\n\", P.round(4))\n",
    "print(\"The human-friendly version of eigenvectors P are \\n\", np.array([[1, -1],\n",
    "             [1, 1]], dtype=float))"
   ]
  },
  {
   "cell_type": "markdown",
   "metadata": {},
   "source": [
    "#### Scaling-only Transformation<a name=\"ST\"></a>\n",
    "[Return to Table of Content](#Table_of_Content)\n",
    "\n",
    "By manually taking $P=\\begin{pmatrix}1 & -1\\\\\n",
    "1 & 1\n",
    "\\end{pmatrix}$ in a human-friendly manner, we can see, as we analyzed previously, that any points (in fact each point represent a vector, remember this) located on the eigenvectors $\\begin{pmatrix}1\\\\1\\end{pmatrix}$ and $\\begin{pmatrix}-1\\\\1\\end{pmatrix}$, will be scaled by the factors of $3$ and $1$, respectively. As for other points, they are also scaled but not by a consistent factor, as visualized below.\n",
    "\n",
    "![](img/eigen_space.png)\n",
    ">Figure 1. The visualization of the linear transformation $x\\mapsto Ax$ on $\\mathbb{R}^2$.\n",
    "\n",
    "So we made a conclusion that **an eigenvalue `d` will scale anything in the eigenspace by a factor of `d`.**\n",
    "\n",
    "Now let's see another case, which is *rotation*, in addition to the *scaling*.\n"
   ]
  },
  {
   "cell_type": "markdown",
   "metadata": {},
   "source": [
    "### Rotation<a name=\"R\"></a>\n",
    "[Return to Table of Content](#Table_of_Content)\n",
    "\n",
    "Given $A=\\begin{pmatrix}0&-1\\\\\n",
    "1&0\\end{pmatrix}$, a vector $x_0$, and the what linear transformation $x\\mapsto Ax$, we obtain:\n",
    "\n",
    "$$\n",
    "\\begin{align}\n",
    "x_1&=Ax_0\\\\\n",
    "x_2&=Ax_1=AAx_0\\\\\n",
    "x_3&=Ax_2=AAx_1=AAAx_0\\\\\n",
    "\\ldots\\\\\n",
    "x_n&=Ax_{n-1}=A^{n}x_0\n",
    "\\end{align}\n",
    "$$\n",
    "\n",
    "If $A$ is so-called a *rotation matrix*, then at some $n=i$ we may see $x_i=x_0$. Let's animate these imagination and check!"
   ]
  },
  {
   "cell_type": "code",
   "execution_count": 5,
   "metadata": {},
   "outputs": [
    {
     "data": {
      "image/png": "[encoded data removed]",
      "text/plain": [
       "<Figure size 432x288 with 1 Axes>"
      ]
     },
     "metadata": {
      "needs_background": "light"
     },
     "output_type": "display_data"
    }
   ],
   "source": [
    "A, x = np.array([[0, -1],[1, 0]]), np.array([[1],[0]])\n",
    "fargs = [A, x]\n",
    "\n",
    "plt.close() # This is to close other interactive plots, or the animation will glitch!\n",
    "\n",
    "# Initiate the plot\n",
    "fig = plt.figure()\n",
    "ax = plt.axes(xlim=(-2, 2), ylim=(-2, 2))\n",
    "\n",
    "line, = ax.plot([0, 1],[0,0], color = 'b', linewidth = 1)\n",
    "text(1, 0, 'x_0 = [1, 0] = x_0', fontsize=12,horizontalalignment='center')\n",
    "text(0, 1, 'x\\' = [0, 1] = Ax', fontsize=12,horizontalalignment='center')\n",
    "text(-1, 0, 'x\\'\\' = [-1, 0] = Ax\\'', fontsize=12,horizontalalignment='center')\n",
    "text(0, -1, 'x\\'\\'\\' = [0, -1] = Ax\\'\\'', fontsize=12,horizontalalignment='center')\n",
    "\n",
    "\n",
    "def update(i, *fargs):\n",
    "    # Get the original A and x\n",
    "    A, x = fargs\n",
    "    \n",
    "    # Calculate the A to the power of n\n",
    "    A = la.matrix_power(A, int(i+1))\n",
    "    \n",
    "    # Transform x\n",
    "    x = A.dot(x)\n",
    "    \n",
    "    # Update the line\n",
    "    line.set_data([0, x[0,0]],[0,x[1,0]])\n",
    "    return line\n",
    "\n",
    "# Update the canvas\n",
    "fig.canvas.draw()\n",
    "# Animate the figure, the speed is controlled by 'interval'\n",
    "# A larger 'interval' lead to slower speed.\n",
    "ani = anime.FuncAnimation(fig, update, fargs=fargs, interval=500)"
   ]
  },
  {
   "cell_type": "markdown",
   "metadata": {},
   "source": [
    "As expected, when $n=4$, we get $x_0$ back. We conclude that this $A=\\begin{pmatrix}0&-1\\\\\n",
    "1&0\\end{pmatrix}$ can rotate a vector for $\\pi/2$ rad on a 2-d plane. How about lots of $x$? Let's animate and check!\n",
    "\n",
    "In the example below, the red line is drawn so that the animation will not cheat our eyes. You should see that the whole grid is rotated for $\\pi/2$ rad as well."
   ]
  },
  {
   "cell_type": "code",
   "execution_count": 6,
   "metadata": {},
   "outputs": [
    {
     "data": {
      "image/png": "[encoded data removed]",
      "text/plain": [
       "<Figure size 432x432 with 1 Axes>"
      ]
     },
     "metadata": {
      "needs_background": "light"
     },
     "output_type": "display_data"
    }
   ],
   "source": [
    "A, x = np.array([[0, -1],[1, 0]]), np.array([[2],[0]])\n",
    "fargs = [A, x]\n",
    "\n",
    "plt.close() # This is to close other interactive plots, or the animation will glitch!\n",
    "fig = plt.figure(figsize=(6, 6))\n",
    "ax = plt.axes(xlim=(-4.5, 4.5), ylim=(-4.5, 4.5))\n",
    "\n",
    "scat = ax.scatter([],[])\n",
    "line, = ax.plot([],[], color = 'r', linewidth = 2)\n",
    "\n",
    "def update(i, *fargs):\n",
    "    # Get the original A and x\n",
    "    A, x = fargs\n",
    "    \n",
    "    # Calculate the red vector.\n",
    "    A = la.matrix_power(A, int(i+1))\n",
    "    x = A.dot(x)\n",
    "    \n",
    "    # Calculate the grid.\n",
    "    density = 0.5\n",
    "    x1, x2 = np.mgrid[slice(0, 2 + density, density),\n",
    "                     slice(-1, 1 + density, density)]\n",
    "    all_the_v = np.c_[x1.flatten(), x2.flatten()]\n",
    "    all_the_b = all_the_v.dot(A.T)\n",
    "    \n",
    "    \n",
    "    # Update the data\n",
    "    line.set_data([0, x[0,0]],[0,x[1,0]])\n",
    "    scat.set_offsets(all_the_b)\n",
    "    return [scat, line]\n",
    "\n",
    "\n",
    "fig.canvas.draw()\n",
    "ani = anime.FuncAnimation(fig, update, fargs=fargs, interval=500)"
   ]
  },
  {
   "cell_type": "markdown",
   "metadata": {},
   "source": [
    "### How Does Rotation Happen?<a name=\"HDRH\"></a>\n",
    "[Return to Table of Content](#Table_of_Content)\n",
    "\n",
    "The secret to the rotation is hidden in the real and imaginary parts of a complex eigenvector.\n",
    "\n",
    "Let's carry out eigen decomposition on $A=\\begin{pmatrix}0&-1\\\\\n",
    "1&0\\end{pmatrix}$. We should obtain two eigenvalues $\\lambda_1=i$ and $\\lambda_2=-i$, which are corresponding to eigenvector $v_1=\\begin{pmatrix}1\\\\-i\\end{pmatrix}$ and $v_2=\\begin{pmatrix}1\\\\i\\end{pmatrix}$, respectively, i.e.,\n",
    "\n",
    "$$\n",
    "\\begin{align}\n",
    "Av_1=\\begin{pmatrix}0&-1\\\\\n",
    "1&0\\end{pmatrix}\\begin{pmatrix}1\\\\-i\\end{pmatrix}&=\\begin{pmatrix}i\\\\1\\end{pmatrix}=i\\begin{pmatrix}1\\\\-i\\end{pmatrix}=\\lambda_1v_1,\\\\\n",
    "Av_2=\\begin{pmatrix}0&-1\\\\\n",
    "1&0\\end{pmatrix}\\begin{pmatrix}1\\\\i\\end{pmatrix}&= \\begin{pmatrix}-i\\\\1\\end{pmatrix}=-i\\begin{pmatrix}1\\\\i\\end{pmatrix}=\\lambda_2v_2.\n",
    "\\end{align}\n",
    "$$\n",
    "\n",
    "In sum, $A$ has conjugate eigenvalues $\\lambda=\\pm i$, which are corresponding to conjugate eigenvectors $v=\\begin{pmatrix}1\\\\\\mp i\\end{pmatrix}$.\n",
    "\n",
    "The eigenvectors can be further written as $v=\\begin{pmatrix}1+0i\\\\0\\mp i\\end{pmatrix}$. I.e., \n",
    "\n",
    "$$v_1=\\begin{pmatrix}1+0i\\\\0-i\\end{pmatrix}$$\n",
    "\n",
    "$$v_2=\\begin{pmatrix}1+0i\\\\0+i\\end{pmatrix}$$\n",
    "\n",
    "By picking up only the real and imaginary parts (excluding $i$) and forming a matrix $\\begin{bmatrix}Re(v)&Im(v)\\end{bmatrix}$, for each eigenvectors we respectively have\n",
    "\n",
    "$$Eigenspace_1=\\begin{pmatrix}1&0\\\\0&-1\\end{pmatrix}$$\n",
    "\n",
    "$$Eigenspace_2=\\begin{pmatrix}1&0\\\\0&1\\end{pmatrix}$$\n",
    "\n",
    "We see that either $v_1$ or $v_2$ is capable of spanning a 2-D plane, thus it can include every point in th in its eigenspace, and finally produce the transformation.\n",
    "\n",
    "A detailed explanation of how the complex eigenvectors span the plane is available at [this link](https://math.stackexchange.com/questions/1546104/complex-eigenvalues-of-a-rotation-matrix)."
   ]
  },
  {
   "cell_type": "code",
   "execution_count": 7,
   "metadata": {
    "scrolled": true
   },
   "outputs": [
    {
     "name": "stdout",
     "output_type": "stream",
     "text": [
      "The eigenvalues D are \n",
      " [[0.8+0.6j 0. +0.j ]\n",
      " [0. +0.j  0.8-0.6j]]\n",
      "The eigenvectors P are \n",
      " [[-0.2981+0.5963j -0.2981-0.5963j]\n",
      " [ 0.7454+0.j      0.7454-0.j    ]]\n",
      "The result of Ax equals\n",
      " [[0.5 +0.6j]\n",
      " [0.75-1.1j]]\n"
     ]
    }
   ],
   "source": [
    "A = np.array([[0.5, -0.6],\n",
    "             [0.75, 1.1]], dtype=float)\n",
    "\n",
    "D_diag, P = la.eig(A)\n",
    "D = np.diag(D_diag)\n",
    "print(\"The eigenvalues D are \\n\", D)\n",
    "print(\"The eigenvectors P are \\n\", P.round(4))\n",
    "\n",
    "x = np.array([[1],\n",
    "             [-1j]], dtype=complex)\n",
    "x_transformed = A.dot(x)\n",
    "\n",
    "print(\"The result of Ax equals\\n\", x_transformed)"
   ]
  },
  {
   "cell_type": "markdown",
   "metadata": {},
   "source": [
    "#### Example<a name=\"Example\"></a>\n",
    "[Return to Table of Content](#Table_of_Content)\n",
    "\n",
    "Given $A=\\begin{pmatrix}0.5& -0.6\\\\\n",
    "0.75&1.1\\end{pmatrix}$, we would like to scale and rotate a vector $x=\\begin{pmatrix}1\\\\0\\end{pmatrix}$, with a elliptical trajectory.\n",
    "\n",
    "![](img/elip.png)\n",
    ">Figure 1. An elliptical trajectory produced by complex eigenvalues and eigenvectors.\n",
    "\n",
    "First, let us carry out the eigen decomposition on $A$."
   ]
  },
  {
   "cell_type": "code",
   "execution_count": 8,
   "metadata": {},
   "outputs": [
    {
     "name": "stdout",
     "output_type": "stream",
     "text": [
      "The eigenvalues D are \n",
      " [[0.8+0.6j 0. +0.j ]\n",
      " [0. +0.j  0.8-0.6j]]\n",
      "The eigenvectors P are \n",
      " [[-0.2981+0.5963j -0.2981-0.5963j]\n",
      " [ 0.7454+0.j      0.7454-0.j    ]]\n",
      "The result of Ax equals\n",
      " [[0.5 +0.6j]\n",
      " [0.75-1.1j]]\n"
     ]
    }
   ],
   "source": [
    "A = np.array([[0.5, -0.6],\n",
    "             [0.75, 1.1]], dtype=float)\n",
    "\n",
    "D_diag, P = la.eig(A)\n",
    "D = np.diag(D_diag)\n",
    "print(\"The eigenvalues D are \\n\", D)\n",
    "print(\"The eigenvectors P are \\n\", P.round(4))\n",
    "\n",
    "x = np.array([[1],\n",
    "             [-1j]], dtype=complex)\n",
    "x_transformed = A.dot(x)\n",
    "\n",
    "print(\"The result of Ax equals\\n\", x_transformed)"
   ]
  },
  {
   "cell_type": "markdown",
   "metadata": {},
   "source": [
    "The results show that $A$ has conjugate eigenvalues and eigenvectors, which are no problem to span a 2-D plane, and produce scaling and rotation, as animated below."
   ]
  },
  {
   "cell_type": "code",
   "execution_count": 9,
   "metadata": {},
   "outputs": [
    {
     "data": {
      "image/png": "[encoded data removed]",
      "text/plain": [
       "<Figure size 432x288 with 1 Axes>"
      ]
     },
     "metadata": {
      "needs_background": "light"
     },
     "output_type": "display_data"
    }
   ],
   "source": [
    "A, x = np.array([[0.5, -0.6],[0.75, 1.1]]), np.array([[1],[0]])\n",
    "fargs = [A, x]\n",
    "\n",
    "plt.close() # This is to close other interactive plots, or the animation will glitch!\n",
    "fig = plt.figure()\n",
    "ax = plt.axes(xlim=(-2, 2), ylim=(-2, 2))\n",
    "\n",
    "# Initiate the lines, points, and txt\n",
    "line, = ax.plot([0, 1],[0,0], color = 'b', linewidth = 1)\n",
    "pts, = ax.plot([],[], color = 'r', linewidth = 1)\n",
    "txt = ax.text(1.4,1.4,'x_0=[1, 0]', horizontalalignment='center')\n",
    "pts_x, pts_y = [], []\n",
    "\n",
    "\n",
    "\n",
    "def update(i, *fargs):\n",
    "\n",
    "    # Get the original A and x\n",
    "    A, x = fargs\n",
    "    \n",
    "    # Calculate A to the power of i\n",
    "    A = la.matrix_power(A, int(i+1))\n",
    "    \n",
    "    # Apply the transformation\n",
    "    x = A.dot(x)\n",
    "    \n",
    "    # Record the new coordinates\n",
    "    pts_x.append(x[0,0])\n",
    "    pts_y.append(x[1,0])\n",
    "    \n",
    "    # Update the plot \n",
    "    line.set_data([0, x[0,0]],[0,x[1,0]])\n",
    "    pts.set_data(pts_x, pts_y)\n",
    "    string = 'x_{}=[{}, {}]'.format((i+1), x[0,0].round(2), x[1,0].round(2))\n",
    "    txt.set_text(string)\n",
    "    \n",
    "    return [line,pts,txt]\n",
    "\n",
    "\n",
    "fig.canvas.draw()\n",
    "ani = anime.FuncAnimation(fig, update, fargs=fargs, interval=500)\n",
    "\n",
    "plt.show()"
   ]
  },
  {
   "cell_type": "markdown",
   "metadata": {},
   "source": [
    "### Design a Transformation with Specific Scaling and Rotation<a name=\"DRT\"></a>\n",
    "[Return to Table of Content](#Table_of_Content)\n",
    "\n",
    "Following the instruction in the lecture notes, i.e.,\n",
    "![](img/design_rotate.png)\n",
    "\n",
    "we can conveniently design any transformation of scaling and rotation.\n",
    "\n",
    "Let's build a transformation which can rotate a vector for $5$ degree and also scale it by a factor of $0.995$, simultaneously. \n",
    "\n",
    "\n",
    "Accordingly, we set the variables as following.\n",
    "\n",
    "$$\n",
    "a=1 \\tag{1}\n",
    "$$\n",
    "\n",
    "$$\n",
    "\\varphi=\\frac{5\\pi}{180} \\tag{2}\n",
    "$$\n",
    "\n",
    "$$\n",
    "b=a\\cdot\\tan{\\varphi} \\tag{3}\n",
    "$$\n",
    "\n",
    "$$\n",
    "r=\\sqrt{a^2+b^2} \\tag{4}\n",
    "$$\n",
    "\n",
    "$$\n",
    "A = r'\\begin{pmatrix}a/r&-b/r\\\\b/r&a/r\\end{pmatrix} \\tag{5}\n",
    "$$\n",
    "where $r'=0.995$ produce the collapse. (If we use $r$ instead of $r'$, then the rotation will produce a standard circle, not a spiral.)\n",
    "\n",
    "+ Eq. (1) can be set to any scalar. The value does not matter.\n",
    "+ Eq. (2) is the angle represented by radian.\n",
    "+ Eq. (3) forces that $\\tan{\\varphi}=\\frac{b}{a}$.\n",
    "+ Eq. (4) is the magnitude of the complex eigenvalue $\\lambda=a\\pm bi$.\n",
    "+ Eq. (5) uses $r'<1$ to produce the collapse.\n",
    "\n",
    "Since $\\varphi=5\\frac{\\pi}{180}$, we will have $T=\\frac{2\\pi}{\\varphi}=\\frac{360\\pi}{5\\pi}=72$ repetitions for one cycle. We can imagine that for every 72 repetitions we get a shrinked $x$ back! And finally, the trajectory collapses to the centroid, being as a spiral."
   ]
  },
  {
   "cell_type": "code",
   "execution_count": 10,
   "metadata": {},
   "outputs": [
    {
     "name": "stdout",
     "output_type": "stream",
     "text": [
      "1.0038198375433474\n"
     ]
    },
    {
     "data": {
      "image/png": "[encoded data removed]",
      "text/plain": [
       "<Figure size 432x288 with 1 Axes>"
      ]
     },
     "metadata": {
      "needs_background": "light"
     },
     "output_type": "display_data"
    }
   ],
   "source": [
    "plt.close() # This is to close other interactive plots, or the animation will glitch!\n",
    "\n",
    "fig = plt.figure()\n",
    "ax = plt.axes(xlim=(-2, 2), ylim=(-2, 2))\n",
    "line, = ax.plot([0, 1],[0,0], color = 'b', linewidth = 1)\n",
    "pts, = ax.plot([],[],color = 'r', linewidth = 1)\n",
    "txt = ax.text(1.4,1.4,'x_0=[1, 0]', horizontalalignment='center')\n",
    "pts_x, pts_y = [], []\n",
    "\n",
    "a = 1\n",
    "phi = 5*pi/180\n",
    "b = a * np.tan(phi)\n",
    "r = np.sqrt(a*a + b*b)\n",
    "A = 0.995 * np.array([[a/r, -b/r],\n",
    "                     [b/r, a/r]])\n",
    "x = np.array([[1],[0]])\n",
    "\n",
    "fargs = [A, x]\n",
    "def update(i, *fargs):\n",
    "    \n",
    "    # Get the original A and x\n",
    "    A, x = fargs\n",
    "    \n",
    "    ##### Calculate the new x_i ###########################\n",
    "    A = la.matrix_power(A, int(i+1))\n",
    "    x = A.dot(x)\n",
    "    #######################################################\n",
    "    \n",
    "    ##### Append the new x_i to draw the trajectory #######\n",
    "    pts_x.append(x[0,0])\n",
    "    pts_y.append(x[1,0])\n",
    "    #######################################################\n",
    "    \n",
    "    ##### Update the plot #################################\n",
    "    line.set_data([0, x[0,0]],[0,x[1,0]])\n",
    "    pts.set_data(pts_x, pts_y)\n",
    "    string = 'x_{}=[{}, {}]'.format((i+1)%72, x[0,0].round(2), x[1,0].round(2))\n",
    "    txt.set_text(string)\n",
    "    #######################################################\n",
    "    \n",
    "    return [line,pts, txt]\n",
    "\n",
    "\n",
    "fig.canvas.draw()\n",
    "ani = anime.FuncAnimation(fig, update, fargs=fargs, interval=100)\n",
    "\n",
    "plt.show()"
   ]
  },
  {
   "cell_type": "markdown",
   "metadata": {},
   "source": [
    "### Takeaways<a name=\"Takeaways\"></a>\n",
    "[Return to Table of Content](#Table_of_Content)\n",
    "\n",
    "1. Do read this [nice explanation](https://math.stackexchange.com/questions/1546104/complex-eigenvalues-of-a-rotation-matrix) explaining how to understand the meaning of complex eigenvalues of a rotation matrix.\n",
    "2. And also [this extraordinary page](http://twistedoakstudios.com/blog/Post7254_visualizing-the-eigenvectors-of-a-rotation) annimating the effect of different eigenvalues on the transformation."
   ]
  },
  {
   "cell_type": "markdown",
   "metadata": {},
   "source": [
    "### Practice<a name=\"Practice\"></a>\n",
    "[Return to Table of Content](#Table_of_Content)\n",
    "\n",
    "1. Define a routine `C = build_rotate(a, b, phi, r, scale)` following Eq. 1-5 by encapsulating relevant code from this demo, where `C` is the designed matrix for producing rotation (counterclockwise `phi` degree) and scaling (`scale` times)."
   ]
  },
  {
   "cell_type": "code",
   "execution_count": null,
   "metadata": {},
   "outputs": [],
   "source": []
  }
 ],
 "metadata": {
  "kernelspec": {
   "display_name": "Python 3",
   "language": "python",
   "name": "python3"
  },
  "language_info": {
   "codemirror_mode": {
    "name": "ipython",
    "version": 3
   },
   "file_extension": ".py",
   "mimetype": "text/x-python",
   "name": "python",
   "nbconvert_exporter": "python",
   "pygments_lexer": "ipython3",
   "version": "3.7.0"
  }
 },
 "nbformat": 4,
 "nbformat_minor": 2
}
