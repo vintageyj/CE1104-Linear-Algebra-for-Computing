{
 "cells": [
  {
   "cell_type": "markdown",
   "metadata": {},
   "source": [
    "# Lab 3\n",
    "## 4. Tasks\n",
    "### Question 1"
   ]
  },
  {
   "cell_type": "code",
   "execution_count": 1,
   "metadata": {},
   "outputs": [],
   "source": [
    "import numpy as np\n",
    "from numpy import linalg as la\n",
    "import pandas as pd\n",
    "import dill"
   ]
  },
  {
   "cell_type": "code",
   "execution_count": 2,
   "metadata": {},
   "outputs": [
    {
     "name": "stdout",
     "output_type": "stream",
     "text": [
      "A1  = \t[[ 62.2 171.1  17. ]\n",
      "\t [ 52.2 162.6  19. ]\n",
      "\t [ 72.3 178.2  22. ]\n",
      "\t [ 80.8 185.2  24. ]\n",
      "\t [ 72.5 178.3  22. ]]\n"
     ]
    }
   ],
   "source": [
    "# Q1. Dot Product, Norm, Cosine Similarity\n",
    "\n",
    "# a. Initialising 5x4 data matrix raw_A1 from Table 1\n",
    "raw_A1 = [[62.2, 171.1, 17, 36.8],\n",
    "          [52.2, 162.6, 19, 36.5],\n",
    "          [72.3, 178.2, 22, 36.7],\n",
    "          [80.8, 185.2, 24, 37.9],\n",
    "          [72.5, 178.3, 22, 37.8]]\n",
    "raw_A1 = np.array(raw_A1, dtype = float)\n",
    "A1 = []\n",
    "for row in raw_A1:\n",
    "    A1.append(row[:-1])\n",
    "print(\"A1  = \", end = \"\")\n",
    "print('\\t' + str(np.vstack(A1)).replace('\\n','\\n\\t'))"
   ]
  },
  {
   "cell_type": "code",
   "execution_count": 3,
   "metadata": {},
   "outputs": [
    {
     "name": "stdout",
     "output_type": "stream",
     "text": [
      "Using the formula of cos(theta) = u.v / (||u|| * ||v||),\n",
      "where u & v are vectors representing the two persons.\n",
      "The closer the cosine value of the two persons is to 1,\n",
      "the more similar these two persons are.\n"
     ]
    }
   ],
   "source": [
    "# b. How will you measure the similarity between two\n",
    "#    persons based on the norm and dot product?\n",
    "\n",
    "print('''Using the formula of cos(theta) = u.v / (||u|| * ||v||),\n",
    "where u & v are vectors representing the two persons.\n",
    "The closer the cosine value of the two persons is to 1,\n",
    "the more similar these two persons are.''')"
   ]
  },
  {
   "cell_type": "code",
   "execution_count": 4,
   "metadata": {},
   "outputs": [],
   "source": [
    "# c. Implementing my own functions\n",
    "def my_norm(x):\n",
    "    mySum = 0\n",
    "    for i in np.nditer(x):\n",
    "        mySum += i*i\n",
    "    return np.sqrt(mySum)\n",
    "\n",
    "def my_dot(x, y):\n",
    "    mySum = 0\n",
    "    for i, j in np.nditer((x, y)):\n",
    "        mySum += i * j\n",
    "    return mySum\n",
    "\n",
    "def my_cosSimilarity(x, y):\n",
    "    # x.y = ||x|| * ||y|| * cos(theta)\n",
    "    # cos(theta) = x.y / (||x|| * ||y||)\n",
    "    dividend = my_dot(x, y)\n",
    "    divisor = my_norm(x) * my_norm(y)\n",
    "    return dividend / divisor"
   ]
  },
  {
   "cell_type": "code",
   "execution_count": 5,
   "metadata": {},
   "outputs": [
    {
     "name": "stdout",
     "output_type": "stream",
     "text": [
      "Norm Comparison\n",
      "Bob's Norm\n",
      "my_norm = 182.84706724473324 vs numPy = 182.84706724473324\n",
      "\n",
      "Alice's Norm\n",
      "my_norm = 171.8272388185296 vs numPy = 171.8272388185296\n",
      "\n",
      "Dot Product Comparison\n",
      "my_dot = 31390.699999999997 vs numPy = 31390.699999999997\n",
      "\n",
      "Consine Similarity Comparison\n",
      "my_cosSimilarity = 0.9991276784753994 vs numPy = 0.9991276784753994\n"
     ]
    }
   ],
   "source": [
    "# d. Comparing my functions to built-in numpy functions.\n",
    "Bob, Alice = A1[0], A1[1]\n",
    "print(\"Norm Comparison\")\n",
    "print(\"Bob's Norm\")\n",
    "print(\"my_norm =\", my_norm(Bob), \"vs numPy =\", np.linalg.norm(Bob))\n",
    "print()\n",
    "print(\"Alice's Norm\")\n",
    "print(\"my_norm =\", my_norm(Alice), \"vs numPy =\", np.linalg.norm(Alice))\n",
    "print()\n",
    "print(\"Dot Product Comparison\")\n",
    "print(\"my_dot =\", my_dot(Bob, Alice), \"vs numPy =\", np.dot(Bob, Alice))\n",
    "print()\n",
    "print(\"Consine Similarity Comparison\")\n",
    "print(\"my_cosSimilarity =\", my_cosSimilarity(Bob, Alice), \\\n",
    "      \"vs numPy =\", np.dot(Bob, Alice)/(np.linalg.norm(Bob)*np.linalg.norm(Alice)))"
   ]
  },
  {
   "cell_type": "code",
   "execution_count": 6,
   "metadata": {},
   "outputs": [
    {
     "name": "stdout",
     "output_type": "stream",
     "text": [
      "A1_norm    =\t[[0.34017499 0.93575469 0.09297387]\n",
      "\t\t [0.30379351 0.94629932 0.11057618]\n",
      "\t\t [0.37352232 0.92063178 0.11365824]\n",
      "\t\t [0.39709269 0.91016789 0.11794832]\n",
      "\t\t [0.37423304 0.92035519 0.11356037]]\n"
     ]
    }
   ],
   "source": [
    "# e. Obtaining A1_norm by normalizing each row of A1 to unit vector\n",
    "# Unit vector = vector / norm of vector\n",
    "def my_normalizing(matrix):\n",
    "    matrix_norm = []\n",
    "    for row in matrix:\n",
    "        matrix_norm.append(row/my_norm(row))\n",
    "    return matrix_norm\n",
    "A1_norm = np.vstack(my_normalizing(A1))\n",
    "print(\"A1_norm    =\", end = \"\")\n",
    "print('\\t' + str(A1_norm).replace('\\n','\\n\\t\\t'))"
   ]
  },
  {
   "cell_type": "code",
   "execution_count": 7,
   "metadata": {},
   "outputs": [
    {
     "name": "stdout",
     "output_type": "stream",
     "text": [
      "Norm Comparison\n",
      "Bob's Norm\n",
      "my_norm = 1.0 vs numPy = 1.0\n",
      "\n",
      "Alice's Norm\n",
      "my_norm = 0.9999999999999999 vs numPy = 0.9999999999999999\n",
      "\n",
      "Dot Product Comparison\n",
      "my_dot = 0.9991276784753995 vs numPy = 0.9991276784753995\n",
      "\n",
      "Consine Similarity Comparison\n",
      "my_cosSimilarity = 0.9991276784753996 vs numPy = 0.9991276784753996\n"
     ]
    }
   ],
   "source": [
    "# f. Repeat Q1d using normalized vector Matrix A1_norm\n",
    "Bob_norm, Alice_norm = A1_norm[0], A1_norm[1]\n",
    "print(\"Norm Comparison\")\n",
    "print(\"Bob's Norm\")\n",
    "print(\"my_norm =\", my_norm(Bob_norm), \"vs numPy =\", np.linalg.norm(Bob_norm))\n",
    "print()\n",
    "print(\"Alice's Norm\")\n",
    "print(\"my_norm =\", my_norm(Alice_norm), \"vs numPy =\", np.linalg.norm(Alice_norm))\n",
    "print()\n",
    "print(\"Dot Product Comparison\")\n",
    "print(\"my_dot =\", my_dot(Bob_norm, Alice_norm), \"vs numPy =\", np.dot(Bob_norm, Alice_norm))\n",
    "print()\n",
    "print(\"Consine Similarity Comparison\")\n",
    "print(\"my_cosSimilarity =\", my_cosSimilarity(Bob_norm, Alice_norm), \\\n",
    "      \"vs numPy =\", np.dot(Bob_norm, Alice_norm)/(np.linalg.norm(Bob_norm)*np.linalg.norm(Alice_norm)))"
   ]
  },
  {
   "cell_type": "code",
   "execution_count": 8,
   "metadata": {},
   "outputs": [
    {
     "name": "stdout",
     "output_type": "stream",
     "text": [
      "Similarity vector b:\n",
      "b   = \t[[0.99908955]\n",
      "\t [0.99717813]\n",
      "\t [0.9999997 ]\n",
      "\t [0.9996772 ]]\n"
     ]
    }
   ],
   "source": [
    "# g. Comparing consine similarity of unknown person against the rest\n",
    "unknown = A1_norm[-1]\n",
    "b = [] # Similarity measure vector b\n",
    "for i in range(4):\n",
    "    b.append(my_cosSimilarity(unknown, A1_norm[i]))\n",
    "b = np.vstack(b)\n",
    "print(\"Similarity vector b:\")\n",
    "print(\"b   = \", end = \"\")\n",
    "print('\\t' + str(b).replace('\\n','\\n\\t'))"
   ]
  },
  {
   "cell_type": "code",
   "execution_count": 9,
   "metadata": {},
   "outputs": [
    {
     "name": "stdout",
     "output_type": "stream",
     "text": [
      "Charlie is the most similar to the unknown person because his\n",
      "similarity measure is the highest compared to the rest.\n"
     ]
    }
   ],
   "source": [
    "# h. Which person on the table is most similar to the unknown person?\n",
    "print(\n",
    "'''Charlie is the most similar to the unknown person because his\n",
    "similarity measure is the highest compared to the rest.'''\n",
    ")"
   ]
  },
  {
   "cell_type": "markdown",
   "metadata": {},
   "source": [
    "### Question 2"
   ]
  },
  {
   "cell_type": "code",
   "execution_count": 10,
   "metadata": {},
   "outputs": [
    {
     "name": "stdout",
     "output_type": "stream",
     "text": [
      "Do matrix A's columns form an orthogonal set? False\n",
      "Do matrix B's columns form an orthogonal set? True\n",
      "\n",
      "Columns of B form an orthogonal set because the dot products\n",
      "between the columns = 0\n",
      "The dot product of b1 and b2 is 0.0\n",
      "The dot product of b1 and b3 is 0.0\n",
      "The dot product of b2 and b3 is 0.0\n"
     ]
    }
   ],
   "source": [
    "# Q2. Projection, Orthogonality\n",
    "\n",
    "# a. Which matrix's (A or B) columns form an orthogonal set? Why?\n",
    "A = [[1, 1, 1],\n",
    "     [1, 1, 1],\n",
    "     [1, 1, -1],\n",
    "     [1, -1, -1]]\n",
    "B = [[3, -1, -1/2],\n",
    "     [1, 2, -2],\n",
    "     [1, 1, 7/2],\n",
    "     [0, 1, 0]]\n",
    "\n",
    "# my_transpose function to transpose matrix\n",
    "def my_transpose(A):\n",
    "    transposed = np.zeros(shape=(len(A[0]),len(A)))\n",
    "    for i in range(len(A)):\n",
    "        for j in range(len(A[0])):\n",
    "            transposed[j][i] = A[i][j]\n",
    "    return transposed\n",
    "\n",
    "# Column vectors of matrix are orthogonal if their dot product = 0\n",
    "# Function comparing each column to check if they are orthogonal\n",
    "def is_orthogonal(matrix):\n",
    "    m_T = my_transpose(matrix)\n",
    "    for i in range(-1, -(len(m_T)+1), -1):\n",
    "        dot_product = my_dot(m_T[i], m_T[i+1])\n",
    "        if dot_product != 0:\n",
    "            return False\n",
    "            break\n",
    "    return True\n",
    "print(\"Do matrix A's columns form an orthogonal set?\",is_orthogonal(A))\n",
    "print(\"Do matrix B's columns form an orthogonal set?\",is_orthogonal(B))\n",
    "print(\n",
    "'''\\nColumns of B form an orthogonal set because the dot products\n",
    "between the columns = 0'''\n",
    ")\n",
    "\n",
    "B_T = my_transpose(B)\n",
    "col1_col2 = my_dot(B_T[0], B_T[1])\n",
    "col1_col3 = my_dot(B_T[0], B_T[2])\n",
    "col2_col3 = my_dot(B_T[1], B_T[2])\n",
    "\n",
    "print(\"The dot product of b1 and b2 is\", col1_col2)\n",
    "print(\"The dot product of b1 and b3 is\", col1_col3)\n",
    "print(\"The dot product of b2 and b3 is\", col2_col3)"
   ]
  },
  {
   "cell_type": "code",
   "execution_count": 11,
   "metadata": {},
   "outputs": [
    {
     "name": "stdout",
     "output_type": "stream",
     "text": [
      "x   = \t[[ 1.]\n",
      "\t [ 2.]\n",
      "\t [-3.]]\n",
      "\n",
      "Prove that Bx = y1\n",
      "Bx  = \t[[ 2.5]\n",
      "\t [11. ]\n",
      "\t [-7.5]\n",
      "\t [ 2. ]]\n"
     ]
    }
   ],
   "source": [
    "# b. Show that solution Bx is equals to y1\n",
    "y1 = [[2.5], \n",
    "      [11], \n",
    "      [-7.5], \n",
    "      [2]]\n",
    "x = np.zeros(shape=(3,1))\n",
    "for i in range(3):\n",
    "    b_i = np.vstack(B_T[i]) # column of B\n",
    "    x[i] = my_dot(y1, b_i)/my_dot(b_i, b_i)\n",
    "    \n",
    "# Vector x such that y1 = Bx\n",
    "print(\"x   = \", end = \"\")\n",
    "print('\\t' + str(x).replace('\\n','\\n\\t'))\n",
    "\n",
    "# Prove that Bx = y1\n",
    "print(\"\\nProve that Bx = y1\")\n",
    "print(\"Bx  = \", end = \"\")\n",
    "print('\\t' + str(B@x).replace('\\n','\\n\\t'))"
   ]
  },
  {
   "cell_type": "code",
   "execution_count": 12,
   "metadata": {},
   "outputs": [
    {
     "name": "stdout",
     "output_type": "stream",
     "text": [
      "x   = \t[[0. ]\n",
      "\t [0. ]\n",
      "\t [1.5]]\n",
      "Ax  = \t[[ 1.5]\n",
      "\t [ 1.5]\n",
      "\t [-1.5]\n",
      "\t [-1.5]]\n",
      "It is wrong to use Theorem 5 to solve for x in this case \n",
      "because A is not an orthogonal matrix.\n"
     ]
    }
   ],
   "source": [
    "# c. Using Theorem 5 to solve for Ax = y2\n",
    "\n",
    "y2 = [[1], \n",
    "      [2], \n",
    "      [-3], \n",
    "      [0]]\n",
    "x2 = np.zeros(shape=(3,1))\n",
    "for i in range(3):\n",
    "    A_T = my_transpose(A)\n",
    "    a_i = np.vstack(A_T[i]) # column of B\n",
    "    x2[i] = my_dot(y2, a_i)/my_dot(a_i, a_i)\n",
    "    \n",
    "# Found x using Theorem 5\n",
    "print(\"x   = \", end = \"\")\n",
    "print('\\t' + str(x2).replace('\\n','\\n\\t'))\n",
    "\n",
    "# Ax\n",
    "print(\"Ax  = \", end = \"\")\n",
    "print('\\t' + str(A@x2).replace('\\n','\\n\\t'))\n",
    "print(\n",
    "'''It is wrong to use Theorem 5 to solve for x in this case \n",
    "because A is not an orthogonal matrix.''')"
   ]
  },
  {
   "cell_type": "code",
   "execution_count": 13,
   "metadata": {},
   "outputs": [
    {
     "name": "stdout",
     "output_type": "stream",
     "text": [
      "[[ 0.90453403 -0.37796447 -0.12309149]\n",
      " [ 0.30151134  0.75592895 -0.49236596]\n",
      " [ 0.30151134  0.37796447  0.86164044]\n",
      " [ 0.          0.37796447  0.        ]]\n",
      "[[1.00000000e+00 9.56207044e-18 3.00799601e-17]\n",
      " [9.56207044e-18 1.00000000e+00 1.91220253e-17]\n",
      " [3.00799601e-17 1.91220253e-17 1.00000000e+00]]\n",
      "\n",
      "Orthonormality holds? True \n",
      "\n",
      "x_n = \t[[ 1.]\n",
      "\t [ 2.]\n",
      "\t [-3.]]\n",
      "Prove that B_nx_n = y1\n",
      "B_nx_n=\t[[ 2.5]\n",
      "\t [11. ]\n",
      "\t [-7.5]\n",
      "\t [ 2. ]]\n",
      "\n",
      "x_n is the same vector as x found in Q2b.\n"
     ]
    }
   ],
   "source": [
    "# d. Show that the columns of Bn forms an orthonormal set \n",
    "\n",
    "B_n = my_transpose(my_normalizing(np.vstack(B_T)))\n",
    "print(B_n)\n",
    "\n",
    "'''sum1, sum2, sum3 = 0,0,0\n",
    "for i in range(4):\n",
    "    for j in range(3):\n",
    "        b = B_n[i][j]\n",
    "        if j == 0:\n",
    "            sum1 += b*b\n",
    "        elif j == 1:\n",
    "            sum2 += b*b\n",
    "        elif j == 2:\n",
    "            sum3 += b*b\n",
    "print(sum1**0.5)\n",
    "print(sum2**0.5)\n",
    "print(sum3**0.5)'''\n",
    "\n",
    "orthonomality_check = np.dot(np.transpose(B_n), B_n)\n",
    "print(orthonomality_check)\n",
    "# Verify if the 3-by-3 BTB approximates a 3-by-3 identity matrix\n",
    "print('\\nOrthonormality holds?', np.allclose(orthonomality_check, np.eye(3)),'\\n')\n",
    "\n",
    "# Solve for y1 = B_nx_n\n",
    "x_n = np.zeros(shape=(3,1))\n",
    "B_n_T = my_transpose(B_n)\n",
    "for i in range(3):\n",
    "    b_n_i = np.vstack(B_n_T[i]) # column of B_n\n",
    "    x_n[i] = my_dot(y1, b_n_i)/my_dot(b_n_i, b_n_i)\n",
    "    \n",
    "# Vector x_n such that y1 = B_nx_n\n",
    "print(\"x_n = \", end = \"\")\n",
    "print('\\t' + str(x).replace('\\n','\\n\\t'))\n",
    "\n",
    "# Prove that B_nx_n = y1\n",
    "print(\"Prove that B_nx_n = y1\")\n",
    "print(\"B_nx_n=\", end = \"\")\n",
    "print('\\t' + str(B@x).replace('\\n','\\n\\t'))\n",
    "print(\"\\nx_n is the same vector as x found in Q2b.\")"
   ]
  },
  {
   "cell_type": "code",
   "execution_count": 14,
   "metadata": {},
   "outputs": [
    {
     "name": "stdout",
     "output_type": "stream",
     "text": [
      "The projection of y1 on b1 =\n",
      " [[3.]\n",
      " [1.]\n",
      " [1.]\n",
      " [0.]]\n",
      "The error of approximation is 13.285330255586423 \n",
      "\n",
      "The projection of y1 on b2 =\n",
      " [[-2.]\n",
      " [ 4.]\n",
      " [ 2.]\n",
      " [ 2.]]\n",
      "The error of approximation is 12.62933094031509 \n",
      "\n",
      "The projection of y1 on b3 =\n",
      " [[  1.5]\n",
      " [  6. ]\n",
      " [-10.5]\n",
      " [ -0. ]]\n",
      "The error of approximation is 6.244997998398398 \n",
      "\n",
      "Since, the projections of y1 on the columns of B carries\n",
      "relatively large error of approximation, it is important to \n",
      "use B_n columns to approximate y1.\n"
     ]
    }
   ],
   "source": [
    "# e. Find the projection of y1 on the columns of B\n",
    "# Calculate the error of approximation for each column\n",
    "# error = ||y1 - y_hat||\n",
    "errors = []\n",
    "for i in range(3):\n",
    "    b_i = np.vstack(B_T[i]) # column of B\n",
    "    proj = ((my_dot(y1, b_i))/(my_dot(b_i, b_i)))*(b_i)\n",
    "    print(\"The projection of y1 on b\" + str(i+1), \"=\\n\", proj)\n",
    "    error = my_norm(y1 - proj) # y_hat == proj\n",
    "    errors.append(error)\n",
    "    print(\"The error of approximation is\", error, \"\\n\")\n",
    "    \n",
    "print('''Since, the projections of y1 on the columns of B carries\n",
    "relatively large error of approximation, it is important to \n",
    "use B_n columns to approximate y1.''')"
   ]
  },
  {
   "cell_type": "code",
   "execution_count": 15,
   "metadata": {},
   "outputs": [
    {
     "name": "stdout",
     "output_type": "stream",
     "text": [
      "I will use columns b2 & b3 since they carry the least\n",
      "error of approximation of 12.62933094031509 &\n",
      "6.244997998398398 respectively.\n"
     ]
    }
   ],
   "source": [
    "# f. Choose 2 columns of B to approximate y1\n",
    "print('''I will use columns b2 & b3 since they carry the least\n",
    "error of approximation of {0} &\n",
    "{1} respectively.'''.format(errors[1], errors[2]))"
   ]
  },
  {
   "cell_type": "markdown",
   "metadata": {},
   "source": [
    "### Question 3"
   ]
  },
  {
   "cell_type": "code",
   "execution_count": 16,
   "metadata": {},
   "outputs": [
    {
     "name": "stdout",
     "output_type": "stream",
     "text": [
      "Q   = \t[[ 5.00000000e-01  2.88675135e-01  4.08248290e-01]\n",
      "\t [ 5.00000000e-01  2.88675135e-01  4.08248290e-01]\n",
      "\t [ 5.00000000e-01  2.88675135e-01 -8.16496581e-01]\n",
      "\t [ 5.00000000e-01 -8.66025404e-01  1.35973996e-16]]\n",
      "\n",
      "R   = \t[[2.         1.         0.        ]\n",
      "\t [0.         1.73205081 1.15470054]\n",
      "\t [0.         0.         1.63299316]]\n",
      "\n",
      "The number of columns of Q = 3.\n",
      "The number of columns of A = 3.\n",
      "Therefore, the number of columns of Q == A.\n"
     ]
    }
   ],
   "source": [
    "# Q3. Gram-Schmidt Process\n",
    "# a. Applying GSP on A so that A = QR\n",
    "\n",
    "def gram_schmidt(A):\n",
    "# The classical Gram Schmidt process.\n",
    "# Input: an arbitrary mxp matrix.\n",
    "# Output: the Q factors of the input.   \n",
    "\n",
    "    n = A.shape[1]\n",
    "    Q = np.zeros(A.shape)\n",
    "    \n",
    "    for i in range(n):\n",
    "        xi = A[:, i]\n",
    "        vi = xi\n",
    "        for j in range(i):\n",
    "            # Since Q[:,j] is always a unit vector,\n",
    "            # no need to implement the denominator. \n",
    "            vi = vi - np.dot(xi, Q[:,j])*Q[:,j] \n",
    "\n",
    "        Q[:, i] = vi/la.norm(vi)\n",
    "    \n",
    "    return Q\n",
    "\n",
    "def qr_mod_gram_schmidt(A):\n",
    "# The QR factorization using the modified Gram Schmidt process.\n",
    "# Input: an arbitrary mxp matrix.\n",
    "# Output: the Q and R factors of the input.\n",
    "\n",
    "    # Obtain the column number.\n",
    "    p = A.shape[1]\n",
    "    \n",
    "    # Initiate the Q and R factors.\n",
    "    Q = A.copy() # Prevent A from being changed.\n",
    "    R = np.zeros((p,p))\n",
    "    \n",
    "    # Iterate for each column of the input.\n",
    "    for k in range(p):\n",
    "        w = A[:, k]\n",
    "        \n",
    "        ##### Different part. #####\n",
    "        for i in range(k):\n",
    "            R[i, k] = Q[:, i].dot(w)\n",
    "            w = w - R[i, k] * Q[:, i]\n",
    "        ###########################\n",
    "        \n",
    "        R[k, k] = la.norm(w)\n",
    "        Q[:, k] = w / R[k, k]\n",
    "            \n",
    "    return Q, R\n",
    "\n",
    "A = np.array(A, dtype = float)\n",
    "QR = qr_mod_gram_schmidt(A)\n",
    "Q, R = QR[0], QR[1]\n",
    "print(\"Q   = \", end = \"\")\n",
    "print('\\t' + str(Q).replace('\\n','\\n\\t'))\n",
    "print()\n",
    "print(\"R   = \", end = \"\")\n",
    "print('\\t' + str(R).replace('\\n','\\n\\t'))\n",
    "print(\"\\nThe number of columns of Q = 3.\")\n",
    "print(\"The number of columns of A = 3.\")\n",
    "print(\"Therefore, the number of columns of Q == A.\")"
   ]
  },
  {
   "cell_type": "code",
   "execution_count": 17,
   "metadata": {},
   "outputs": [
    {
     "name": "stdout",
     "output_type": "stream",
     "text": [
      "The columns of Q are orthogonal such that Q'*Q = I\n",
      "Q'*Q = \t[[ 1.00000000e+00  5.55111512e-17 -9.85464559e-17]\n",
      "\t [ 5.55111512e-17  1.00000000e+00 -2.12120825e-16]\n",
      "\t [-9.85464559e-17 -2.12120825e-16  1.00000000e+00]]\n",
      "\n",
      "Q*Q' =\n",
      "[[ 5.00000000e-01  5.00000000e-01  8.09214782e-17  4.35649885e-18]\n",
      " [ 5.00000000e-01  5.00000000e-01  8.09214782e-17  4.35649885e-18]\n",
      " [ 8.09214782e-17  8.09214782e-17  1.00000000e+00 -1.62176955e-16]\n",
      " [ 4.35649885e-18  4.35649885e-18 -1.62176955e-16  1.00000000e+00]]\n",
      "\n",
      "But since Q*Q' != I, Q is not an orthogonal matrix.\n",
      "Q*Q' is the projection matrix with the column space of A.\n"
     ]
    }
   ],
   "source": [
    "# b. What are the characteristics of columns of Q? \n",
    "# Explain your answer and compare Q'*Q vs Q*Q'. \n",
    "# What is the matrix Q*Q' and its relationship to A?\n",
    "\n",
    "print(\"The columns of Q are orthogonal such that Q'*Q = I\")\n",
    "QT_Q = my_transpose(Q)@Q\n",
    "print(\"Q'*Q = \", end = \"\")\n",
    "print('\\t' + str(QT_Q).replace('\\n','\\n\\t'))\n",
    "print()\n",
    "\n",
    "\n",
    "Q_QT = Q@my_transpose(Q)\n",
    "print(\"Q*Q' =\")\n",
    "print(Q_QT)\n",
    "print()\n",
    "print(\"But since Q*Q' != I, Q is not an orthogonal matrix.\")\n",
    "print(\"Q*Q' is the projection matrix with the column space of A.\")\n"
   ]
  },
  {
   "cell_type": "code",
   "execution_count": 18,
   "metadata": {},
   "outputs": [
    {
     "name": "stdout",
     "output_type": "stream",
     "text": [
      "rref_A=\t[[1. 0. 0.]\n",
      "\t [0. 1. 0.]\n",
      "\t [0. 0. 1.]\n",
      "\t [0. 0. 0.]]\n",
      "\n",
      "Since there are 3 pivots in the reduced row echelon form of A,\n",
      "the rank of A = 3.\n",
      "\n",
      "We can confirm using a numpy function:\n",
      "numpy.linalg.matrix_rank(A) = 3\n"
     ]
    }
   ],
   "source": [
    "# c. Finding ranks of A with row reduction\n",
    "def rref(A):\n",
    "    M = A.copy()\n",
    "    tol = 1e-14\n",
    "    #A = B.copy()\n",
    "    rows, cols = M.shape\n",
    "    r = 0\n",
    "    pivots_pos = []\n",
    "    row_exchanges = np.arange(rows)\n",
    "    for c in range(cols):\n",
    "        ## Find the pivot row:\n",
    "        pivot = np.argmax (np.abs (M[r:rows,c])) + r\n",
    "        m = np.abs(M[pivot, c])\n",
    "        \n",
    "        if m <= tol:\n",
    "        ## Skip column c, making sure the approximately zero terms are\n",
    "        ## actually zero.\n",
    "            M[r:rows, c] = np.zeros(rows-r)\n",
    "        else:\n",
    "            ## keep track of bound variables\n",
    "            pivots_pos.append((r,c))\n",
    "\n",
    "            if pivot != r:\n",
    "                ## Swap current row and pivot row\n",
    "                M[[pivot, r], c:cols] = M[[r, pivot], c:cols]\n",
    "                row_exchanges[[pivot,r]] = row_exchanges[[r,pivot]]\n",
    "\n",
    "            ## Normalize pivot row\n",
    "            M[r, c:cols] = M[r, c:cols] / M[r, c];\n",
    "\n",
    "            ## Eliminate the current column\n",
    "            v = M[r, c:cols]\n",
    "            ## Above (before row r):\n",
    "            if r > 0:\n",
    "                ridx_above = np.arange(r)\n",
    "                M[ridx_above, c:cols] = M[ridx_above, c:cols] - np.outer(v, M[ridx_above, c]).T\n",
    "                ## Below (after row r):\n",
    "            if r < rows-1:\n",
    "                ridx_below = np.arange(r+1,rows)\n",
    "                M[ridx_below, c:cols] = M[ridx_below, c:cols] - np.outer(v, M[ridx_below, c]).T\n",
    "                r += 1\n",
    "        ## Check if done\n",
    "        if r == rows:\n",
    "            break;\n",
    "    return M\n",
    "rref_A = rref(A)\n",
    "print(\"rref_A=\", end = \"\")\n",
    "print('\\t' + str(rref_A).replace('\\n','\\n\\t'))\n",
    "print('''\\nSince there are 3 pivots in the reduced row echelon form of A,\n",
    "the rank of A = 3.\\n''')\n",
    "print('''We can confirm using a numpy function:\n",
    "numpy.linalg.matrix_rank(A) = {0}'''.format(la.matrix_rank(A)))"
   ]
  },
  {
   "cell_type": "code",
   "execution_count": 19,
   "metadata": {},
   "outputs": [
    {
     "name": "stdout",
     "output_type": "stream",
     "text": [
      "Rank of augmented matrix [A Q] = 3\n",
      "The rank of augmented matrix [A Q] == rank of A.\n",
      "This shows that Q and A has the same column space.\n"
     ]
    }
   ],
   "source": [
    "# d. Finding rank of augmented matrix [A Q]\n",
    "AQ = np.column_stack((A,Q))\n",
    "print(\"Rank of augmented matrix [A Q] =\", la.matrix_rank(AQ))\n",
    "print('''The rank of augmented matrix [A Q] == rank of A.\n",
    "This shows that Q and A has the same column space.''')"
   ]
  },
  {
   "cell_type": "code",
   "execution_count": 20,
   "metadata": {},
   "outputs": [],
   "source": [
    "# e. Finding projection p using 2 methods\n",
    "# Method 1: Take U = {u1, u2, ... , un} as a set of basis, \n",
    "# find the projection of y onto each ui, and sum them up.\n",
    "\n",
    "def my_orthogonal_proj_1(Q, y):\n",
    "    w = np.zeros(np.shape(Q))\n",
    "    proj_p1 = np.zeros(np.shape(Q)[0])\n",
    "    for i in range(np.shape(Q)[1]):\n",
    "        w[:,i] = my_dot(y,Q[:,i])*Q[:,i]\n",
    "        proj_p1 += w[:,i]\n",
    "    return proj_p1\n",
    "\n",
    "# Method 2: Apply projection matrix P to y.\n",
    "def my_orthogonal_proj_2(Q, y):\n",
    "    Q_QT = Q@my_transpose(Q)\n",
    "    proj_p2 = Q_QT@y\n",
    "    return proj_p2\n"
   ]
  },
  {
   "cell_type": "code",
   "execution_count": 22,
   "metadata": {},
   "outputs": [
    {
     "name": "stdout",
     "output_type": "stream",
     "text": [
      "Using first method:\n",
      "projection p1 = [1.5 1.5 3.  4. ]\n",
      "error1 = 0.7071067811865476\n",
      "\n",
      "Using second method:\n",
      "projection p2 = [1.5 1.5 3.  4. ]\n",
      "error2 = 0.7071067811865476\n"
     ]
    }
   ],
   "source": [
    "# f. Finding closest point in Col A space to y = (1,2,3,4)\n",
    "y = (1,2,3,4)\n",
    "p1 = my_orthogonal_proj_1(Q, y)\n",
    "p2 = my_orthogonal_proj_2(Q, y)\n",
    "error1 = my_norm(y - p1)\n",
    "error2 = my_norm(y - p2)\n",
    "print(\"Using first method:\\nprojection p1 =\", p1)\n",
    "print(\"error1 =\", error1)\n",
    "print(\"\\nUsing second method:\\nprojection p2 =\", p2)\n",
    "print(\"error2 =\", error2)"
   ]
  }
 ],
 "metadata": {
  "kernelspec": {
   "display_name": "Python 3",
   "language": "python",
   "name": "python3"
  },
  "language_info": {
   "codemirror_mode": {
    "name": "ipython",
    "version": 3
   },
   "file_extension": ".py",
   "mimetype": "text/x-python",
   "name": "python",
   "nbconvert_exporter": "python",
   "pygments_lexer": "ipython3",
   "version": "3.8.3"
  }
 },
 "nbformat": 4,
 "nbformat_minor": 4
}
