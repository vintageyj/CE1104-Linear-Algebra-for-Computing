{
 "cells": [
  {
   "cell_type": "markdown",
   "metadata": {
    "colab_type": "text",
    "id": "A70boHOFYVsZ"
   },
   "source": [
    "### NTU CX1014 Linear Algebra for Computing \n",
    "### Quiz ID : Lab 3 Quiz \n",
    "\n",
    "Please read the below instructions carefully.  \n",
    "1) Answer all questions within 2 hours given in the lab.  \n",
    "2) **IMPORTANT**: Your answers will be submitted virtually. Initialize a dictionary in your python notebook or script. \n",
    "\n",
    "You will have to store your answers in this dictionary using the provided keys in each part.  For example. `results[‘my_norm’] = my_norm` , or `results[‘1a’] = 123` . Failure to follow this convention may result in loss of marks. There is an example question below.\n",
    "\n",
    "All neccessary code for submission will be provided below, there should be no need to modify the provided code. Run the sanity check to at the end to verify your dictionary\n",
    "\n",
    "3) **Once you finish the quiz**, \n",
    "1. Pickle your result dictionary and save it as U1234567A_dict.pkl. The code is at the end\n",
    "2. Get ready this jupyter notebook with your answers along with the pickled file.\n",
    "3. Look for your TA to submit the pickle file and jupyter notebook. \n"
   ]
  },
  {
   "cell_type": "code",
   "execution_count": 1,
   "metadata": {
    "colab": {},
    "colab_type": "code",
    "executionInfo": {
     "elapsed": 733,
     "status": "ok",
     "timestamp": 1599487173621,
     "user": {
      "displayName": "Andrew",
      "photoUrl": "",
      "userId": "11550368507075028834"
     },
     "user_tz": -480
    },
    "id": "SjEmO2vx0Yyq"
   },
   "outputs": [],
   "source": [
    "'''\n",
    "RUN THIS CODE BLOCK ONCE AT THE START. DO NOT MODIFY IT OTHERWISE\n",
    "'''\n",
    "import dill\n",
    "dill.load_session('quiz3_FS3.db')"
   ]
  },
  {
   "cell_type": "code",
   "execution_count": 2,
   "metadata": {},
   "outputs": [
    {
     "data": {
      "text/plain": [
       "'1.1.1'"
      ]
     },
     "execution_count": 2,
     "metadata": {},
     "output_type": "execute_result"
    }
   ],
   "source": [
    "#pandas version >= 1.1.1\n",
    "pd.__version__"
   ]
  },
  {
   "cell_type": "code",
   "execution_count": 3,
   "metadata": {},
   "outputs": [
    {
     "data": {
      "text/plain": [
       "'0.3.2'"
      ]
     },
     "execution_count": 3,
     "metadata": {},
     "output_type": "execute_result"
    }
   ],
   "source": [
    "#dill version >= 0.3.2\n",
    "dill.__version__"
   ]
  },
  {
   "cell_type": "markdown",
   "metadata": {
    "colab_type": "text",
    "id": "_qdLOw3tb1VJ"
   },
   "source": [
    "# Initialize your results dictionary with your name, matric number, and quiz version.\n",
    "Your quiz version is indicated on your .db file."
   ]
  },
  {
   "cell_type": "code",
   "execution_count": 8,
   "metadata": {
    "colab": {},
    "colab_type": "code",
    "executionInfo": {
     "elapsed": 790,
     "status": "ok",
     "timestamp": 1599487176964,
     "user": {
      "displayName": "Andrew",
      "photoUrl": "",
      "userId": "11550368507075028834"
     },
     "user_tz": -480
    },
    "id": "w2WPtSul0Yyn",
    "scrolled": true
   },
   "outputs": [
    {
     "name": "stdout",
     "output_type": "stream",
     "text": [
      "{'name': 'Tan Yue Jun', 'matric_no': 'U2021253G', 'quiz_version': 'FS3'}\n"
     ]
    }
   ],
   "source": [
    "results = {'name': 'Tan Yue Jun', 'matric_no': 'U2021253G', 'quiz_version': 'FS3'}\n",
    "print(results)"
   ]
  },
  {
   "cell_type": "markdown",
   "metadata": {
    "colab_type": "text",
    "id": "_qdLOw3tb1VJ"
   },
   "source": [
    "### The question below provides an example code snippet on how you should be saving your results using the dictionary keys. Please read through carefully.\n",
    "\n",
    "# Example Question\n",
    "\n",
    "a. Write a function called ex_func that divides the input x by 2.  \n",
    "b. Use ex_func to solve `y = 10/2`  \n",
    "c. What is name of the University you are at? Choose your answer from the MCQ below.\n",
    "\n",
    "1. NUS\n",
    "2. SMU\n",
    "3. NTU\n",
    "\n",
    "d. Which indexes in this array `[3,1,2,4,5]` contains the smallest two values. Give your answers using python indexing. (python indexing starts from 0 and not 1.)\n",
    "\n",
    "Dictionary Keys = `exqn_a:ex_func`, `exqn_b:y`, `exqn_c:mcq`, `exqn_d:idxs`"
   ]
  },
  {
   "cell_type": "code",
   "execution_count": 9,
   "metadata": {},
   "outputs": [],
   "source": [
    "def ex_func(x):\n",
    "    return x/2\n",
    "\n",
    "answer = ex_func(10)\n",
    "\n",
    "results['exqn_a:ex_func'] = ex_func\n",
    "results['exqn_b:y'] = answer\n",
    "results['exqn_c:mcq'] = 3\n",
    "results['exqn_d:idxs'] = [1,2]"
   ]
  },
  {
   "cell_type": "markdown",
   "metadata": {
    "colab_type": "text",
    "id": "7vydAnRk0Yys"
   },
   "source": [
    "# Start of the Lab\n",
    "# Question 1"
   ]
  },
  {
   "cell_type": "markdown",
   "metadata": {
    "colab_type": "text",
    "id": "81X4HTSId-gj"
   },
   "source": [
    "Suppose that the data base has personal data for four persons. We are required to develop a simple identification recognition system by utilizing norm and dot product. The system should be able to identify who the unknown person is accordingly.\n"
   ]
  },
  {
   "cell_type": "code",
   "execution_count": 6,
   "metadata": {
    "colab": {
     "base_uri": "https://localhost:8080/",
     "height": 204
    },
    "colab_type": "code",
    "executionInfo": {
     "elapsed": 870,
     "status": "ok",
     "timestamp": 1599487185494,
     "user": {
      "displayName": "Andrew",
      "photoUrl": "",
      "userId": "11550368507075028834"
     },
     "user_tz": -480
    },
    "id": "gDNyOrUBgpjS",
    "outputId": "56bec7a7-5d3f-4805-c196-1d852efc9a96"
   },
   "outputs": [
    {
     "data": {
      "text/html": [
       "<div>\n",
       "<style scoped>\n",
       "    .dataframe tbody tr th:only-of-type {\n",
       "        vertical-align: middle;\n",
       "    }\n",
       "\n",
       "    .dataframe tbody tr th {\n",
       "        vertical-align: top;\n",
       "    }\n",
       "\n",
       "    .dataframe thead th {\n",
       "        text-align: right;\n",
       "    }\n",
       "</style>\n",
       "<table border=\"1\" class=\"dataframe\">\n",
       "  <thead>\n",
       "    <tr style=\"text-align: right;\">\n",
       "      <th></th>\n",
       "      <th>Weight(Kg)</th>\n",
       "      <th>Height(cm)</th>\n",
       "      <th>Age(year)</th>\n",
       "      <th>Temperature (C)</th>\n",
       "    </tr>\n",
       "    <tr>\n",
       "      <th>Person</th>\n",
       "      <th></th>\n",
       "      <th></th>\n",
       "      <th></th>\n",
       "      <th></th>\n",
       "    </tr>\n",
       "  </thead>\n",
       "  <tbody>\n",
       "    <tr>\n",
       "      <th>0</th>\n",
       "      <td>61.0</td>\n",
       "      <td>160.0</td>\n",
       "      <td>65.0</td>\n",
       "      <td>36.6</td>\n",
       "    </tr>\n",
       "    <tr>\n",
       "      <th>1</th>\n",
       "      <td>82.0</td>\n",
       "      <td>172.0</td>\n",
       "      <td>61.0</td>\n",
       "      <td>36.5</td>\n",
       "    </tr>\n",
       "    <tr>\n",
       "      <th>2</th>\n",
       "      <td>97.0</td>\n",
       "      <td>185.0</td>\n",
       "      <td>71.0</td>\n",
       "      <td>37.4</td>\n",
       "    </tr>\n",
       "    <tr>\n",
       "      <th>3</th>\n",
       "      <td>69.0</td>\n",
       "      <td>169.0</td>\n",
       "      <td>68.0</td>\n",
       "      <td>36.8</td>\n",
       "    </tr>\n",
       "    <tr>\n",
       "      <th>Unknown Person</th>\n",
       "      <td>84.0</td>\n",
       "      <td>168.0</td>\n",
       "      <td>70.0</td>\n",
       "      <td>36.4</td>\n",
       "    </tr>\n",
       "  </tbody>\n",
       "</table>\n",
       "</div>"
      ],
      "text/plain": [
       "                Weight(Kg)  Height(cm)  Age(year)  Temperature (C)\n",
       "Person                                                            \n",
       "0                     61.0       160.0       65.0             36.6\n",
       "1                     82.0       172.0       61.0             36.5\n",
       "2                     97.0       185.0       71.0             37.4\n",
       "3                     69.0       169.0       68.0             36.8\n",
       "Unknown Person        84.0       168.0       70.0             36.4"
      ]
     },
     "execution_count": 6,
     "metadata": {},
     "output_type": "execute_result"
    }
   ],
   "source": [
    "A1_df"
   ]
  },
  {
   "cell_type": "markdown",
   "metadata": {
    "colab_type": "text",
    "id": "KBvMpEjlgt20"
   },
   "source": [
    "Follow the steps below to achieve this goal.\n",
    "\n"
   ]
  },
  {
   "cell_type": "markdown",
   "metadata": {
    "colab_type": "text",
    "id": "hjLP1Y4c0Yyv"
   },
   "source": [
    "### Q1a \n",
    "Initialize the 5×4 data matrix A1 from Table 1 using numpy.array([[]],dtype=float). Implement your own functions for norm and dot product. Name your functions my_norm() and my_dot(). \n",
    "\n",
    "Dictionary Keys = `Q1a:A1`, `Q1a:my_norm`, `Q1a:my_dot`"
   ]
  },
  {
   "cell_type": "code",
   "execution_count": 39,
   "metadata": {},
   "outputs": [],
   "source": [
    "#your working here\n",
    "import numpy as np\n",
    "from numpy import linalg as la\n",
    "\n",
    "A1 = [[61.0, 160.0, 65.0, 36.6],\n",
    "      [82.0, 172.0, 61.0, 36.5],\n",
    "      [97.0, 185.0, 71.0, 37.4],\n",
    "      [69.0, 169.0, 68.0, 36.8],\n",
    "      [84.0, 168.0, 70.0, 36.4]]\n",
    "A1 = np.array(A1, dtype = float)\n",
    "\n",
    "def my_norm(x):\n",
    "    mySum = 0\n",
    "    for i in np.nditer(x):\n",
    "        mySum += i*i\n",
    "    return np.sqrt(mySum)\n",
    "\n",
    "def my_dot(x, y):\n",
    "    mySum = 0\n",
    "    for i, j in np.nditer((x, y)):\n",
    "        mySum += i * j\n",
    "    return mySum\n",
    "\n",
    "\n",
    "#your answers to 1a\n",
    "results['Q1a:A1'] = A1\n",
    "results['Q1a:my_dot'] = my_norm\n",
    "results['Q1a:my_norm'] = my_dot"
   ]
  },
  {
   "cell_type": "markdown",
   "metadata": {
    "colab_type": "text",
    "id": "KXjycZFeiRAU"
   },
   "source": [
    "### 1b\n",
    "Using my_dot, calculate the dot product between each person and the Unknown person in the provided matrix. According to the dot product, which person is most similar to the Unknown person?  Use python indexing to report your answer.\n",
    "\n",
    "Dictionary Keys = `Q1b:most_similar`"
   ]
  },
  {
   "cell_type": "code",
   "execution_count": 20,
   "metadata": {},
   "outputs": [
    {
     "name": "stdout",
     "output_type": "stream",
     "text": [
      "[[37886.24]\n",
      " [41382.6 ]\n",
      " [45559.36]\n",
      " [40287.52]]\n"
     ]
    },
    {
     "ename": "NameError",
     "evalue": "name 'a' is not defined",
     "output_type": "error",
     "traceback": [
      "\u001b[0;31m---------------------------------------------------------------------------\u001b[0m",
      "\u001b[0;31mNameError\u001b[0m                                 Traceback (most recent call last)",
      "\u001b[0;32m<ipython-input-20-21441f60fac3>\u001b[0m in \u001b[0;36m<module>\u001b[0;34m\u001b[0m\n\u001b[1;32m      7\u001b[0m \u001b[0mprint\u001b[0m\u001b[0;34m(\u001b[0m\u001b[0mdot_products\u001b[0m\u001b[0;34m)\u001b[0m\u001b[0;34m\u001b[0m\u001b[0;34m\u001b[0m\u001b[0m\n\u001b[1;32m      8\u001b[0m \u001b[0;31m#your answers to 1b\u001b[0m\u001b[0;34m\u001b[0m\u001b[0;34m\u001b[0m\u001b[0;34m\u001b[0m\u001b[0m\n\u001b[0;32m----> 9\u001b[0;31m \u001b[0mresults\u001b[0m\u001b[0;34m[\u001b[0m\u001b[0;34m'Q1b:most_similar'\u001b[0m\u001b[0;34m]\u001b[0m \u001b[0;34m=\u001b[0m \u001b[0ma\u001b[0m\u001b[0;34m\u001b[0m\u001b[0;34m\u001b[0m\u001b[0m\n\u001b[0m",
      "\u001b[0;31mNameError\u001b[0m: name 'a' is not defined"
     ]
    }
   ],
   "source": [
    "#your working here\n",
    "unknown = A1[-1]\n",
    "dot_products = []\n",
    "for i in range(4):\n",
    "    dot_products.append(my_dot(unknown, A1[i]))\n",
    "dot_products = np.vstack(dot_products)\n",
    "print(dot_products)\n",
    "\n",
    "#your answers to 1b\n",
    "results['Q1b:most_similar'] = [0]"
   ]
  },
  {
   "cell_type": "markdown",
   "metadata": {
    "colab_type": "text",
    "id": "KXjycZFeiRAU"
   },
   "source": [
    "### 1c\n",
    "Using my_norm, calculate the Euclidean distance between each person and the Unknown person in the provided matrix. According to the Euclidean distance, which person is most similar to the Unknown person? Use python indexing to report your answer.\n",
    "\n",
    "Dictionary Keys = `Q1c:most_similar`"
   ]
  },
  {
   "cell_type": "code",
   "execution_count": 28,
   "metadata": {},
   "outputs": [
    {
     "name": "stdout",
     "output_type": "stream",
     "text": [
      "[[24.86041029]\n",
      " [10.05037313]\n",
      " [21.44761059]\n",
      " [15.17102501]]\n"
     ]
    }
   ],
   "source": [
    "#your working here\n",
    "unknown = A1[-1]\n",
    "euclid_dist = []\n",
    "for i in range(4):\n",
    "    euclid_dist.append(my_norm(unknown - A1[i]))\n",
    "euclid_dist = np.vstack(euclid_dist)\n",
    "print(euclid_dist)\n",
    "#your answers to 1c\n",
    "results['Q1c:most_similar'] = [1]"
   ]
  },
  {
   "cell_type": "markdown",
   "metadata": {
    "colab_type": "text",
    "id": "KXjycZFeiRAU"
   },
   "source": [
    "### 1d\n",
    "Using both my_norm and my_dot, calculate the cosine distance between each person and the Unknown person in the provided matrix. According to the cosine distance, which person is most similar to the Unknown person? Use python indexing to report your answer.\n",
    "\n",
    "Dictionary Keys = `Q1d:most_similar`"
   ]
  },
  {
   "cell_type": "code",
   "execution_count": 34,
   "metadata": {},
   "outputs": [
    {
     "name": "stdout",
     "output_type": "stream",
     "text": [
      "[[0.99565449]\n",
      " [0.99878255]\n",
      " [0.99936127]\n",
      " [0.99752303]]\n"
     ]
    }
   ],
   "source": [
    "#your working here\n",
    "\n",
    "def my_cosSimilarity(x, y):\n",
    "    # x.y = ||x|| * ||y|| * cos(theta)\n",
    "    # cos(theta) = x.y / (||x|| * ||y||)\n",
    "    dividend = my_dot(x, y)\n",
    "    divisor = my_norm(x) * my_norm(y)\n",
    "    return dividend / divisor\n",
    "\n",
    "unknown = A1[-1]\n",
    "cos_similar = []\n",
    "for i in range(4):\n",
    "    cos_similar.append(my_cosSimilarity(unknown, A1[i]))\n",
    "cos_similar = np.vstack(cos_similar)\n",
    "print(cos_similar)\n",
    "\n",
    "#your answers to 1d\n",
    "results['Q1d:most_similar'] = [2]"
   ]
  },
  {
   "cell_type": "markdown",
   "metadata": {
    "colab_type": "text",
    "id": "DJguCNW30Yy8"
   },
   "source": [
    "# Q2\n"
   ]
  },
  {
   "cell_type": "code",
   "execution_count": 35,
   "metadata": {
    "colab": {},
    "colab_type": "code",
    "executionInfo": {
     "elapsed": 1079,
     "status": "aborted",
     "timestamp": 1599487167169,
     "user": {
      "displayName": "Andrew",
      "photoUrl": "",
      "userId": "11550368507075028834"
     },
     "user_tz": -480
    },
    "id": "w80CC2ufkhXG"
   },
   "outputs": [
    {
     "name": "stdout",
     "output_type": "stream",
     "text": [
      "A =\n",
      " [[2. 0. 2.]\n",
      " [2. 3. 2.]\n",
      " [3. 2. 0.]\n",
      " [2. 0. 0.]\n",
      " [1. 2. 1.]]\n"
     ]
    }
   ],
   "source": [
    "#this is your A\n",
    "print('A =\\n', A2)"
   ]
  },
  {
   "cell_type": "markdown",
   "metadata": {
    "colab_type": "text",
    "id": "v5fRAcSrxchJ"
   },
   "source": [
    "### Q2a\n",
    "a) In the Lab Manual you have been asked to implement the Gram-Schmidt process for QR factorization. Apply it (either the classical or modified version is okay) on A so that A=QR. Report the Q and R factors you obtained. \n",
    "\n",
    "Dictionary Keys = `Q2a:Q`, `Q2a:R`"
   ]
  },
  {
   "cell_type": "code",
   "execution_count": 37,
   "metadata": {
    "colab": {},
    "colab_type": "code",
    "executionInfo": {
     "elapsed": 1077,
     "status": "aborted",
     "timestamp": 1599487167169,
     "user": {
      "displayName": "Andrew",
      "photoUrl": "",
      "userId": "11550368507075028834"
     },
     "user_tz": -480
    },
    "id": "T5a58qLG0YzA"
   },
   "outputs": [
    {
     "name": "stdout",
     "output_type": "stream",
     "text": [
      "[[ 0.42640143 -0.44744194  0.71157071]\n",
      " [ 0.42640143  0.60724263  0.3220247 ]\n",
      " [ 0.63960215  0.03196014 -0.57912506]\n",
      " [ 0.42640143 -0.44744194 -0.21295182]\n",
      " [ 0.21320072  0.47940208  0.09608802]]\n",
      "[[4.69041576 2.98481003 1.91880645]\n",
      " [0.         2.84445234 0.79900347]\n",
      " [0.         0.         2.16327883]]\n"
     ]
    }
   ],
   "source": [
    "#your working here\n",
    "def qr_mod_gram_schmidt(A):\n",
    "# The QR factorization using the modified Gram Schmidt process.\n",
    "# Input: an arbitrary mxp matrix.\n",
    "# Output: the Q and R factors of the input.\n",
    "\n",
    "    # Obtain the column number.\n",
    "    p = A.shape[1]\n",
    "    \n",
    "    # Initiate the Q and R factors.\n",
    "    Q = A.copy() # Prevent A from being changed.\n",
    "    R = np.zeros((p,p))\n",
    "    \n",
    "    # Iterate for each column of the input.\n",
    "    for k in range(p):\n",
    "        w = A[:, k]\n",
    "        \n",
    "        ##### Different part. #####\n",
    "        for i in range(k):\n",
    "            R[i, k] = Q[:, i].dot(w)\n",
    "            w = w - R[i, k] * Q[:, i]\n",
    "        ###########################\n",
    "        \n",
    "        R[k, k] = la.norm(w)\n",
    "        Q[:, k] = w / R[k, k]\n",
    "            \n",
    "    return Q, R\n",
    "Q,R = qr_mod_gram_schmidt(A2)[0], qr_mod_gram_schmidt(A2)[1]\n",
    "print(Q)\n",
    "print(R)\n",
    "#your answers to 2a\n",
    "results['Q2a:Q'] = Q\n",
    "results['Q2a:R'] = R"
   ]
  },
  {
   "cell_type": "markdown",
   "metadata": {
    "colab_type": "text",
    "id": "jVBxxC460YzC"
   },
   "source": [
    "### Q2b\n",
    "A column is added to A2 to form a new matrix A2_v2. Check the rank of both A2 and A2_v2\n",
    "\n",
    "Dictionary Keys = `Q2b:A2_rank`, `Q2b:A2_v2_rank`"
   ]
  },
  {
   "cell_type": "code",
   "execution_count": 38,
   "metadata": {},
   "outputs": [
    {
     "data": {
      "text/plain": [
       "array([[2., 0., 2., 2.],\n",
       "       [2., 3., 2., 1.],\n",
       "       [3., 2., 0., 0.],\n",
       "       [2., 0., 0., 1.],\n",
       "       [1., 2., 1., 2.]])"
      ]
     },
     "execution_count": 38,
     "metadata": {},
     "output_type": "execute_result"
    }
   ],
   "source": [
    "A2_v2"
   ]
  },
  {
   "cell_type": "code",
   "execution_count": 41,
   "metadata": {
    "colab": {},
    "colab_type": "code",
    "executionInfo": {
     "elapsed": 1074,
     "status": "aborted",
     "timestamp": 1599487167170,
     "user": {
      "displayName": "Andrew",
      "photoUrl": "",
      "userId": "11550368507075028834"
     },
     "user_tz": -480
    },
    "id": "I-WwnEq80YzE"
   },
   "outputs": [
    {
     "name": "stdout",
     "output_type": "stream",
     "text": [
      "3\n",
      "4\n"
     ]
    }
   ],
   "source": [
    "#your working here\n",
    "A2_rank = la.matrix_rank(A2)\n",
    "A2_v2_rank = la.matrix_rank(A2_v2)\n",
    "print (A2_rank)\n",
    "print(A2_v2_rank)\n",
    "#your answers to 2b\n",
    "results['Q2b:A2_rank'] = A2_rank\n",
    "results['Q2b:A2_v2_rank'] = A2_v2_rank"
   ]
  },
  {
   "cell_type": "markdown",
   "metadata": {
    "colab_type": "text",
    "id": "JHTvt0EW0YzE"
   },
   "source": [
    "## Q2c\n",
    "Find the projection of `Q2_y` shown below onto the columns of A2 and approximate the random vector. What happens when we use more and more columns of A2 to approximate `Q2_y`? Choose from the numbered choices below.\n",
    "\n",
    "1. Nothing happens\n",
    "2. The error gets lower\n",
    "3. The error gets higher.\n",
    "\n",
    "Dictionary Keys = `Q2c:mcq`"
   ]
  },
  {
   "cell_type": "code",
   "execution_count": 42,
   "metadata": {},
   "outputs": [
    {
     "data": {
      "text/plain": [
       "array([[-1],\n",
       "       [ 0],\n",
       "       [ 2],\n",
       "       [ 4],\n",
       "       [ 6]], dtype=int32)"
      ]
     },
     "execution_count": 42,
     "metadata": {},
     "output_type": "execute_result"
    }
   ],
   "source": [
    "#This is your Q2_y\n",
    "Q2_y"
   ]
  },
  {
   "cell_type": "code",
   "execution_count": 56,
   "metadata": {},
   "outputs": [
    {
     "name": "stdout",
     "output_type": "stream",
     "text": [
      "[[ 0.88835534  0.1392557  -0.15366146  0.2304922  -0.05522209]\n",
      " [ 0.1392557   0.6542617   0.10564226 -0.15846339  0.41296519]\n",
      " [-0.15366146  0.10564226  0.7454982   0.3817527   0.09603842]\n",
      " [ 0.2304922  -0.15846339  0.3817527   0.42737095 -0.14405762]\n",
      " [-0.05522209  0.41296519  0.09603842 -0.14405762  0.28451381]]\n",
      "[[-0.60504202]\n",
      " [ 1.91596639]\n",
      " [ 3.74789916]\n",
      " [ 1.37815126]\n",
      " [ 1.37815126]]\n",
      "5.926014432890248\n",
      "Hi 7.431165603202651\n",
      "The projection of y on a1 =\n",
      " [[1.63636364]\n",
      " [1.63636364]\n",
      " [2.45454545]\n",
      " [1.63636364]\n",
      " [0.81818182]]\n",
      "The error of approximation is 6.50174801670499 \n",
      "\n",
      "The projection of y on a2 =\n",
      " [[0.        ]\n",
      " [2.82352941]\n",
      " [1.88235294]\n",
      " [0.        ]\n",
      " [1.88235294]]\n",
      "The error of approximation is 6.47620077441923 \n",
      "\n",
      "The projection of y on a3 =\n",
      " [[0.88888889]\n",
      " [0.88888889]\n",
      " [0.        ]\n",
      " [0.        ]\n",
      " [0.44444444]]\n",
      "The error of approximation is 7.431165603202651 \n",
      "\n"
     ]
    }
   ],
   "source": [
    "#your working here\n",
    "P = (Q@np.transpose(Q))\n",
    "proj =  P@Q2_y\n",
    "print(P)\n",
    "print(proj)\n",
    "error1 = my_norm(Q2_y - proj)\n",
    "print(error1)\n",
    "print(\"Hi\",error)\n",
    "errors = []\n",
    "for i in range(3):\n",
    "    A_T = np.transpose(A2)\n",
    "    a_i = np.vstack(A_T[i]) # column of B\n",
    "    proj = ((my_dot(Q2_y, a_i))/(my_dot(a_i, a_i)))*(a_i)\n",
    "    print(\"The projection of y on a\" + str(i+1), \"=\\n\", proj)\n",
    "    error = my_norm(Q2_y - proj) # y_hat == proj\n",
    "    errors.append(error)\n",
    "    print(\"The error of approximation is\", error, \"\\n\")\n",
    "\n",
    "#your answers to 2c\n",
    "results['Q2c:mcq'] = 3"
   ]
  },
  {
   "cell_type": "markdown",
   "metadata": {
    "colab_type": "text",
    "id": "JHTvt0EW0YzE"
   },
   "source": [
    "## Q2d\n",
    "Which 2 columns from A2 gives us the best approximation?  Use python indexing to report your answer.\n",
    "\n",
    "Dictionary Keys = `Q2d:cols`, `Q2d:error`\n"
   ]
  },
  {
   "cell_type": "code",
   "execution_count": null,
   "metadata": {},
   "outputs": [],
   "source": [
    "#your working here\n",
    "\n",
    "#your answers to 2d\n",
    "results['Q2d:cols'] = [0:1]\n",
    "results['Q2d:error'] = [0:1]"
   ]
  },
  {
   "cell_type": "markdown",
   "metadata": {
    "colab_type": "text",
    "id": "JHTvt0EW0YzE"
   },
   "source": [
    "## 3\n",
    "Given a matrix `A3` = 10x5 (random), = 10x1 vector, find the best 1, 2 and 3 columns of A to approximate `q3_y`. Give your 3 best column numbers using python indexing (python indexing starts from 0).\n",
    "Calculate the residual error. \n",
    "\n",
    "Dictionary Keys = `Q3:cols`, `Q3:error`\n"
   ]
  },
  {
   "cell_type": "code",
   "execution_count": null,
   "metadata": {
    "scrolled": false
   },
   "outputs": [],
   "source": [
    "print('A3:\\n', A3)"
   ]
  },
  {
   "cell_type": "code",
   "execution_count": null,
   "metadata": {},
   "outputs": [],
   "source": [
    "print('q3_y:\\n', Q3_y)"
   ]
  },
  {
   "cell_type": "code",
   "execution_count": null,
   "metadata": {},
   "outputs": [],
   "source": [
    "#your working here\n",
    "\n",
    "#your answers to 3\n",
    "results['Q3:cols'] = \n",
    "results['Q3:error'] = "
   ]
  },
  {
   "cell_type": "markdown",
   "metadata": {
    "colab_type": "text",
    "id": "Rtggss1cxwas"
   },
   "source": [
    "# SANITY CHECKS\n",
    "Run the code blocks below to ensure your answers are stored properly.\n",
    "1. double check your answer using the print command. (the functions should look like <function my_func at 0x00000>)\n",
    "2. Ensure the number of keys in your dictionary equals to 22\n",
    "3. Check that the dictionary keys are all accounted for"
   ]
  },
  {
   "cell_type": "code",
   "execution_count": null,
   "metadata": {
    "colab": {},
    "colab_type": "code",
    "executionInfo": {
     "elapsed": 1063,
     "status": "aborted",
     "timestamp": 1599487167171,
     "user": {
      "displayName": "Andrew",
      "photoUrl": "",
      "userId": "11550368507075028834"
     },
     "user_tz": -480
    },
    "id": "RCkumvd6x7LI"
   },
   "outputs": [],
   "source": [
    "#first check\n",
    "print(results)"
   ]
  },
  {
   "cell_type": "code",
   "execution_count": null,
   "metadata": {
    "colab": {},
    "colab_type": "code",
    "executionInfo": {
     "elapsed": 1062,
     "status": "aborted",
     "timestamp": 1599487167171,
     "user": {
      "displayName": "Andrew",
      "photoUrl": "",
      "userId": "11550368507075028834"
     },
     "user_tz": -480
    },
    "id": "rd8XJ9MzZPGp"
   },
   "outputs": [],
   "source": [
    "#second check\n",
    "len(results.keys()) \n"
   ]
  },
  {
   "cell_type": "code",
   "execution_count": null,
   "metadata": {
    "colab": {},
    "colab_type": "code",
    "executionInfo": {
     "elapsed": 1062,
     "status": "aborted",
     "timestamp": 1599487167172,
     "user": {
      "displayName": "Andrew",
      "photoUrl": "",
      "userId": "11550368507075028834"
     },
     "user_tz": -480
    },
    "id": "ROwoxNLDGwAf"
   },
   "outputs": [],
   "source": [
    "#third check\n",
    "keys = list(results.keys())\n",
    "keys.sort()\n",
    "keys == ['Q1a:A1', 'Q1a:my_dot', 'Q1a:my_norm', 'Q1b:most_similar', 'Q1c:most_similar', 'Q1d:most_similar', 'Q2a:Q', 'Q2a:R', 'Q2b:A2_rank', 'Q2b:A2_v2_rank', 'Q2c:mcq', 'Q2d:cols', 'Q2d:error', 'Q3:cols', 'Q3:error', 'exqn_a:ex_func', 'exqn_b:y', 'exqn_c:mcq', 'exqn_d:idxs', 'matric_no', 'name', 'quiz_version']"
   ]
  },
  {
   "cell_type": "markdown",
   "metadata": {
    "colab_type": "text",
    "id": "517Gtl6wzhVW"
   },
   "source": [
    "# Change the pickle file path to whereever you want to save the file. The name of the file should be `{your_matric}_dict.pkl` You will have to submit this file and this notebook"
   ]
  },
  {
   "cell_type": "code",
   "execution_count": null,
   "metadata": {
    "colab": {},
    "colab_type": "code",
    "executionInfo": {
     "elapsed": 1056,
     "status": "aborted",
     "timestamp": 1599487167172,
     "user": {
      "displayName": "Andrew",
      "photoUrl": "",
      "userId": "11550368507075028834"
     },
     "user_tz": -480
    },
    "id": "tKp4UWlZzs-K"
   },
   "outputs": [],
   "source": [
    "dill_file_path= 'U1234567A_dict.dill'\n",
    "\n",
    "with open(dill_file_path,'wb') as f:\n",
    "  dill.dump(results, f)"
   ]
  }
 ],
 "metadata": {
  "colab": {
   "collapsed_sections": [],
   "name": "Lab Quiz 6 Answer Template.ipynb",
   "provenance": []
  },
  "kernelspec": {
   "display_name": "Python 3",
   "language": "python",
   "name": "python3"
  },
  "language_info": {
   "codemirror_mode": {
    "name": "ipython",
    "version": 3
   },
   "file_extension": ".py",
   "mimetype": "text/x-python",
   "name": "python",
   "nbconvert_exporter": "python",
   "pygments_lexer": "ipython3",
   "version": "3.8.5"
  }
 },
 "nbformat": 4,
 "nbformat_minor": 1
}
