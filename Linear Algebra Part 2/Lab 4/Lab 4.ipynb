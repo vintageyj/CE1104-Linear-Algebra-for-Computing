{
 "cells": [
  {
   "cell_type": "markdown",
   "metadata": {},
   "source": [
    "# Lab 4\n",
    "## 4. Tasks\n",
    "### Question 4A"
   ]
  },
  {
   "cell_type": "code",
   "execution_count": 1,
   "metadata": {},
   "outputs": [],
   "source": [
    "import numpy as np\n",
    "from numpy import linalg as la\n",
    "from random import randint\n",
    "from statistics import mean"
   ]
  },
  {
   "cell_type": "code",
   "execution_count": 2,
   "metadata": {},
   "outputs": [
    {
     "name": "stdout",
     "output_type": "stream",
     "text": [
      "A =\n",
      " [[0.67457202 0.95879171]\n",
      " [0.43277381 0.50043456]\n",
      " [0.29641171 0.20186787]]\n",
      "b =\n",
      " [[0.87197314]\n",
      " [0.58394218]\n",
      " [0.53890822]]\n",
      "\n",
      "Using pseudo inverse,\n",
      "x1a = \n",
      " [[ 2.19021473]\n",
      " [-0.64844377]]\n"
     ]
    }
   ],
   "source": [
    "# Q4A. Given matrix A (mxn) and a vector b (nx1), find x/x_hat such that Ax = b\n",
    "# a. Solve for x using pseudo inverse, save x as x1a vector\n",
    "m, n = 3, 2\n",
    "A = np.random.rand(m,n)\n",
    "b = np.random.rand(m,1)\n",
    "print(\"A =\\n\", A)\n",
    "print(\"b =\\n\", b)\n",
    "\n",
    "A_inv = la.pinv(A)\n",
    "x1a = A_inv@b\n",
    "print(\"\\nUsing pseudo inverse,\\nx1a = \\n\", x1a)"
   ]
  },
  {
   "cell_type": "code",
   "execution_count": 3,
   "metadata": {},
   "outputs": [
    {
     "name": "stdout",
     "output_type": "stream",
     "text": [
      "Using normal equation, \n",
      "x1b = \n",
      " [[ 2.19021473]\n",
      " [-0.64844377]]\n"
     ]
    }
   ],
   "source": [
    "# b. Solve for x using normal equation, save x as x1b vector\n",
    "# ATAx = ATb\n",
    "ATA = A.T@A\n",
    "x1b = la.inv(ATA)@A.T@b\n",
    "print(\"Using normal equation, \\nx1b = \\n\", x1b)"
   ]
  },
  {
   "cell_type": "code",
   "execution_count": 4,
   "metadata": {},
   "outputs": [
    {
     "name": "stdout",
     "output_type": "stream",
     "text": [
      "The solutions are the same.\n"
     ]
    }
   ],
   "source": [
    "# c. Are the solutions of pseudo inverse and normal equation same? Why?\n",
    "if la.norm(x1a - x1b) <= 1e-6:\n",
    "    print(\"The solutions are the same.\")\n",
    "else:\n",
    "    print(\"The solutions are different.\")"
   ]
  },
  {
   "cell_type": "code",
   "execution_count": 5,
   "metadata": {},
   "outputs": [
    {
     "name": "stdout",
     "output_type": "stream",
     "text": [
      "Using pseudo inverse,\n",
      "hat_b1a =\n",
      " [[0.85573506]\n",
      " [0.6233639 ]\n",
      " [0.51830533]]\n",
      "\n",
      "Using normal equation,\n",
      "hat_b1b =\n",
      " [[0.85573506]\n",
      " [0.6233639 ]\n",
      " [0.51830533]]\n",
      "\n",
      "The results are the same.\n"
     ]
    }
   ],
   "source": [
    "# d. Find hat_b using pseudo inverse vs normal equation solution\n",
    "# Using pseudo inverse\n",
    "hat_b1a = A@x1a\n",
    "print(\"Using pseudo inverse,\\nhat_b1a =\\n\", hat_b1a)\n",
    "\n",
    "# Using normal equation\n",
    "hat_b1b = A@x1b\n",
    "print(\"\\nUsing normal equation,\\nhat_b1b =\\n\", hat_b1b)\n",
    "\n",
    "# Check if hat_b1a & hat_b1b are the same\n",
    "if la.norm(hat_b1a - hat_b1b) <= 1e-6:\n",
    "    print(\"\\nThe results are the same.\")\n",
    "else:\n",
    "    print(\"\\nThe results are different.\")"
   ]
  },
  {
   "cell_type": "code",
   "execution_count": 6,
   "metadata": {},
   "outputs": [
    {
     "name": "stdout",
     "output_type": "stream",
     "text": [
      "Using pseudo inverse,\n",
      "norm of error to approximate b =  0.04735215828881798\n",
      "\n",
      "Using normal equation,\n",
      "norm of error to approximate b =  0.04735215828881794 \n",
      "\n",
      "Both approach produces the same error to approximate b.\n"
     ]
    }
   ],
   "source": [
    "# e. What is the norm of error to approximate b using the two approaches?\n",
    "# Using pseudo inverse\n",
    "error_1a = b - hat_b1a\n",
    "norm_error_1a = la.norm(error_1a)\n",
    "print(\"Using pseudo inverse,\\nnorm of error to approximate b = \", norm_error_1a)\n",
    "\n",
    "#Using normal equation\n",
    "error_1b = b - hat_b1b\n",
    "norm_error_1b = la.norm(error_1b)\n",
    "print(\"\\nUsing normal equation,\\nnorm of error to approximate b = \", norm_error_1b, \"\\n\")\n",
    "\n",
    "# Is x1a and x1b different? Why? Which solution is better if different?\n",
    "if abs(norm_error_1a - norm_error_1b) < 1e-6:\n",
    "    print(\"Both approach produces the same error to approximate b.\")\n",
    "else:\n",
    "    print(\"The two approaches produce different error to approximate b.\")\n",
    "    if norm_error_1a < norm_error_1b:\n",
    "        print(\"Pseudo inverse produces a better solution.\")\n",
    "    else:\n",
    "        print(\"Normal equation produces a better solution.\")"
   ]
  },
  {
   "cell_type": "code",
   "execution_count": 7,
   "metadata": {},
   "outputs": [
    {
     "name": "stdout",
     "output_type": "stream",
     "text": [
      "Method 1: Check if rank of A == rank of [A b]\n",
      "rank of A = 2 \n",
      "rank of [A b] = 3\n",
      "b is not in column space of A, since rank of A != rank of [A b].\n",
      "\n",
      "Method 2: Check if Ax - b == 0\n",
      "b is not in column space of A.\n"
     ]
    }
   ],
   "source": [
    "# f. Is b in the column space of A? Use at least 2 different ways to show this?\n",
    "# Method 1: Check if rank of A == rank of [A b]\n",
    "print(\"Method 1: Check if rank of A == rank of [A b]\")\n",
    "rank_A = la.matrix_rank(A)\n",
    "A_b = np.hstack((A,b))\n",
    "rank_A_b = la.matrix_rank(A_b)\n",
    "print(\"rank of A =\", rank_A, \"\\nrank of [A b] =\", rank_A_b)\n",
    "if rank_A == rank_A_b:\n",
    "    print(\"b is in column space of A, since rank of A == rank of [A b].\")\n",
    "else:\n",
    "    print(\"b is not in column space of A, since rank of A != rank of [A b].\")\n",
    "    \n",
    "# Method 2: Check if Ax - b == 0\n",
    "print(\"\\nMethod 2: Check if Ax - b == 0\")\n",
    "if norm_error_1a <= 1e-6:\n",
    "    print(\"b is in column space of A\")\n",
    "else:\n",
    "    print(\"b is not in column space of A.\")"
   ]
  },
  {
   "cell_type": "code",
   "execution_count": 8,
   "metadata": {},
   "outputs": [
    {
     "name": "stdout",
     "output_type": "stream",
     "text": [
      "a_0.error_1b = [-2.54136989e-16]\n",
      "a_1.error_1b = [-5.70724024e-16]\n",
      "\n",
      "The error vector is orthogonal to column space of A, since \n",
      "the dot product of error vector and columns of A equals to zero.\n"
     ]
    }
   ],
   "source": [
    "# g. Is the error vector (produced by normal equation) orthogonal to column space of A?\n",
    "\n",
    "is_orthogonal = 1\n",
    "for i in range(n):\n",
    "    a_i = A[:,i]\n",
    "    dot_prod_i = np.dot(a_i,error_1b)\n",
    "    print(\"a_\" + str(i) + \".error_1b =\", dot_prod_i)\n",
    "    if dot_prod_i >= 1e-6:\n",
    "        is_orthogonal = 0\n",
    "if is_orthogonal:\n",
    "    print('''\\nThe error vector is orthogonal to column space of A, since \n",
    "the dot product of error vector and columns of A equals to zero.''')\n",
    "else:\n",
    "    print(\"The error vector is not orthogonal to column space of A.\")"
   ]
  },
  {
   "cell_type": "code",
   "execution_count": 9,
   "metadata": {},
   "outputs": [
    {
     "name": "stdout",
     "output_type": "stream",
     "text": [
      "Yes, because ATA is rank 2 for 2 variables.\n",
      "This implies that ATA is non-singular and its inverse exists.\n"
     ]
    }
   ],
   "source": [
    "# h. Can we use the normal equation to solve for x in this example?\n",
    "# Justify your answer? When can we not use the normal equation to solve Least Squares?\n",
    "rank_ATA = la.matrix_rank(ATA)\n",
    "if n == rank_ATA:\n",
    "    print(f'''Yes, because ATA is rank {rank_ATA} for {n} variables.\n",
    "This implies that ATA is non-singular and its inverse exists.''')\n",
    "else:\n",
    "    print(f'''No, because ATA is rank {rank_ATA} for {n} variables. \n",
    "This shows that ATA is singular and non-invertible.''')"
   ]
  },
  {
   "cell_type": "code",
   "execution_count": 10,
   "metadata": {},
   "outputs": [
    {
     "name": "stdout",
     "output_type": "stream",
     "text": [
      "Q =\n",
      " [[-0.78941844  0.50913982]\n",
      " [-0.50645389 -0.22452424]\n",
      " [-0.34687604 -0.83088237]]\n",
      "\n",
      "R =\n",
      " [[-0.85451769 -1.08035801]\n",
      " [ 0.          0.20807089]]\n"
     ]
    }
   ],
   "source": [
    "# i. Construct Q with orthogonal basis spanning the column space of A using\n",
    "# QR (reduced form) decomposition\n",
    "Q, R = np.linalg.qr(A)\n",
    "print(\"Q =\\n\", Q)\n",
    "print(\"\\nR =\\n\", R)"
   ]
  },
  {
   "cell_type": "code",
   "execution_count": 11,
   "metadata": {},
   "outputs": [
    {
     "name": "stdout",
     "output_type": "stream",
     "text": [
      "Columns of Q are in column space of A if rank [A q_j] == rank A,\n",
      "where q_j are the columns of Q and j = 1,2...,n.\n",
      "\n",
      "rank A = 2\n",
      "rank [A q_1] = 2\n",
      "rank [A q_2] = 2\n",
      "\n",
      "Columns of Q are in column space of A.\n"
     ]
    }
   ],
   "source": [
    "# i.a. How can you show that columns of Q is in the column space of A?\n",
    "print('''Columns of Q are in column space of A if rank [A q_j] == rank A,\n",
    "where q_j are the columns of Q and j = 1,2...,n.\\n''')\n",
    "\n",
    "print(\"rank A =\", rank_A)\n",
    "rank_equivalent = 1\n",
    "for j in range(n):\n",
    "    A_q_j = np.hstack((A, np.vstack(Q[:,j])))\n",
    "    rank_A_q_j = la.matrix_rank(A_q_j)\n",
    "    print(f\"rank [A q_{j+1}] =\", rank_A_q_j)\n",
    "    if rank_A_q_j != rank_A:\n",
    "        rank_equivalent = 0\n",
    "if rank_equivalent:\n",
    "    print(\"\\nColumns of Q are in column space of A.\")\n",
    "else:\n",
    "    print(\"\\nColumns of Q are not in column space of A.\")"
   ]
  },
  {
   "cell_type": "code",
   "execution_count": 12,
   "metadata": {},
   "outputs": [
    {
     "name": "stdout",
     "output_type": "stream",
     "text": [
      "x =\n",
      " [[-1.17102581]\n",
      " [-0.13492227]]\n",
      "\n",
      "Error of approximating b = 0.04735215828881781\n",
      "It is the same as Question e).\n"
     ]
    }
   ],
   "source": [
    "# i.b. Solve Qx = b, what is the error of approximating b?\n",
    "# Is it the same as e.? Why?\n",
    "Q_inv = la.pinv(Q)\n",
    "x1q = Q_inv@b\n",
    "print(\"x =\\n\",x1q)\n",
    "\n",
    "error_1q = b - Q@x1q\n",
    "norm_error_1q = la.norm(error_1q)\n",
    "print(\"\\nError of approximating b =\", norm_error_1q)\n",
    "\n",
    "if la.norm(error_1q - error_1b) <= 1e-6:\n",
    "    print(\"It is the same as Question e).\")\n",
    "else:\n",
    "    print(\"It is not the same as Question e).\")"
   ]
  },
  {
   "cell_type": "code",
   "execution_count": 13,
   "metadata": {},
   "outputs": [
    {
     "name": "stdout",
     "output_type": "stream",
     "text": [
      "norm approximation by LS = 0.04735215828881794,\n",
      "by 73 examples (minErr=0.8863293517571902, meanErr=1.247862160709278)\n"
     ]
    }
   ],
   "source": [
    "# j. Evaluate N point(e.g,10) around the least squares solution(normal equation)\n",
    "# when it exist to show that it gives the least error squares in approximating b.\n",
    "# Specifically, new_x = x + delta_x.\n",
    "# Additionally make delta_x has norm(1) generated by numpy.random.rand\n",
    "\n",
    "N = randint(1,100)\n",
    "errExample = np.zeros(N)\n",
    "for i in range(N):\n",
    "    delta_x = np.random.rand(n,1)\n",
    "    delta_x = delta_x/la.norm(delta_x)\n",
    "    new_x = x1b + delta_x\n",
    "    new_hat_b = A@new_x\n",
    "    errExample[i] = la.norm(b-new_hat_b)\n",
    "print(f'''norm approximation by LS = {norm_error_1b},\n",
    "by {N} examples (minErr={min(errExample)}, meanErr={mean(errExample)})''')\n"
   ]
  },
  {
   "cell_type": "markdown",
   "metadata": {},
   "source": [
    "### Question 4B"
   ]
  },
  {
   "cell_type": "code",
   "execution_count": 14,
   "metadata": {},
   "outputs": [
    {
     "name": "stdout",
     "output_type": "stream",
     "text": [
      "Assuming all the matrices A, B, C and X are square and invertible,\n",
      "(AX - A)^-1 = (X^_-1)BC^-1\n",
      "X(AX - A)^-1 = BC^-1\n",
      "(AX - A)X^-1 = CB^-1\n",
      "A - AX^-1 = CB^-1\n",
      "A - CB^-1 = AX^-1\n",
      "XA^-1 = (A - CB^-1)^-1\n",
      "X = ((A - CB^-1)^-1)A\n",
      "X = ((A^-1)(A - CB^-1))^-1\n",
      "\n",
      "Therefore,\n",
      "X = (I - (A^-1)CB^-1)^-1\n"
     ]
    }
   ],
   "source": [
    "# a. Given (AX-A)^-1 = X^-1BC^-1, manually solve for X. Clearly write the derivation and assumption.\n",
    "print(\"Assuming all the matrices A, B, C and X are square and invertible,\")\n",
    "print(\"(AX - A)^-1 = (X^_-1)BC^-1\")\n",
    "print(\"X(AX - A)^-1 = BC^-1\")\n",
    "print(\"(AX - A)X^-1 = CB^-1\")\n",
    "print(\"A - AX^-1 = CB^-1\")\n",
    "print(\"A - CB^-1 = AX^-1\")\n",
    "print(\"XA^-1 = (A - CB^-1)^-1\")\n",
    "print(\"X = ((A - CB^-1)^-1)A\")\n",
    "print(\"X = ((A^-1)(A - CB^-1))^-1\")\n",
    "print(\"\\nTherefore,\\nX = (I - (A^-1)CB^-1)^-1\")"
   ]
  },
  {
   "cell_type": "code",
   "execution_count": 15,
   "metadata": {},
   "outputs": [
    {
     "name": "stdout",
     "output_type": "stream",
     "text": [
      "A =\n",
      " [[0.60831786 0.98395404 0.09303464]\n",
      " [0.48318936 0.66908514 0.71579483]\n",
      " [0.25062419 0.41015841 0.53347835]]\n",
      "B =\n",
      " [[0.51365727 0.61869072 0.20788217]\n",
      " [0.08932533 0.61944456 0.86722755]\n",
      " [0.06800123 0.94295899 0.76622335]]\n",
      "C =\n",
      " [[0.02768658 0.79142562 0.30123458]\n",
      " [0.7586896  0.837045   0.89696593]\n",
      " [0.25109645 0.59974715 0.61879309]]\n",
      "X =\n",
      " [[0.24437804 0.70549199 1.76783649]\n",
      " [0.84308965 1.30351717 0.60495712]\n",
      " [0.8538305  1.4308905  1.56673212]]\n",
      "LHS:\n",
      "(AX-A)^-1 =\n",
      " [[  2.69244684 -12.31071576  15.95592288]\n",
      " [ -2.68615598   7.64386318  -8.14765621]\n",
      " [  1.22014623  -0.60878418  -0.08995902]]\n",
      "RHS:\n",
      "(X^-1)BC^-1 =\n",
      " [[  2.69244684 -12.31071576  15.95592288]\n",
      " [ -2.68615598   7.64386318  -8.14765621]\n",
      " [  1.22014623  -0.60878418  -0.08995902]]\n",
      "\n",
      "Since LHS == RHS, therefore X found is correct.\n"
     ]
    }
   ],
   "source": [
    "# b. Calculate X using found equation.\n",
    "A = np.random.rand(3,3)\n",
    "B = np.random.rand(3,3)\n",
    "C = np.random.rand(3,3)\n",
    "print(\"A =\\n\",A)\n",
    "print(\"B =\\n\",B)\n",
    "print(\"C =\\n\",C)\n",
    "\n",
    "X = la.inv(np.eye(3)-la.inv(A)@C@la.inv(B))\n",
    "print(\"X =\\n\",X)\n",
    "\n",
    "LHS = la.inv(A@X - A)\n",
    "RHS = la.inv(X)@B@la.inv(C)\n",
    "\n",
    "print(\"LHS:\\n(AX-A)^-1 =\\n\",LHS)\n",
    "print(\"RHS:\\n(X^-1)BC^-1 =\\n\",RHS)\n",
    "if la.norm(LHS-RHS) <= 1e-6:\n",
    "    print(\"\\nSince LHS == RHS, therefore X found is correct.\")"
   ]
  }
 ],
 "metadata": {
  "kernelspec": {
   "display_name": "Python 3",
   "language": "python",
   "name": "python3"
  },
  "language_info": {
   "codemirror_mode": {
    "name": "ipython",
    "version": 3
   },
   "file_extension": ".py",
   "mimetype": "text/x-python",
   "name": "python",
   "nbconvert_exporter": "python",
   "pygments_lexer": "ipython3",
   "version": "3.8.5"
  }
 },
 "nbformat": 4,
 "nbformat_minor": 4
}
