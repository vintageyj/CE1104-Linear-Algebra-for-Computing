{
 "cells": [
  {
   "cell_type": "markdown",
   "metadata": {},
   "source": [
    "# LAB 1\n",
    "\n",
    "## Exercise 1\n",
    "### Question 1"
   ]
  },
  {
   "cell_type": "code",
   "execution_count": 1,
   "metadata": {},
   "outputs": [],
   "source": [
    "import numpy as np\n",
    "from scipy import linalg\n",
    "import math\n",
    "import random\n",
    "import matplotlib\n",
    "import matplotlib.pyplot as plt\n",
    "%matplotlib inline\n",
    "from mpl_toolkits import mplot3d\n",
    "from itertools import combinations "
   ]
  },
  {
   "cell_type": "code",
   "execution_count": 2,
   "metadata": {},
   "outputs": [
    {
     "name": "stdout",
     "output_type": "stream",
     "text": [
      "𝛽1 = 0\n",
      "𝛽2 = 1\n"
     ]
    }
   ],
   "source": [
    "# Password\n",
    "x = np.array([1,0,1,1,1])\n",
    "\n",
    "# Challenge Vectors\n",
    "c1, c2 = np.array([0,1,0,1,1]), np.array([1,1,1,1,0])\n",
    "\n",
    "# Correct Response Function\n",
    "def challenge_response(x, c):\n",
    "    response = np.dot(x, c) % 2\n",
    "    return response\n",
    "b_1 = challenge_response(x, c1)\n",
    "b_2 = challenge_response(x, c2)\n",
    "\n",
    "print(f\"𝛽1 = {b_1}\")\n",
    "print(f\"𝛽2 = {b_2}\")"
   ]
  },
  {
   "cell_type": "markdown",
   "metadata": {},
   "source": [
    "### Question 2\n",
    "\n",
    "#### Since Eve knows 𝛽1, 𝛽2, c1 and c2, when she received a challenge vector of (c1 + c2), she can deduce that the response to the challenge is simply (𝛽1 + 𝛽2) = 0 + 1 = 1."
   ]
  },
  {
   "cell_type": "code",
   "execution_count": 3,
   "metadata": {},
   "outputs": [
    {
     "name": "stdout",
     "output_type": "stream",
     "text": [
      "Eve's response = 1\n"
     ]
    }
   ],
   "source": [
    "def add_vectors(v1, v2):\n",
    "    return [(bit1+bit2)%2 for bit1, bit2 in zip(v1,v2)]\n",
    "eve_response = challenge_response(x, add_vectors(c1, c2))\n",
    "print(f\"Eve's response = {eve_response}\")"
   ]
  },
  {
   "cell_type": "markdown",
   "metadata": {},
   "source": [
    "### Question 3 "
   ]
  },
  {
   "cell_type": "code",
   "execution_count": 4,
   "metadata": {},
   "outputs": [
    {
     "name": "stdout",
     "output_type": "stream",
     "text": [
      "Response to c_a = 0\n",
      "Response to c_b = 0\n"
     ]
    }
   ],
   "source": [
    "def str_to_vector(s):\n",
    "    vector = []\n",
    "    for i in s:\n",
    "        vector.append(int(i)) \n",
    "    return vector\n",
    "\n",
    "# Known challenges\n",
    "\n",
    "Ch = {}\n",
    "Ch['110011'] = 0\n",
    "Ch['101010'] = 0\n",
    "Ch['111011'] = 1\n",
    "Ch['001100'] = 1\n",
    "\n",
    "\n",
    "# New challenges\n",
    "c_a, c_b = str_to_vector('011001'), str_to_vector('110111')\n",
    "def derive_response(Ch, c):\n",
    "    for key1 in Ch:\n",
    "        for key2 in Ch:\n",
    "            v1 = str_to_vector(key1)\n",
    "            v2 = str_to_vector(key2)\n",
    "            if add_vectors(v1, v2) == c:\n",
    "                return (Ch[key1]+Ch[key2])%2\n",
    "print(f\"Response to c_a = {derive_response(Ch, c_a)}\")\n",
    "print(f\"Response to c_b = {derive_response(Ch, c_b)}\")"
   ]
  },
  {
   "cell_type": "markdown",
   "metadata": {},
   "source": [
    "### Question 4\n",
    "\n",
    "#### Cx = b"
   ]
  },
  {
   "cell_type": "code",
   "execution_count": 5,
   "metadata": {},
   "outputs": [
    {
     "name": "stdout",
     "output_type": "stream",
     "text": [
      "Password x = [1, 0, 1, 0, 0, 1]\n"
     ]
    }
   ],
   "source": [
    "Ch['011011'] = 0\n",
    "Ch['110100'] = 1\n",
    "matrix_C, vector_b = [], []\n",
    "\n",
    "for key in Ch:\n",
    "    matrix_C.append(str_to_vector(key))\n",
    "    vector_b.append(Ch[key])\n",
    "    \n",
    "# np.vstack or not, the outcome is still the same\n",
    "# inputs must be a square matrix\n",
    "x = [int(y%2) for y in linalg.solve(np.vstack(matrix_C), np.vstack(vector_b)).flatten()]\n",
    "print(f\"Password x = {x}\")"
   ]
  },
  {
   "cell_type": "markdown",
   "metadata": {},
   "source": [
    "### Optional Question 4a\n",
    "#### Gaussian Elimination\n",
    "##### Incomplete, ignore."
   ]
  },
  {
   "cell_type": "code",
   "execution_count": 6,
   "metadata": {},
   "outputs": [
    {
     "data": {
      "text/plain": [
       "'def gauss_elim(augmented):\\n    #check row by row\\n    #forward operations, anything below pivot = 0\\n    pivot = 0\\n    for row in range(len(augmented)):\\n        for column in range(len(augmented[0])):\\n            if pivot == 0 and row == column:\\n                #this is a pivot position\\n                pivot = 1\\n            elif pivot == 1 and row <= column:\\n                continue\\n            else:\\n                augmented[row][column]\\n    #backward operations, pivot = 1, anything above pivot = 0'"
      ]
     },
     "execution_count": 6,
     "metadata": {},
     "output_type": "execute_result"
    }
   ],
   "source": [
    "'''def gauss_elim(augmented):\n",
    "    #check row by row\n",
    "    #forward operations, anything below pivot = 0\n",
    "    pivot = 0\n",
    "    for row in range(len(augmented)):\n",
    "        for column in range(len(augmented[0])):\n",
    "            if pivot == 0 and row == column:\n",
    "                #this is a pivot position\n",
    "                pivot = 1\n",
    "            elif pivot == 1 and row <= column:\n",
    "                continue\n",
    "            else:\n",
    "                augmented[row][column]\n",
    "    #backward operations, pivot = 1, anything above pivot = 0'''\n",
    "    "
   ]
  },
  {
   "cell_type": "markdown",
   "metadata": {},
   "source": [
    "## Exercise 2\n",
    "### Question 5\n",
    "#### From the data, matrix A is the column x, vector b is the column y.\n",
    "#### Since matrix A is a square matrix, it is row equivalent to I. Therefore we can deduce that the matrix A is invertible."
   ]
  },
  {
   "cell_type": "code",
   "execution_count": 7,
   "metadata": {},
   "outputs": [
    {
     "data": {
      "image/png": "[encoded data removed]",
      "text/plain": [
       "<Figure size 432x288 with 1 Axes>"
      ]
     },
     "metadata": {
      "needs_background": "light"
     },
     "output_type": "display_data"
    }
   ],
   "source": [
    "house = {}\n",
    "house['1'] = [0.846, 115.00]\n",
    "house['2'] = [1.324, 234.50]\n",
    "house['3'] = [1.150, 198.00]\n",
    "house['4'] = [3.037, 528.00]\n",
    "house['5'] = [3.984, 572.50]\n",
    "\n",
    "# Find summation of x_i, y_i, x_i**2, x_i*y_i\n",
    "# Solve for m & c\n",
    "\n",
    "x_i, y_i = [], []\n",
    "for n in range(1,6):\n",
    "    x_i.append(house[str(n)][0])\n",
    "    y_i.append(house[str(n)][1])\n",
    "x_i, y_i = np.array(x_i), np.array(y_i)\n",
    "\n",
    "x_1 = x_i.sum()\n",
    "y_1 = y_i.sum()\n",
    "x_2 = (x_i@x_i).sum()\n",
    "x_y = (x_i@y_i).sum()\n",
    "n = len(x_i)\n",
    "\n",
    "matrix_A = [[x_2, x_1], \n",
    "            [x_1, n]]\n",
    "vector_b2 = [x_y, \n",
    "             y_1]\n",
    "# Solve for x = [m, c] with x = (A**-1)b\n",
    "q = linalg.inv(matrix_A)@vector_b2\n",
    "m, c = q[0], q[1]\n",
    "xs = np.linspace(0,4,5)\n",
    "ys = c + m*xs\n",
    "plt.plot(xs, ys, 'r', linewidth=4)\n",
    "plt.scatter(x_i, y_i)\n",
    "plt.show()"
   ]
  },
  {
   "cell_type": "markdown",
   "metadata": {},
   "source": [
    "### Question 6"
   ]
  },
  {
   "cell_type": "code",
   "execution_count": 8,
   "metadata": {},
   "outputs": [
    {
     "name": "stdout",
     "output_type": "stream",
     "text": [
      "vector a = [  9.97566234 130.67172705  16.45635726]\n"
     ]
    }
   ],
   "source": [
    "# number of bedrooms vector\n",
    "x_j = np.array(str_to_vector(\"12345\"))\n",
    "\n",
    "matrix_X = []\n",
    "for row in range(len(x_i)):\n",
    "    matrix_X.append([])\n",
    "    matrix_X[row].append(1)\n",
    "    matrix_X[row].append(x_i[row])\n",
    "    matrix_X[row].append(x_j[row])\n",
    "matrix_X = np.vstack(matrix_X)\n",
    "vector_a = linalg.solve((matrix_X.T)@(matrix_X), (matrix_X.T)@(y_i))\n",
    "print(f\"vector a = {vector_a}\")"
   ]
  },
  {
   "cell_type": "code",
   "execution_count": 9,
   "metadata": {},
   "outputs": [
    {
     "data": {
      "image/png": "[encoded data removed]",
      "text/plain": [
       "<Figure size 432x288 with 1 Axes>"
      ]
     },
     "metadata": {
      "needs_background": "light"
     },
     "output_type": "display_data"
    }
   ],
   "source": [
    "fig = plt.figure()\n",
    "ax = plt.axes(projection='3d')\n",
    "ax.set_xlabel('x1')\n",
    "ax.set_ylabel('x2')\n",
    "ax.set_zlabel('y')\n",
    "\n",
    "# Create a 3D array\n",
    "# meshgrid produces all combinations of given x and y\n",
    "# x goes from 0 to 5, with 10 steps\n",
    "xR = np.linspace(0, 5, 10)\n",
    "# y goes from 0 to 5, with 10 steps\n",
    "yR = np.linspace(0, 5, 10)\n",
    "# combine all x with all y\n",
    "xx, yy = np.meshgrid(xR, yR)\n",
    "zz = vector_a[0] + vector_a[1]*xx + vector_a[2]*yy\n",
    "ax.scatter3D(x_i, x_j, y_i)\n",
    "ax.plot_wireframe(xx, yy, zz, color = 'red')\n",
    "plt.show()"
   ]
  },
  {
   "cell_type": "markdown",
   "metadata": {},
   "source": [
    "## Exercise 3\n",
    "### Question 7"
   ]
  },
  {
   "cell_type": "code",
   "execution_count": 10,
   "metadata": {},
   "outputs": [
    {
     "name": "stdout",
     "output_type": "stream",
     "text": [
      "vector u = [0, 0, 0, 0, 0, 0], for s = 0 and t = 0\n",
      "vector u = [0, 0, 1, 0, 1, 0], for s = 0 and t = 1\n",
      "vector u = [0, 0, 1, 1, 0, 0], for s = 1 and t = 0\n",
      "vector u = [0, 0, 1, 0, 0, 1], for s = 1 and t = 1\n"
     ]
    }
   ],
   "source": [
    "a_0 = np.array(str_to_vector('110101')) \n",
    "b_0 = np.array(str_to_vector('110011'))\n",
    "\n",
    "def rand_key(p): \n",
    "    key = []\n",
    "    for i in range(p): \n",
    "        key.append(random.randint(0, 1))\n",
    "    return(key) \n",
    "\n",
    "def random_vector(s, t):\n",
    "    while True:\n",
    "        u = rand_key(6)\n",
    "        if a_0@u == s and b_0@u == t:\n",
    "            return u\n",
    "            break\n",
    "\n",
    "for s in range(2):\n",
    "    for t in range(2):\n",
    "        vector_u = random_vector(s,t)\n",
    "        print(f\"vector u = {vector_u}, for s = {s} and t = {t}\")"
   ]
  },
  {
   "cell_type": "code",
   "execution_count": 11,
   "metadata": {},
   "outputs": [
    {
     "name": "stdout",
     "output_type": "stream",
     "text": [
      "[[0 1 0 0 1 0]\n",
      " [0 1 1 0 1 0]\n",
      " [1 0 0 0 1 1]\n",
      " [1 1 1 1 1 1]]\n",
      "[[0 0 1 1 1 1]\n",
      " [0 1 1 0 0 1]\n",
      " [1 0 1 0 1 0]\n",
      " [0 0 1 0 1 1]]\n"
     ]
    }
   ],
   "source": [
    "# Function to check if the generated vectors fulfil \n",
    "# the independency requirements\n",
    "\n",
    "# input two lists a & b, each contains 4 vectors\n",
    "# Return \"True\" if any 3 pairs of vectors from \n",
    "# (a1,b1),(a2,b2),(a3,b3),(a4,b4) are linearly independent\n",
    "def check_dependency(a,b): \n",
    "    for v1 in range(1,3): #1st vector from 1 to 2\n",
    "        for v2 in range(v1+1,4): \n",
    "            for v3 in range(v2+1,5): \n",
    "                squareMatrix = np.vstack((a[v1], b[v1], a[v2], b[v2],a[v3], b[v3]))\n",
    "                determinant = np.linalg.det(squareMatrix) \n",
    "                if determinant == 0: #if determinant is 0, the vectors are not linearly dependent\n",
    "                    return False\n",
    "\n",
    "    # check if a0,b0 and any two random selected pairs of vectors are linearly independent\n",
    "    for v1 in range(1,4): #1st vector from 1 to 3\n",
    "        for v2 in range(v1+1,5):\n",
    "            squareMatrix = np.vstack((a[0], b[0], a[v1], b[v1], a[v2], b[v2]))\n",
    "            determinant = np.linalg.det(squareMatrix) \n",
    "            if determinant == 0: #if determinant is 0, the vectors are not linearly dependent\n",
    "                return False\n",
    "    return True\n",
    "\n",
    "# Generate 4 a,b pairs using rand_key \n",
    "# Any 3 pairs must pass check_dependency\n",
    "def generate_ab():\n",
    "    while True:\n",
    "        alist = [a_0]\n",
    "        blist = [b_0]\n",
    "        # Creates a temporary list of vectors a and b\n",
    "        for i in range(4):\n",
    "            alist.append(rand_key(6))\n",
    "            blist.append(rand_key(6))\n",
    "        if check_dependency(alist, blist) == False:\n",
    "            continue\n",
    "        else:\n",
    "            a, b = alist[1:], blist[1:]\n",
    "            return[np.vstack(a), np.vstack(b)]\n",
    "            break\n",
    "ab = generate_ab()\n",
    "a, b = ab[0], ab[1]\n",
    "print(a)\n",
    "print(b)"
   ]
  },
  {
   "cell_type": "code",
   "execution_count": 24,
   "metadata": {},
   "outputs": [
    {
     "name": "stdout",
     "output_type": "stream",
     "text": [
      "[[0 0 0 1 0 0]\n",
      " [0 0 1 1 0 0]\n",
      " [0 0 1 0 0 0]\n",
      " [0 0 1 0 1 0]\n",
      " [0 0 1 1 0 0]\n",
      " [1 0 1 0 0 0]\n",
      " [0 1 0 0 0 0]\n",
      " [1 0 1 0 0 0]\n",
      " [0 0 0 1 0 0]\n",
      " [0 0 0 1 0 0]\n",
      " [0 0 1 0 1 0]\n",
      " [0 0 1 1 1 0]\n",
      " [0 0 1 0 1 0]\n",
      " [0 0 1 0 0 0]\n",
      " [1 0 1 0 0 0]\n",
      " [0 0 1 0 0 0]\n",
      " [0 0 1 1 0 0]\n",
      " [0 1 0 0 0 0]\n",
      " [0 0 0 1 1 0]\n",
      " [0 0 1 0 0 0]\n",
      " [0 0 1 1 0 0]]\n",
      "Potter\n"
     ]
    }
   ],
   "source": [
    "# Function to converting String to binary array\n",
    "def str_to_bits(s): \n",
    "    res = ''.join(format(ord(i), 'b') for i in s) \n",
    "    bitsArray = []\n",
    "    for i in res:\n",
    "        bitsArray.append(int(i))\n",
    "    return bitsArray\n",
    "password_raw = str_to_bits('Potter')\n",
    "# 2xn matrix password\n",
    "password = np.vstack(np.array_split(password_raw, len(password_raw)/2))\n",
    "u_i = []\n",
    "for st in password:\n",
    "    u_i.append(random_vector(st[0], st[1]))\n",
    "\n",
    "\n",
    "#secret vector u\n",
    "print(np.vstack(u_i))\n",
    "\n",
    "# Function to converting binary array to string\n",
    "def bits_to_str(b):\n",
    "    NumOfChar = int(len(b)/7)\n",
    "    string = ''\n",
    "    for i in range(NumOfChar):\n",
    "        # 7 digits represents 1 char\n",
    "        bitsChar = ''.join(str(j) for j in b[7*i:7*i+7]) \n",
    "        # convert binary to decimal\n",
    "        decimalChar = int(bitsChar,2)\n",
    "        #convert decimal to string\n",
    "        string = string + chr(decimalChar) \n",
    "    return string\n",
    "s_i = np.dot(u_i, a_0)\n",
    "t_i = np.dot(u_i, b_0)\n",
    "p = []\n",
    "for i in range(len(s_i)):\n",
    "    p.append(s_i[i])\n",
    "    p.append(t_i[i])\n",
    "\n",
    "# Just to verify u_i, s_i and t_i are correct, we check to see\n",
    "# if we get back the original string\n",
    "print(bits_to_str(p))"
   ]
  },
  {
   "cell_type": "code",
   "execution_count": 13,
   "metadata": {},
   "outputs": [
    {
     "name": "stdout",
     "output_type": "stream",
     "text": [
      "𝛽_i = [0, 1, 0, 0]\n",
      "𝛾_i = [0, 0, 1, 0]\n"
     ]
    }
   ],
   "source": [
    "# 𝛽1 = 𝐚1⋅u \n",
    "# 𝛾1 = 𝐛1⋅u\n",
    "\n",
    "# Function takes in a_i, b_i and  𝛽 and 𝛾\n",
    "def secret_bit(a, b, u):\n",
    "    beta = [i%2 for i in np.dot(a, u)]\n",
    "    gamma = [j%2 for j in np.dot(b, u)]\n",
    "    return [beta, gamma]\n",
    "\n",
    "ab = generate_ab()\n",
    "a, b = ab[0], ab[1]\n",
    "beta_gamma = secret_bit(a, b, vector_u)\n",
    "beta_i, gamma_i = beta_gamma[0], beta_gamma[1]\n",
    "print(f\"𝛽_i = {beta_i}\")\n",
    "print(f\"𝛾_i = {gamma_i}\")"
   ]
  },
  {
   "cell_type": "code",
   "execution_count": 27,
   "metadata": {},
   "outputs": [
    {
     "name": "stdout",
     "output_type": "stream",
     "text": [
      "[[ 0  0 -1  0  0  1]\n",
      " [ 0  0 -1  0  0  1]\n",
      " [ 0  0 -1  0  0  1]\n",
      " [ 0  0 -1  0  0  1]]\n",
      "[1 1 0 1 0 1]\n"
     ]
    }
   ],
   "source": [
    "# Function to generate all the 4 combinations\n",
    "def comb(a, b, beta, gamma):\n",
    "    # Generates a list of combinations\n",
    "    arr = [0, 1, 2, 3] \n",
    "    # x = [(0, 1, 2), (0, 1, 3), (0, 2, 3), (1, 2, 3)]\n",
    "    x = list(combinations(arr, 3))\n",
    "    combination = []\n",
    "    for i in range(4):\n",
    "        n = x[i]\n",
    "        combi = []\n",
    "        secret =  []\n",
    "        for j in range(3):\n",
    "            combi.append(a[n[j]])\n",
    "            combi.append(b[n[j]])\n",
    "            secret.append(beta[n[j]])\n",
    "            secret.append(gamma[n[j]])\n",
    "        combination.append([combi, secret])\n",
    "    return combination\n",
    "\n",
    "c = comb(a, b, beta_i, gamma_i)\n",
    "u_j = []\n",
    "for j in range(4):\n",
    "    u_j.append([int(n) for n in linalg.solve(c[j][0], c[j][1])])\n",
    "print(np.vstack(u_j))\n",
    "print(a_0)"
   ]
  },
  {
   "cell_type": "code",
   "execution_count": 15,
   "metadata": {},
   "outputs": [
    {
     "name": "stdout",
     "output_type": "stream",
     "text": [
      "raw password bits = [1, 0, 1, 0, 0, 0, 0, 1, 1, 0, 1, 1, 1, 1, 1, 1, 1, 0, 1, 0, 0, 1, 1, 1, 0, 1, 0, 0, 1, 1, 0, 0, 1, 0, 1, 1, 1, 1, 0, 0, 1, 0]\n",
      "\n",
      "Potter\n"
     ]
    }
   ],
   "source": [
    "s_j = np.dot(u_j, a_0)\n",
    "t_j = np.dot(u_j, b_0)\n",
    "p_raw = []\n",
    "for i in range(len(s_i)):\n",
    "    p_raw.append(s_i[i])\n",
    "    p_raw.append(t_i[i])\n",
    "\n",
    "# Return check if the resultant bits in p_raw equates to the string\n",
    "print(f\"raw password bits = {p_raw}\")\n",
    "print()\n",
    "print(bits_to_str(p_raw))"
   ]
  }
 ],
 "metadata": {
  "kernelspec": {
   "display_name": "Python 3",
   "language": "python",
   "name": "python3"
  },
  "language_info": {
   "codemirror_mode": {
    "name": "ipython",
    "version": 3
   },
   "file_extension": ".py",
   "mimetype": "text/x-python",
   "name": "python",
   "nbconvert_exporter": "python",
   "pygments_lexer": "ipython3",
   "version": "3.8.3"
  }
 },
 "nbformat": 4,
 "nbformat_minor": 4
}
